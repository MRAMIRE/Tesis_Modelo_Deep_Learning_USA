{
  "nbformat": 4,
  "nbformat_minor": 0,
  "metadata": {
    "colab": {
      "name": "3. Pre-PorcesamientoV2-Data",
      "provenance": [],
      "collapsed_sections": [
        "78Q0_2-Kmclk",
        "neSwRRMmmkhz",
        "1Hv2Lq7poAKS",
        "L0IiUZyg9ahQ",
        "XkBkrSSr9Ui2",
        "toHe5uo99POX",
        "TyRiuRqD8-oT",
        "9pphAAZq9JNa"
      ],
      "include_colab_link": true
    },
    "kernelspec": {
      "name": "python3",
      "display_name": "Python 3"
    }
  },
  "cells": [
    {
      "cell_type": "markdown",
      "metadata": {
        "id": "view-in-github",
        "colab_type": "text"
      },
      "source": [
        "<a href=\"https://colab.research.google.com/github/MRAMIRE/Tesis_Modelo_Deep_Learning_USA/blob/master/3_Pre_PorcesamientoV2_Data.ipynb\" target=\"_parent\"><img src=\"https://colab.research.google.com/assets/colab-badge.svg\" alt=\"Open In Colab\"/></a>"
      ]
    },
    {
      "cell_type": "markdown",
      "metadata": {
        "id": "ZUcXSr6PmPG4",
        "colab_type": "text"
      },
      "source": [
        "# **PRE-PROCESAMIENTO DE DATA (SEPARACIÓN DE TRAIN Y TEST):**\n",
        "\n",
        "###FELIPE ANTONIO MELO CIFUENTES\n",
        "\n",
        "###MARIA CAMILA RAMIREZ FERRO\n"
      ]
    },
    {
      "cell_type": "markdown",
      "metadata": {
        "id": "78Q0_2-Kmclk",
        "colab_type": "text"
      },
      "source": [
        "#####Importar librerias:"
      ]
    },
    {
      "cell_type": "code",
      "metadata": {
        "id": "XSH9xD5tmBJX",
        "colab_type": "code",
        "colab": {}
      },
      "source": [
        "from google.colab import drive\n",
        "import os\n",
        "import cv2\n",
        "import numpy as np\n",
        "import pandas as pd\n",
        "import matplotlib\n",
        "import pylab as plt\n",
        "import seaborn as sns\n",
        "from sklearn.model_selection import train_test_split\n",
        "%matplotlib inline"
      ],
      "execution_count": 0,
      "outputs": []
    },
    {
      "cell_type": "markdown",
      "metadata": {
        "id": "neSwRRMmmkhz",
        "colab_type": "text"
      },
      "source": [
        "##### Permisos y cambio de directorio:"
      ]
    },
    {
      "cell_type": "code",
      "metadata": {
        "id": "iCNVcZKGmlYs",
        "colab_type": "code",
        "outputId": "3f7b5fa5-c02f-4d96-b954-78a5bdb8dea9",
        "colab": {
          "base_uri": "https://localhost:8080/"
        }
      },
      "source": [
        "# Permisos\n",
        "drive.mount('/gdrive')\n",
        "\n",
        "# Cambio de Directorio\n",
        "%cd /gdrive/My\\ Drive/Tesis\n",
        "\n",
        "# Contenido del Directorio actual\n",
        "%ls"
      ],
      "execution_count": 0,
      "outputs": [
        {
          "output_type": "stream",
          "text": [
            "Go to this URL in a browser: https://accounts.google.com/o/oauth2/auth?client_id=947318989803-6bn6qk8qdgf4n4g3pfee6491hc0brc4i.apps.googleusercontent.com&redirect_uri=urn%3aietf%3awg%3aoauth%3a2.0%3aoob&response_type=code&scope=email%20https%3a%2f%2fwww.googleapis.com%2fauth%2fdocs.test%20https%3a%2f%2fwww.googleapis.com%2fauth%2fdrive%20https%3a%2f%2fwww.googleapis.com%2fauth%2fdrive.photos.readonly%20https%3a%2f%2fwww.googleapis.com%2fauth%2fpeopleapi.readonly\n",
            "\n",
            "Enter your authorization code:\n",
            "··········\n",
            "Mounted at /gdrive\n",
            "/gdrive/My Drive/Tesis\n",
            "'1. Exploración de los Datos'                            \u001b[0m\u001b[01;34mruns\u001b[0m/\n",
            "'2. Visualización de la Data.ipynb'                      sample_submission.csv\n",
            "'3. Pre-PorcesamientoV2-Data.Pre-PorcesamientoV2-Data'   set_test.csv\n",
            "'4. Data Set.ipynb'                                      set_train.csv\n",
            "'5. Entrenamiento'                                       \u001b[01;34mtest_images\u001b[0m/\n",
            " \u001b[01;34mcheckpoints\u001b[0m/                                            train.csv\n",
            " Clon                                                    \u001b[01;34mtrain_images\u001b[0m/\n",
            " Pre-Porcesamiento-Data                                  \u001b[01;34mutlis\u001b[0m/\n",
            "'Prueba red.ipynb'\n"
          ],
          "name": "stdout"
        }
      ]
    },
    {
      "cell_type": "markdown",
      "metadata": {
        "id": "1Hv2Lq7poAKS",
        "colab_type": "text"
      },
      "source": [
        "##### Lectura del archivo csv train:"
      ]
    },
    {
      "cell_type": "code",
      "metadata": {
        "id": "RqtSVZWen9e9",
        "colab_type": "code",
        "outputId": "97affae4-aaf3-4b72-c9fb-c0e85faf3c63",
        "colab": {
          "base_uri": "https://localhost:8080/",
          "height": 216
        }
      },
      "source": [
        "# Creación de la variable df_train\n",
        "df_train = pd.read_csv('train.csv')\n",
        "\n",
        "# Muesta los primeros registros de df_train\n",
        "print('La cantidad de registros en el documento son :',df_train.shape[0])\n",
        "df_train.head()"
      ],
      "execution_count": 0,
      "outputs": [
        {
          "output_type": "stream",
          "text": [
            "La cantidad de registros en el documento son : 22184\n"
          ],
          "name": "stdout"
        },
        {
          "output_type": "execute_result",
          "data": {
            "text/html": [
              "<div>\n",
              "<style scoped>\n",
              "    .dataframe tbody tr th:only-of-type {\n",
              "        vertical-align: middle;\n",
              "    }\n",
              "\n",
              "    .dataframe tbody tr th {\n",
              "        vertical-align: top;\n",
              "    }\n",
              "\n",
              "    .dataframe thead th {\n",
              "        text-align: right;\n",
              "    }\n",
              "</style>\n",
              "<table border=\"1\" class=\"dataframe\">\n",
              "  <thead>\n",
              "    <tr style=\"text-align: right;\">\n",
              "      <th></th>\n",
              "      <th>Image_Label</th>\n",
              "      <th>EncodedPixels</th>\n",
              "    </tr>\n",
              "  </thead>\n",
              "  <tbody>\n",
              "    <tr>\n",
              "      <th>0</th>\n",
              "      <td>0011165.jpg_Fish</td>\n",
              "      <td>264918 937 266318 937 267718 937 269118 937 27...</td>\n",
              "    </tr>\n",
              "    <tr>\n",
              "      <th>1</th>\n",
              "      <td>0011165.jpg_Flower</td>\n",
              "      <td>1355565 1002 1356965 1002 1358365 1002 1359765...</td>\n",
              "    </tr>\n",
              "    <tr>\n",
              "      <th>2</th>\n",
              "      <td>0011165.jpg_Gravel</td>\n",
              "      <td>NaN</td>\n",
              "    </tr>\n",
              "    <tr>\n",
              "      <th>3</th>\n",
              "      <td>0011165.jpg_Sugar</td>\n",
              "      <td>NaN</td>\n",
              "    </tr>\n",
              "    <tr>\n",
              "      <th>4</th>\n",
              "      <td>002be4f.jpg_Fish</td>\n",
              "      <td>233813 878 235213 878 236613 878 238010 881 23...</td>\n",
              "    </tr>\n",
              "  </tbody>\n",
              "</table>\n",
              "</div>"
            ],
            "text/plain": [
              "          Image_Label                                      EncodedPixels\n",
              "0    0011165.jpg_Fish  264918 937 266318 937 267718 937 269118 937 27...\n",
              "1  0011165.jpg_Flower  1355565 1002 1356965 1002 1358365 1002 1359765...\n",
              "2  0011165.jpg_Gravel                                                NaN\n",
              "3   0011165.jpg_Sugar                                                NaN\n",
              "4    002be4f.jpg_Fish  233813 878 235213 878 236613 878 238010 881 23..."
            ]
          },
          "metadata": {
            "tags": []
          },
          "execution_count": 10
        }
      ]
    },
    {
      "cell_type": "markdown",
      "metadata": {
        "id": "L0IiUZyg9ahQ",
        "colab_type": "text"
      },
      "source": [
        "##### Creación de un nuevo df_train"
      ]
    },
    {
      "cell_type": "code",
      "metadata": {
        "id": "YQ7-475cugVm",
        "colab_type": "code",
        "outputId": "e2eb6ca3-768d-45ea-b9bd-dc3ca697e5ad",
        "colab": {
          "base_uri": "https://localhost:8080/",
          "height": 198
        }
      },
      "source": [
        "# Separar columna \"Image_Label\"\n",
        "df_split = df_train[\"Image_Label\"].str.split(\"_\", n = 1, expand = True)\n",
        "\n",
        "# Agregar nuevas columnas (Image,Label) a df_train\n",
        "df_train['Image'] = df_split[0]\n",
        "df_train['Label'] = df_split[1]\n",
        "\n",
        "df_train.head()"
      ],
      "execution_count": 0,
      "outputs": [
        {
          "output_type": "execute_result",
          "data": {
            "text/html": [
              "<div>\n",
              "<style scoped>\n",
              "    .dataframe tbody tr th:only-of-type {\n",
              "        vertical-align: middle;\n",
              "    }\n",
              "\n",
              "    .dataframe tbody tr th {\n",
              "        vertical-align: top;\n",
              "    }\n",
              "\n",
              "    .dataframe thead th {\n",
              "        text-align: right;\n",
              "    }\n",
              "</style>\n",
              "<table border=\"1\" class=\"dataframe\">\n",
              "  <thead>\n",
              "    <tr style=\"text-align: right;\">\n",
              "      <th></th>\n",
              "      <th>Image_Label</th>\n",
              "      <th>EncodedPixels</th>\n",
              "      <th>Image</th>\n",
              "      <th>Label</th>\n",
              "    </tr>\n",
              "  </thead>\n",
              "  <tbody>\n",
              "    <tr>\n",
              "      <th>0</th>\n",
              "      <td>0011165.jpg_Fish</td>\n",
              "      <td>264918 937 266318 937 267718 937 269118 937 27...</td>\n",
              "      <td>0011165.jpg</td>\n",
              "      <td>Fish</td>\n",
              "    </tr>\n",
              "    <tr>\n",
              "      <th>1</th>\n",
              "      <td>0011165.jpg_Flower</td>\n",
              "      <td>1355565 1002 1356965 1002 1358365 1002 1359765...</td>\n",
              "      <td>0011165.jpg</td>\n",
              "      <td>Flower</td>\n",
              "    </tr>\n",
              "    <tr>\n",
              "      <th>2</th>\n",
              "      <td>0011165.jpg_Gravel</td>\n",
              "      <td>NaN</td>\n",
              "      <td>0011165.jpg</td>\n",
              "      <td>Gravel</td>\n",
              "    </tr>\n",
              "    <tr>\n",
              "      <th>3</th>\n",
              "      <td>0011165.jpg_Sugar</td>\n",
              "      <td>NaN</td>\n",
              "      <td>0011165.jpg</td>\n",
              "      <td>Sugar</td>\n",
              "    </tr>\n",
              "    <tr>\n",
              "      <th>4</th>\n",
              "      <td>002be4f.jpg_Fish</td>\n",
              "      <td>233813 878 235213 878 236613 878 238010 881 23...</td>\n",
              "      <td>002be4f.jpg</td>\n",
              "      <td>Fish</td>\n",
              "    </tr>\n",
              "  </tbody>\n",
              "</table>\n",
              "</div>"
            ],
            "text/plain": [
              "          Image_Label  ...   Label\n",
              "0    0011165.jpg_Fish  ...    Fish\n",
              "1  0011165.jpg_Flower  ...  Flower\n",
              "2  0011165.jpg_Gravel  ...  Gravel\n",
              "3   0011165.jpg_Sugar  ...   Sugar\n",
              "4    002be4f.jpg_Fish  ...    Fish\n",
              "\n",
              "[5 rows x 4 columns]"
            ]
          },
          "metadata": {
            "tags": []
          },
          "execution_count": 4
        }
      ]
    },
    {
      "cell_type": "code",
      "metadata": {
        "id": "Ipkv17Jnuxtj",
        "colab_type": "code",
        "outputId": "b3e98b31-a2d8-4b29-9f87-8609c30cadf2",
        "colab": {
          "base_uri": "https://localhost:8080/",
          "height": 235
        }
      },
      "source": [
        "# Creación de columnas por cada label\n",
        "df_trainfxd = pd.get_dummies(df_train, columns = ['Label'])\n",
        "\n",
        "# Llenado de los datos nulos\n",
        "df_trainfxd = df_trainfxd.fillna('-1')\n",
        "\n",
        "# Definición de función para llenado de registros dummies\n",
        "def fill_dummies(row, label):\n",
        "    if label == 'fish':\n",
        "        return row['Label_Fish'] * (row['EncodedPixels'])\n",
        "    if label == 'flower':\n",
        "        return row['Label_Flower'] * (row['EncodedPixels'])\n",
        "    if label == 'gravel':\n",
        "        return row['Label_Gravel'] * (row['EncodedPixels'])\n",
        "    if label == 'sugar':\n",
        "        return row['Label_Sugar'] * (row['EncodedPixels'])\n",
        "    \n",
        "# Ejecución de función \"fill_dummies\" para el llenado de registros \n",
        "df_trainfxd['Label_Fish'] = df_trainfxd.apply(lambda row: fill_dummies(row, 'fish'), axis=1)\n",
        "df_trainfxd['Label_Flower'] = df_trainfxd.apply(lambda row: fill_dummies(row, 'flower'), axis=1)\n",
        "df_trainfxd['Label_Gravel'] = df_trainfxd.apply(lambda row: fill_dummies(row, 'gravel'), axis=1)\n",
        "df_trainfxd['Label_Sugar'] = df_trainfxd.apply(lambda row: fill_dummies(row, 'sugar'), axis=1)\n",
        "orginal_shape = df_trainfxd.shape\n",
        "\n",
        "print(\"Tomado de: https://www.kaggle.com/aleksandradeis/understanding-clouds-eda\")\n",
        "print(\"\")\n",
        "df_trainfxd.head()"
      ],
      "execution_count": 0,
      "outputs": [
        {
          "output_type": "stream",
          "text": [
            "Tomado de: https://www.kaggle.com/aleksandradeis/understanding-clouds-eda\n",
            "\n"
          ],
          "name": "stdout"
        },
        {
          "output_type": "execute_result",
          "data": {
            "text/html": [
              "<div>\n",
              "<style scoped>\n",
              "    .dataframe tbody tr th:only-of-type {\n",
              "        vertical-align: middle;\n",
              "    }\n",
              "\n",
              "    .dataframe tbody tr th {\n",
              "        vertical-align: top;\n",
              "    }\n",
              "\n",
              "    .dataframe thead th {\n",
              "        text-align: right;\n",
              "    }\n",
              "</style>\n",
              "<table border=\"1\" class=\"dataframe\">\n",
              "  <thead>\n",
              "    <tr style=\"text-align: right;\">\n",
              "      <th></th>\n",
              "      <th>Image_Label</th>\n",
              "      <th>EncodedPixels</th>\n",
              "      <th>Image</th>\n",
              "      <th>Label_Fish</th>\n",
              "      <th>Label_Flower</th>\n",
              "      <th>Label_Gravel</th>\n",
              "      <th>Label_Sugar</th>\n",
              "    </tr>\n",
              "  </thead>\n",
              "  <tbody>\n",
              "    <tr>\n",
              "      <th>0</th>\n",
              "      <td>0011165.jpg_Fish</td>\n",
              "      <td>264918 937 266318 937 267718 937 269118 937 27...</td>\n",
              "      <td>0011165.jpg</td>\n",
              "      <td>264918 937 266318 937 267718 937 269118 937 27...</td>\n",
              "      <td></td>\n",
              "      <td></td>\n",
              "      <td></td>\n",
              "    </tr>\n",
              "    <tr>\n",
              "      <th>1</th>\n",
              "      <td>0011165.jpg_Flower</td>\n",
              "      <td>1355565 1002 1356965 1002 1358365 1002 1359765...</td>\n",
              "      <td>0011165.jpg</td>\n",
              "      <td></td>\n",
              "      <td>1355565 1002 1356965 1002 1358365 1002 1359765...</td>\n",
              "      <td></td>\n",
              "      <td></td>\n",
              "    </tr>\n",
              "    <tr>\n",
              "      <th>2</th>\n",
              "      <td>0011165.jpg_Gravel</td>\n",
              "      <td>-1</td>\n",
              "      <td>0011165.jpg</td>\n",
              "      <td></td>\n",
              "      <td></td>\n",
              "      <td>-1</td>\n",
              "      <td></td>\n",
              "    </tr>\n",
              "    <tr>\n",
              "      <th>3</th>\n",
              "      <td>0011165.jpg_Sugar</td>\n",
              "      <td>-1</td>\n",
              "      <td>0011165.jpg</td>\n",
              "      <td></td>\n",
              "      <td></td>\n",
              "      <td></td>\n",
              "      <td>-1</td>\n",
              "    </tr>\n",
              "    <tr>\n",
              "      <th>4</th>\n",
              "      <td>002be4f.jpg_Fish</td>\n",
              "      <td>233813 878 235213 878 236613 878 238010 881 23...</td>\n",
              "      <td>002be4f.jpg</td>\n",
              "      <td>233813 878 235213 878 236613 878 238010 881 23...</td>\n",
              "      <td></td>\n",
              "      <td></td>\n",
              "      <td></td>\n",
              "    </tr>\n",
              "  </tbody>\n",
              "</table>\n",
              "</div>"
            ],
            "text/plain": [
              "          Image_Label  ... Label_Sugar\n",
              "0    0011165.jpg_Fish  ...            \n",
              "1  0011165.jpg_Flower  ...            \n",
              "2  0011165.jpg_Gravel  ...            \n",
              "3   0011165.jpg_Sugar  ...          -1\n",
              "4    002be4f.jpg_Fish  ...            \n",
              "\n",
              "[5 rows x 7 columns]"
            ]
          },
          "metadata": {
            "tags": []
          },
          "execution_count": 5
        }
      ]
    },
    {
      "cell_type": "code",
      "metadata": {
        "id": "PA6PkVv1vdZm",
        "colab_type": "code",
        "outputId": "fd9d570b-a695-47b6-9d39-8a3f5170bba0",
        "colab": {
          "base_uri": "https://localhost:8080/",
          "height": 246
        }
      },
      "source": [
        "# Creación de nueva matriz de columna \"Image\" contra los labels dentro de ella\n",
        "df_trainfxd = df_trainfxd.groupby('Image')['Label_Fish', 'Label_Flower', 'Label_Gravel', 'Label_Sugar'].max()\n",
        "print(df_trainfxd.shape)\n",
        "df_trainfxd.head()"
      ],
      "execution_count": 0,
      "outputs": [
        {
          "output_type": "stream",
          "text": [
            "(5546, 4)\n"
          ],
          "name": "stdout"
        },
        {
          "output_type": "execute_result",
          "data": {
            "text/html": [
              "<div>\n",
              "<style scoped>\n",
              "    .dataframe tbody tr th:only-of-type {\n",
              "        vertical-align: middle;\n",
              "    }\n",
              "\n",
              "    .dataframe tbody tr th {\n",
              "        vertical-align: top;\n",
              "    }\n",
              "\n",
              "    .dataframe thead th {\n",
              "        text-align: right;\n",
              "    }\n",
              "</style>\n",
              "<table border=\"1\" class=\"dataframe\">\n",
              "  <thead>\n",
              "    <tr style=\"text-align: right;\">\n",
              "      <th></th>\n",
              "      <th>Label_Fish</th>\n",
              "      <th>Label_Flower</th>\n",
              "      <th>Label_Gravel</th>\n",
              "      <th>Label_Sugar</th>\n",
              "    </tr>\n",
              "    <tr>\n",
              "      <th>Image</th>\n",
              "      <th></th>\n",
              "      <th></th>\n",
              "      <th></th>\n",
              "      <th></th>\n",
              "    </tr>\n",
              "  </thead>\n",
              "  <tbody>\n",
              "    <tr>\n",
              "      <th>0011165.jpg</th>\n",
              "      <td>264918 937 266318 937 267718 937 269118 937 27...</td>\n",
              "      <td>1355565 1002 1356965 1002 1358365 1002 1359765...</td>\n",
              "      <td>-1</td>\n",
              "      <td>-1</td>\n",
              "    </tr>\n",
              "    <tr>\n",
              "      <th>002be4f.jpg</th>\n",
              "      <td>233813 878 235213 878 236613 878 238010 881 23...</td>\n",
              "      <td>1339279 519 1340679 519 1342079 519 1343479 51...</td>\n",
              "      <td>-1</td>\n",
              "      <td>67495 350 68895 350 70295 350 71695 350 73095 ...</td>\n",
              "    </tr>\n",
              "    <tr>\n",
              "      <th>0031ae9.jpg</th>\n",
              "      <td>3510 690 4910 690 6310 690 7710 690 9110 690 1...</td>\n",
              "      <td>2047 703 3447 703 4847 703 6247 703 7647 703 9...</td>\n",
              "      <td>-1</td>\n",
              "      <td>658170 388 659570 388 660970 388 662370 388 66...</td>\n",
              "    </tr>\n",
              "    <tr>\n",
              "      <th>0035239.jpg</th>\n",
              "      <td>-1</td>\n",
              "      <td>100812 462 102212 462 103612 462 105012 462 10...</td>\n",
              "      <td>65400 380 66800 380 68200 380 69600 380 71000 ...</td>\n",
              "      <td>-1</td>\n",
              "    </tr>\n",
              "    <tr>\n",
              "      <th>003994e.jpg</th>\n",
              "      <td>2367966 18 2367985 2 2367993 8 2368002 62 2369...</td>\n",
              "      <td>-1</td>\n",
              "      <td>353317 416 354717 416 356117 416 357517 416 35...</td>\n",
              "      <td>28011 489 29411 489 30811 489 32211 489 33611 ...</td>\n",
              "    </tr>\n",
              "  </tbody>\n",
              "</table>\n",
              "</div>"
            ],
            "text/plain": [
              "                                                    Label_Fish  ...                                        Label_Sugar\n",
              "Image                                                           ...                                                   \n",
              "0011165.jpg  264918 937 266318 937 267718 937 269118 937 27...  ...                                                 -1\n",
              "002be4f.jpg  233813 878 235213 878 236613 878 238010 881 23...  ...  67495 350 68895 350 70295 350 71695 350 73095 ...\n",
              "0031ae9.jpg  3510 690 4910 690 6310 690 7710 690 9110 690 1...  ...  658170 388 659570 388 660970 388 662370 388 66...\n",
              "0035239.jpg                                                 -1  ...                                                 -1\n",
              "003994e.jpg  2367966 18 2367985 2 2367993 8 2368002 62 2369...  ...  28011 489 29411 489 30811 489 32211 489 33611 ...\n",
              "\n",
              "[5 rows x 4 columns]"
            ]
          },
          "metadata": {
            "tags": []
          },
          "execution_count": 6
        }
      ]
    },
    {
      "cell_type": "markdown",
      "metadata": {
        "id": "XkBkrSSr9Ui2",
        "colab_type": "text"
      },
      "source": [
        "##### División del set completo de datos df_train en train y test"
      ]
    },
    {
      "cell_type": "code",
      "metadata": {
        "id": "1_poa1xjxpIB",
        "colab_type": "code",
        "outputId": "ffe67933-5702-401d-d3da-cca91a124109",
        "colab": {
          "base_uri": "https://localhost:8080/",
          "height": 90
        }
      },
      "source": [
        "train, test = train_test_split(df_trainfxd,random_state = 6)\n",
        "print(\"El número de registros agrupados por imagenes dentro del set de datos es de \",df_trainfxd.shape[0],\"imagenes.\")\n",
        "print(\"Al dividir df_train en train y test las dimensiones de estos son las siguientes:\")\n",
        "print(\"La cantidad de registros para train es de: \",train.shape[0],\"imagenes o un \",round((train.shape[0]/df_trainfxd.shape[0])*100,2),'% del total.')\n",
        "print(\"La cantidad de registros para test es de: \",test.shape[0],\"imagenes o un \",round((test.shape[0]/df_trainfxd.shape[0])*100,2),'%  del total.')"
      ],
      "execution_count": 0,
      "outputs": [
        {
          "output_type": "stream",
          "text": [
            "El número de registros agrupados por imagenes dentro del set de datos es de  5546 imagenes.\n",
            "Al dividir df_train en train y test las dimensiones de estos son las siguientes:\n",
            "La cantidad de registros para train es de:  4159 imagenes o un  74.99 % del total.\n",
            "La cantidad de registros para test es de:  1387 imagenes o un  25.01 %  del total.\n"
          ],
          "name": "stdout"
        }
      ]
    },
    {
      "cell_type": "markdown",
      "metadata": {
        "id": "toHe5uo99POX",
        "colab_type": "text"
      },
      "source": [
        "##### Análisis de la distribución de labels dentro de los dos nuevos conjuntos creados (train,test)"
      ]
    },
    {
      "cell_type": "code",
      "metadata": {
        "id": "rcLaRMNuzsP-",
        "colab_type": "code",
        "outputId": "95943d9f-6051-4403-88f3-ecac5610748d",
        "colab": {
          "base_uri": "https://localhost:8080/",
          "height": 731
        }
      },
      "source": [
        "# Conteo por label contra los valores validos de EncodedPixel para el set de datos en Train\n",
        "\n",
        "fish = 0\n",
        "flower = 0\n",
        "gravel = 0\n",
        "sugar = 0\n",
        "for i in train['Label_Fish']:\n",
        "  if len(i) >= 3:\n",
        "    fish += 1\n",
        "for i in train['Label_Flower']:\n",
        "  if len(i) >= 3:\n",
        "    flower += 1\n",
        "for i in train['Label_Gravel']:\n",
        "  if len(i) >= 3:\n",
        "    gravel += 1\n",
        "for i in train['Label_Sugar']:\n",
        "  if len(i) >= 3:\n",
        "    sugar += 1\n",
        "\n",
        "labels = 'Sugar', 'Gravel', 'Fish', 'Flower'\n",
        "sizes = [sugar, gravel, fish, flower]\n",
        "\n",
        "fig, ax = plt.subplots(figsize=(6, 6))\n",
        "colores= ['#FFA07A','#D8BFD8','#66CDAA','#FFDEAD']\n",
        "ax.pie(sizes, labels=labels, autopct='%1.1f%%', colors=colores)\n",
        "ax.axis('equal')\n",
        "ax.set_title('PROPORCIÓN DE ETIQUETAS EN TRAIN')\n",
        "plt.show()\n",
        "\n",
        "# Conteo por label contra los valores validos de EncodedPixel para el set de datos en Test\n",
        "\n",
        "fish = 0\n",
        "flower = 0\n",
        "gravel = 0\n",
        "sugar = 0\n",
        "for i in test['Label_Fish']:\n",
        "  if len(i) >= 3:\n",
        "    fish += 1\n",
        "for i in test['Label_Flower']:\n",
        "  if len(i) >= 3:\n",
        "    flower += 1\n",
        "for i in test['Label_Gravel']:\n",
        "  if len(i) >= 3:\n",
        "    gravel += 1\n",
        "for i in test['Label_Sugar']:\n",
        "  if len(i) >= 3:\n",
        "    sugar += 1\n",
        "\n",
        "labels = 'Sugar', 'Gravel', 'Fish', 'Flower'\n",
        "sizes = [sugar, gravel, fish, flower]\n",
        "\n",
        "fig, ax = plt.subplots(figsize=(6, 6))\n",
        "colores= ['#FFA07A','#D8BFD8','#66CDAA','#FFDEAD']\n",
        "ax.pie(sizes, labels=labels, autopct='%1.1f%%', colors=colores)\n",
        "ax.axis('equal')\n",
        "ax.set_title('PROPORCIÓN DE ETIQUETAS EN TEST')\n",
        "plt.show()\n"
      ],
      "execution_count": 0,
      "outputs": [
        {
          "output_type": "display_data",
          "data": {
            "image/png": "[encoded data removed]",
            "text/plain": [
              "<Figure size 432x432 with 1 Axes>"
            ]
          },
          "metadata": {
            "tags": []
          }
        },
        {
          "output_type": "display_data",
          "data": {
            "image/png": "[encoded data removed]",
            "text/plain": [
              "<Figure size 432x432 with 1 Axes>"
            ]
          },
          "metadata": {
            "tags": []
          }
        }
      ]
    },
    {
      "cell_type": "markdown",
      "metadata": {
        "id": "TyRiuRqD8-oT",
        "colab_type": "text"
      },
      "source": [
        "##### Proporción de nulos para set de datos Train y Test"
      ]
    },
    {
      "cell_type": "code",
      "metadata": {
        "id": "gE7VhkBu4U7_",
        "colab_type": "code",
        "outputId": "3725e5df-4dcf-48f1-eed9-e0d6b2b29231",
        "colab": {
          "base_uri": "https://localhost:8080/",
          "height": 86
        }
      },
      "source": [
        "# Conteo de nulos para el set de datos Train\n",
        "\n",
        "null = 0\n",
        "for i in train['Label_Fish']:\n",
        "  if i == '-1':\n",
        "    null += 1\n",
        "for i in train['Label_Flower']:\n",
        "  if i == '-1':\n",
        "    null += 1\n",
        "for i in train['Label_Gravel']:\n",
        "  if i == '-1':\n",
        "    null += 1\n",
        "for i in train['Label_Sugar']:\n",
        "  if i == '-1':\n",
        "    null += 1\n",
        "\n",
        "print(\"Cantidad de registros dentro de train: \",train.shape[0]*4)\n",
        "print(\"Registros validos en la columna EncodedPixels train: \",train.shape[0]*4-null)\n",
        "print(\"Registros nulos en la columna EncodedPixels train: \",null)\n",
        "print(\"\")\n"
      ],
      "execution_count": 0,
      "outputs": [
        {
          "output_type": "stream",
          "text": [
            "Cantidad de registros dentro de train:  16636\n",
            "Registros validos en la columna EncodedPixels train:  8875\n",
            "Registros nulos en la columna EncodedPixels train:  7761\n",
            "\n"
          ],
          "name": "stdout"
        }
      ]
    },
    {
      "cell_type": "code",
      "metadata": {
        "id": "AR1TUDc_4dN5",
        "colab_type": "code",
        "outputId": "ef432a11-9d51-42b4-a3d3-6cd506d87139",
        "colab": {
          "base_uri": "https://localhost:8080/",
          "height": 86
        }
      },
      "source": [
        "# Conteo de nulos para el set de datos Test\n",
        "\n",
        "null = 0\n",
        "for i in test['Label_Fish']:\n",
        "  if i == '-1':\n",
        "    null += 1\n",
        "for i in test['Label_Flower']:\n",
        "  if i == '-1':\n",
        "    null += 1\n",
        "for i in test['Label_Gravel']:\n",
        "  if i == '-1':\n",
        "    null += 1\n",
        "for i in test['Label_Sugar']:\n",
        "  if i == '-1':\n",
        "    null += 1\n",
        "\n",
        "print(\"Cantidad de registros dentro de train: \",test.shape[0]*4)\n",
        "print(\"Registros validos en la columna EncodedPixels train: \",test.shape[0]*4-null)\n",
        "print(\"Registros nulos en la columna EncodedPixels train: \",null)\n",
        "print(\"\")"
      ],
      "execution_count": 0,
      "outputs": [
        {
          "output_type": "stream",
          "text": [
            "Cantidad de registros dentro de train:  5548\n",
            "Registros validos en la columna EncodedPixels train:  2961\n",
            "Registros nulos en la columna EncodedPixels train:  2587\n",
            "\n"
          ],
          "name": "stdout"
        }
      ]
    },
    {
      "cell_type": "markdown",
      "metadata": {
        "id": "9pphAAZq9JNa",
        "colab_type": "text"
      },
      "source": [
        "##### Exportar a CSV set de datos"
      ]
    },
    {
      "cell_type": "code",
      "metadata": {
        "id": "rtMh9ySv-Z4-",
        "colab_type": "code",
        "colab": {}
      },
      "source": [
        "# Exporte de datos en csv para train\n",
        "\n",
        "# Nombre del csv de salida de train \n",
        "output_name = \"set_train.csv\"\n",
        "\n",
        "train.to_csv(output_name, sep=',', index=True, header=True)\n",
        "!cp $output_name /Tesis"
      ],
      "execution_count": 0,
      "outputs": []
    },
    {
      "cell_type": "code",
      "metadata": {
        "id": "l1f0o2fz_TsH",
        "colab_type": "code",
        "colab": {}
      },
      "source": [
        "# Exporte de datos en csv para test\n",
        "\n",
        "# Nombre del csv de salida de test\n",
        "output_name = \"set_test.csv\"\n",
        "\n",
        "test.to_csv(output_name, sep=',', index=True, header=True)\n",
        "!cp $output_name /Tesis"
      ],
      "execution_count": 0,
      "outputs": []
    }
  ]
}