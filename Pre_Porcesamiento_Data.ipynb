{
  "nbformat": 4,
  "nbformat_minor": 0,
  "metadata": {
    "colab": {
      "name": "Pre-Porcesamiento-Data",
      "provenance": [],
      "collapsed_sections": [
        "78Q0_2-Kmclk",
        "1Hv2Lq7poAKS",
        "Ml1riv-_wdSy",
        "E3IqkPxP7Q5I"
      ],
      "include_colab_link": true
    },
    "kernelspec": {
      "name": "python3",
      "display_name": "Python 3"
    }
  },
  "cells": [
    {
      "cell_type": "markdown",
      "metadata": {
        "id": "view-in-github",
        "colab_type": "text"
      },
      "source": [
        "<a href=\"https://colab.research.google.com/github/MRAMIRE/Tesis_Modelo_Deep_Learning_USA/blob/master/Pre_Porcesamiento_Data.ipynb\" target=\"_parent\"><img src=\"https://colab.research.google.com/assets/colab-badge.svg\" alt=\"Open In Colab\"/></a>"
      ]
    },
    {
      "cell_type": "markdown",
      "metadata": {
        "id": "ZUcXSr6PmPG4",
        "colab_type": "text"
      },
      "source": [
        "# **PRE-PROCESAMIENTO DE DATA (SEPARACIÓN DE TRAIN Y TEST):**\n",
        "\n",
        "###FELIPE ANTONIO MELO CIFUENTES\n",
        "\n",
        "###MARIA CAMILA RAMIREZ FERRO\n"
      ]
    },
    {
      "cell_type": "markdown",
      "metadata": {
        "id": "78Q0_2-Kmclk",
        "colab_type": "text"
      },
      "source": [
        "#####Importar librerias:"
      ]
    },
    {
      "cell_type": "code",
      "metadata": {
        "id": "XSH9xD5tmBJX",
        "colab_type": "code",
        "colab": {}
      },
      "source": [
        "from google.colab import drive\n",
        "import os\n",
        "import cv2\n",
        "import numpy as np\n",
        "import pandas as pd\n",
        "import matplotlib\n",
        "import pylab as plt\n",
        "import seaborn as sns\n",
        "from sklearn.model_selection import train_test_split\n",
        "%matplotlib inline"
      ],
      "execution_count": 0,
      "outputs": []
    },
    {
      "cell_type": "markdown",
      "metadata": {
        "id": "neSwRRMmmkhz",
        "colab_type": "text"
      },
      "source": [
        "##### Permisos y cambio de directorio:"
      ]
    },
    {
      "cell_type": "code",
      "metadata": {
        "id": "iCNVcZKGmlYs",
        "colab_type": "code",
        "outputId": "b027dae1-67f6-4a15-d101-94de634368fa",
        "colab": {
          "base_uri": "https://localhost:8080/",
          "height": 141
        }
      },
      "source": [
        "# Permisos\n",
        "drive.mount('/gdrive')\n",
        "\n",
        "# Cambio de Directorio\n",
        "%cd /gdrive/My\\ Drive/Tesis\n",
        "\n",
        "# Contenido del Directorio actual\n",
        "%ls"
      ],
      "execution_count": 199,
      "outputs": [
        {
          "output_type": "stream",
          "text": [
            "Drive already mounted at /gdrive; to attempt to forcibly remount, call drive.mount(\"/gdrive\", force_remount=True).\n",
            "/gdrive/My Drive/Tesis\n",
            "'Exploración de los Datos'    Pre-Porcesamiento-Data   \u001b[0m\u001b[01;34mtest_images\u001b[0m/\n",
            " Leer-Csv-Prueba.ipynb        Prueba                   train.csv\n",
            "'Leer CSV train.ipynb'        Prueba-v2-csv            \u001b[01;34mtrain_images\u001b[0m/\n",
            "'Leer imágenes-Tesis.ipynb'   sample_submission.csv\n"
          ],
          "name": "stdout"
        }
      ]
    },
    {
      "cell_type": "markdown",
      "metadata": {
        "id": "1Hv2Lq7poAKS",
        "colab_type": "text"
      },
      "source": [
        "##### Lectura del archivo csv train:"
      ]
    },
    {
      "cell_type": "code",
      "metadata": {
        "id": "RqtSVZWen9e9",
        "colab_type": "code",
        "outputId": "ba738535-1384-41a4-d004-6689e5355432",
        "colab": {
          "base_uri": "https://localhost:8080/",
          "height": 385
        }
      },
      "source": [
        "# Creación de la variable df_train\n",
        "df_train = pd.read_csv('train.csv')\n",
        "\n",
        "# Muesta los primeros registros de df_train\n",
        "print(df_train.shape)\n",
        "df_train.head()"
      ],
      "execution_count": 200,
      "outputs": [
        {
          "output_type": "stream",
          "text": [
            "(22184, 2)\n"
          ],
          "name": "stdout"
        },
        {
          "output_type": "execute_result",
          "data": {
            "text/html": [
              "<div>\n",
              "<style scoped>\n",
              "    .dataframe tbody tr th:only-of-type {\n",
              "        vertical-align: middle;\n",
              "    }\n",
              "\n",
              "    .dataframe tbody tr th {\n",
              "        vertical-align: top;\n",
              "    }\n",
              "\n",
              "    .dataframe thead th {\n",
              "        text-align: right;\n",
              "    }\n",
              "</style>\n",
              "<table border=\"1\" class=\"dataframe\">\n",
              "  <thead>\n",
              "    <tr style=\"text-align: right;\">\n",
              "      <th></th>\n",
              "      <th>Image_Label</th>\n",
              "      <th>EncodedPixels</th>\n",
              "    </tr>\n",
              "  </thead>\n",
              "  <tbody>\n",
              "    <tr>\n",
              "      <th>0</th>\n",
              "      <td>0011165.jpg_Fish</td>\n",
              "      <td>264918 937 266318 937 267718 937 269118 937 27...</td>\n",
              "    </tr>\n",
              "    <tr>\n",
              "      <th>1</th>\n",
              "      <td>0011165.jpg_Flower</td>\n",
              "      <td>1355565 1002 1356965 1002 1358365 1002 1359765...</td>\n",
              "    </tr>\n",
              "    <tr>\n",
              "      <th>2</th>\n",
              "      <td>0011165.jpg_Gravel</td>\n",
              "      <td>NaN</td>\n",
              "    </tr>\n",
              "    <tr>\n",
              "      <th>3</th>\n",
              "      <td>0011165.jpg_Sugar</td>\n",
              "      <td>NaN</td>\n",
              "    </tr>\n",
              "    <tr>\n",
              "      <th>4</th>\n",
              "      <td>002be4f.jpg_Fish</td>\n",
              "      <td>233813 878 235213 878 236613 878 238010 881 23...</td>\n",
              "    </tr>\n",
              "  </tbody>\n",
              "</table>\n",
              "</div>"
            ],
            "text/plain": [
              "          Image_Label                                      EncodedPixels\n",
              "0    0011165.jpg_Fish  264918 937 266318 937 267718 937 269118 937 27...\n",
              "1  0011165.jpg_Flower  1355565 1002 1356965 1002 1358365 1002 1359765...\n",
              "2  0011165.jpg_Gravel                                                NaN\n",
              "3   0011165.jpg_Sugar                                                NaN\n",
              "4    002be4f.jpg_Fish  233813 878 235213 878 236613 878 238010 881 23..."
            ]
          },
          "metadata": {
            "tags": []
          },
          "execution_count": 200
        }
      ]
    },
    {
      "cell_type": "markdown",
      "metadata": {
        "id": "Ml1riv-_wdSy",
        "colab_type": "text"
      },
      "source": [
        "##### Creación de un nuevo df_train"
      ]
    },
    {
      "cell_type": "code",
      "metadata": {
        "id": "fOdsnDNpsSax",
        "colab_type": "code",
        "outputId": "f4f8120f-450e-4fd9-8f6f-5c3cdc5e8d85",
        "colab": {
          "base_uri": "https://localhost:8080/",
          "height": 369
        }
      },
      "source": [
        "#Antes de correr (ctrl+F8)\n",
        "ruta = './train_images'\n",
        "df_split = df_train[\"Image_Label\"].str.split(\"_\", n = 1, expand = True)\n",
        "df_train['Ruta']= (ruta + '/' + df_split[0])\n",
        "df_train['Image_Label']=df_split[1]\n",
        "df_train.columns = ['Label','EncodedPixels','Ruta']\n",
        "df_train.head()"
      ],
      "execution_count": 201,
      "outputs": [
        {
          "output_type": "execute_result",
          "data": {
            "text/html": [
              "<div>\n",
              "<style scoped>\n",
              "    .dataframe tbody tr th:only-of-type {\n",
              "        vertical-align: middle;\n",
              "    }\n",
              "\n",
              "    .dataframe tbody tr th {\n",
              "        vertical-align: top;\n",
              "    }\n",
              "\n",
              "    .dataframe thead th {\n",
              "        text-align: right;\n",
              "    }\n",
              "</style>\n",
              "<table border=\"1\" class=\"dataframe\">\n",
              "  <thead>\n",
              "    <tr style=\"text-align: right;\">\n",
              "      <th></th>\n",
              "      <th>Label</th>\n",
              "      <th>EncodedPixels</th>\n",
              "      <th>Ruta</th>\n",
              "    </tr>\n",
              "  </thead>\n",
              "  <tbody>\n",
              "    <tr>\n",
              "      <th>0</th>\n",
              "      <td>Fish</td>\n",
              "      <td>264918 937 266318 937 267718 937 269118 937 27...</td>\n",
              "      <td>./train_images/0011165.jpg</td>\n",
              "    </tr>\n",
              "    <tr>\n",
              "      <th>1</th>\n",
              "      <td>Flower</td>\n",
              "      <td>1355565 1002 1356965 1002 1358365 1002 1359765...</td>\n",
              "      <td>./train_images/0011165.jpg</td>\n",
              "    </tr>\n",
              "    <tr>\n",
              "      <th>2</th>\n",
              "      <td>Gravel</td>\n",
              "      <td>NaN</td>\n",
              "      <td>./train_images/0011165.jpg</td>\n",
              "    </tr>\n",
              "    <tr>\n",
              "      <th>3</th>\n",
              "      <td>Sugar</td>\n",
              "      <td>NaN</td>\n",
              "      <td>./train_images/0011165.jpg</td>\n",
              "    </tr>\n",
              "    <tr>\n",
              "      <th>4</th>\n",
              "      <td>Fish</td>\n",
              "      <td>233813 878 235213 878 236613 878 238010 881 23...</td>\n",
              "      <td>./train_images/002be4f.jpg</td>\n",
              "    </tr>\n",
              "  </tbody>\n",
              "</table>\n",
              "</div>"
            ],
            "text/plain": [
              "    Label  ...                        Ruta\n",
              "0    Fish  ...  ./train_images/0011165.jpg\n",
              "1  Flower  ...  ./train_images/0011165.jpg\n",
              "2  Gravel  ...  ./train_images/0011165.jpg\n",
              "3   Sugar  ...  ./train_images/0011165.jpg\n",
              "4    Fish  ...  ./train_images/002be4f.jpg\n",
              "\n",
              "[5 rows x 3 columns]"
            ]
          },
          "metadata": {
            "tags": []
          },
          "execution_count": 201
        }
      ]
    },
    {
      "cell_type": "markdown",
      "metadata": {
        "id": "E3IqkPxP7Q5I",
        "colab_type": "text"
      },
      "source": [
        "##### División del set completo de datos df_train en train y test"
      ]
    },
    {
      "cell_type": "code",
      "metadata": {
        "id": "a7oUFqxExqqT",
        "colab_type": "code",
        "outputId": "9197a59d-ef64-4eca-9b55-ab124a0ba53f",
        "colab": {
          "base_uri": "https://localhost:8080/",
          "height": 102
        }
      },
      "source": [
        "train, test = train_test_split(df_train,random_state = 6)\n",
        "print(\"El número de registros del set de datos es de \",df_train.shape[0],\" registros.\")\n",
        "print(\"Al dividir df_train en train y test las dimensiones de estos son las siguientes:\")\n",
        "print(\"La cantidad de registros para train es de: \",train.shape[0])\n",
        "print(\"La cantidad de registros para test es de: \",test.shape[0])"
      ],
      "execution_count": 202,
      "outputs": [
        {
          "output_type": "stream",
          "text": [
            "El número de registros del set de datos es de  22184  registros.\n",
            "Al dividir df_train en train y test las dimensiones de estos son las siguientes:\n",
            "La cantidad de registros para train es de:  16638\n",
            "La cantidad de registros para test es de:  5546\n"
          ],
          "name": "stdout"
        }
      ]
    },
    {
      "cell_type": "markdown",
      "metadata": {
        "id": "zBW3P60Y8rBf",
        "colab_type": "text"
      },
      "source": [
        "##### Análisis de la distribución de labels dentro de los dos nuevos conjuntos creados (train,test)"
      ]
    },
    {
      "cell_type": "code",
      "metadata": {
        "id": "mxTPygNg8mXc",
        "colab_type": "code",
        "outputId": "75964ef2-3f5b-4ff1-faaf-66869e6881ac",
        "colab": {
          "base_uri": "https://localhost:8080/",
          "height": 729
        }
      },
      "source": [
        "# Conteo por label contra la columna \"EncodedPixels\" para el set de datos en Train\n",
        "fish = train[train['Label'] == 'Fish'].EncodedPixels.count()\n",
        "flower = train[train['Label'] == 'Flower'].EncodedPixels.count()\n",
        "gravel = train[train['Label'] == 'Gravel'].EncodedPixels.count()\n",
        "sugar = train[train['Label'] == 'Sugar'].EncodedPixels.count()\n",
        "\n",
        "labels = 'Sugar', 'Gravel', 'Fish', 'Flower'\n",
        "sizes = [sugar, gravel, fish, flower]\n",
        "\n",
        "fig, ax = plt.subplots(figsize=(6, 6))\n",
        "colores= ['#FFA07A','#D8BFD8','#66CDAA','#FFDEAD']\n",
        "ax.pie(sizes, labels=labels, autopct='%1.1f%%', colors=colores)\n",
        "ax.axis('equal')\n",
        "ax.set_title('PROPORCIÓN DE ETIQUETAS EN TRAIN')\n",
        "plt.show()\n",
        "\n",
        "# Conteo por label contra la columna \"EncodedPixels\" para el set de datos en Test\n",
        "fish2 = test[test['Label'] == 'Fish'].EncodedPixels.count()\n",
        "flower2 = test[test['Label'] == 'Flower'].EncodedPixels.count()\n",
        "gravel2 = test[test['Label'] == 'Gravel'].EncodedPixels.count()\n",
        "sugar2 = test[test['Label'] == 'Sugar'].EncodedPixels.count()\n",
        "\n",
        "labels = 'Sugar', 'Gravel', 'Fish', 'Flower'\n",
        "sizes = [sugar2, gravel2, fish2, flower2]\n",
        "\n",
        "fig, ax2 = plt.subplots(figsize=(6, 6))\n",
        "colores= ['#FFA07A','#D8BFD8','#66CDAA','#FFDEAD']\n",
        "ax2.pie(sizes, labels=labels, autopct='%1.1f%%', colors=colores)\n",
        "ax2.axis('equal')\n",
        "ax2.set_title('PROPORCIÓN DE ETIQUETAS EN TEST')\n",
        "plt.show()"
      ],
      "execution_count": 203,
      "outputs": [
        {
          "output_type": "display_data",
          "data": {
            "image/png": "[encoded data removed]",
            "text/plain": [
              "<Figure size 432x432 with 1 Axes>"
            ]
          },
          "metadata": {
            "tags": []
          }
        },
        {
          "output_type": "display_data",
          "data": {
            "image/png": "[encoded data removed]",
            "text/plain": [
              "<Figure size 432x432 with 1 Axes>"
            ]
          },
          "metadata": {
            "tags": []
          }
        }
      ]
    },
    {
      "cell_type": "markdown",
      "metadata": {
        "id": "6e-6MzrUK2Gi",
        "colab_type": "text"
      },
      "source": [
        "##### Proporción de nulos para set de datos Train y Test"
      ]
    },
    {
      "cell_type": "code",
      "metadata": {
        "id": "0SwuhFF5H53q",
        "colab_type": "code",
        "colab": {
          "base_uri": "https://localhost:8080/",
          "height": 82
        },
        "outputId": "e43b36a7-642b-4e20-b791-b66c9bc6ff28"
      },
      "source": [
        "print(\"Cantidad de registros dentro de train: \",train.shape[0])\n",
        "print(\"Registros validos en la columna EncodedPixels train: \",train.EncodedPixels.count())\n",
        "print(\"Registros nulos en la columna EncodedPixels train: \",train.shape[0]-train.EncodedPixels.count())\n",
        "print(\"\")"
      ],
      "execution_count": 204,
      "outputs": [
        {
          "output_type": "stream",
          "text": [
            "Cantidad de registros dentro de train:  16638\n",
            "Registros validos en la columna EncodedPixels train:  8902\n",
            "Registros nulos en la columna EncodedPixels train:  7736\n",
            "\n"
          ],
          "name": "stdout"
        }
      ]
    },
    {
      "cell_type": "code",
      "metadata": {
        "id": "ENsQFxSzKnz7",
        "colab_type": "code",
        "colab": {
          "base_uri": "https://localhost:8080/",
          "height": 82
        },
        "outputId": "8048954c-44d5-431c-c8e6-55f8868857ab"
      },
      "source": [
        "print(\"Cantidad de registros dentro de train: \",test.shape[0])\n",
        "print(\"Registros validos en la columna EncodedPixels train: \",test.EncodedPixels.count())\n",
        "print(\"Registros nulos en la columna EncodedPixels train: \",test.shape[0]-test.EncodedPixels.count())\n",
        "print(\"\")"
      ],
      "execution_count": 205,
      "outputs": [
        {
          "output_type": "stream",
          "text": [
            "Cantidad de registros dentro de train:  5546\n",
            "Registros validos en la columna EncodedPixels train:  2934\n",
            "Registros nulos en la columna EncodedPixels train:  2612\n",
            "\n"
          ],
          "name": "stdout"
        }
      ]
    },
    {
      "cell_type": "markdown",
      "metadata": {
        "id": "xb-TUgRFwKOT",
        "colab_type": "text"
      },
      "source": [
        "##### Llenado de nulos por '-1' para la columna \"EncodedPixels"
      ]
    },
    {
      "cell_type": "code",
      "metadata": {
        "id": "b4CyXC-_rtC6",
        "colab_type": "code",
        "colab": {
          "base_uri": "https://localhost:8080/",
          "height": 201
        },
        "outputId": "f9d1df1d-796a-47ac-d9cd-b40c64d0f808"
      },
      "source": [
        "# Llenado de los datos nulos para set de datos Train\n",
        "train = train.fillna('-1')\n",
        "train.head()"
      ],
      "execution_count": 206,
      "outputs": [
        {
          "output_type": "execute_result",
          "data": {
            "text/html": [
              "<div>\n",
              "<style scoped>\n",
              "    .dataframe tbody tr th:only-of-type {\n",
              "        vertical-align: middle;\n",
              "    }\n",
              "\n",
              "    .dataframe tbody tr th {\n",
              "        vertical-align: top;\n",
              "    }\n",
              "\n",
              "    .dataframe thead th {\n",
              "        text-align: right;\n",
              "    }\n",
              "</style>\n",
              "<table border=\"1\" class=\"dataframe\">\n",
              "  <thead>\n",
              "    <tr style=\"text-align: right;\">\n",
              "      <th></th>\n",
              "      <th>Label</th>\n",
              "      <th>EncodedPixels</th>\n",
              "      <th>Ruta</th>\n",
              "    </tr>\n",
              "  </thead>\n",
              "  <tbody>\n",
              "    <tr>\n",
              "      <th>17989</th>\n",
              "      <td>Flower</td>\n",
              "      <td>7368 508 8768 508 10168 508 11568 508 12968 50...</td>\n",
              "      <td>./train_images/cff5747.jpg</td>\n",
              "    </tr>\n",
              "    <tr>\n",
              "      <th>19401</th>\n",
              "      <td>Flower</td>\n",
              "      <td>-1</td>\n",
              "      <td>./train_images/e03680b.jpg</td>\n",
              "    </tr>\n",
              "    <tr>\n",
              "      <th>16551</th>\n",
              "      <td>Sugar</td>\n",
              "      <td>2498243 498 2499643 498 2501043 498 2502443 49...</td>\n",
              "      <td>./train_images/bef3354.jpg</td>\n",
              "    </tr>\n",
              "    <tr>\n",
              "      <th>18299</th>\n",
              "      <td>Sugar</td>\n",
              "      <td>23126 577 24526 577 25926 577 27326 577 28726 ...</td>\n",
              "      <td>./train_images/d3998ec.jpg</td>\n",
              "    </tr>\n",
              "    <tr>\n",
              "      <th>9386</th>\n",
              "      <td>Gravel</td>\n",
              "      <td>-1</td>\n",
              "      <td>./train_images/6abd5e8.jpg</td>\n",
              "    </tr>\n",
              "  </tbody>\n",
              "</table>\n",
              "</div>"
            ],
            "text/plain": [
              "        Label  ...                        Ruta\n",
              "17989  Flower  ...  ./train_images/cff5747.jpg\n",
              "19401  Flower  ...  ./train_images/e03680b.jpg\n",
              "16551   Sugar  ...  ./train_images/bef3354.jpg\n",
              "18299   Sugar  ...  ./train_images/d3998ec.jpg\n",
              "9386   Gravel  ...  ./train_images/6abd5e8.jpg\n",
              "\n",
              "[5 rows x 3 columns]"
            ]
          },
          "metadata": {
            "tags": []
          },
          "execution_count": 206
        }
      ]
    },
    {
      "cell_type": "code",
      "metadata": {
        "id": "v8295PWSFE2n",
        "colab_type": "code",
        "colab": {
          "base_uri": "https://localhost:8080/",
          "height": 201
        },
        "outputId": "6fc76d27-5a3a-4690-e8b2-256381c0daf3"
      },
      "source": [
        "# Llenado de datos para set de datos Test\n",
        "test = test.fillna('-1')\n",
        "test.head()"
      ],
      "execution_count": 207,
      "outputs": [
        {
          "output_type": "execute_result",
          "data": {
            "text/html": [
              "<div>\n",
              "<style scoped>\n",
              "    .dataframe tbody tr th:only-of-type {\n",
              "        vertical-align: middle;\n",
              "    }\n",
              "\n",
              "    .dataframe tbody tr th {\n",
              "        vertical-align: top;\n",
              "    }\n",
              "\n",
              "    .dataframe thead th {\n",
              "        text-align: right;\n",
              "    }\n",
              "</style>\n",
              "<table border=\"1\" class=\"dataframe\">\n",
              "  <thead>\n",
              "    <tr style=\"text-align: right;\">\n",
              "      <th></th>\n",
              "      <th>Label</th>\n",
              "      <th>EncodedPixels</th>\n",
              "      <th>Ruta</th>\n",
              "    </tr>\n",
              "  </thead>\n",
              "  <tbody>\n",
              "    <tr>\n",
              "      <th>1223</th>\n",
              "      <td>Sugar</td>\n",
              "      <td>362926 3 364326 8 365726 6 365735 2 367126 6 3...</td>\n",
              "      <td>./train_images/0e47c4d.jpg</td>\n",
              "    </tr>\n",
              "    <tr>\n",
              "      <th>5540</th>\n",
              "      <td>Fish</td>\n",
              "      <td>17833 367 19233 367 20633 367 22033 367 23433 ...</td>\n",
              "      <td>./train_images/3fa4f8d.jpg</td>\n",
              "    </tr>\n",
              "    <tr>\n",
              "      <th>14828</th>\n",
              "      <td>Fish</td>\n",
              "      <td>-1</td>\n",
              "      <td>./train_images/a919025.jpg</td>\n",
              "    </tr>\n",
              "    <tr>\n",
              "      <th>16840</th>\n",
              "      <td>Fish</td>\n",
              "      <td>219802 325 221202 325 222602 325 224002 325 22...</td>\n",
              "      <td>./train_images/c2a3263.jpg</td>\n",
              "    </tr>\n",
              "    <tr>\n",
              "      <th>5590</th>\n",
              "      <td>Gravel</td>\n",
              "      <td>511 815 1911 815 3311 815 4700 892 6100 892 75...</td>\n",
              "      <td>./train_images/3ff99a9.jpg</td>\n",
              "    </tr>\n",
              "  </tbody>\n",
              "</table>\n",
              "</div>"
            ],
            "text/plain": [
              "        Label  ...                        Ruta\n",
              "1223    Sugar  ...  ./train_images/0e47c4d.jpg\n",
              "5540     Fish  ...  ./train_images/3fa4f8d.jpg\n",
              "14828    Fish  ...  ./train_images/a919025.jpg\n",
              "16840    Fish  ...  ./train_images/c2a3263.jpg\n",
              "5590   Gravel  ...  ./train_images/3ff99a9.jpg\n",
              "\n",
              "[5 rows x 3 columns]"
            ]
          },
          "metadata": {
            "tags": []
          },
          "execution_count": 207
        }
      ]
    },
    {
      "cell_type": "markdown",
      "metadata": {
        "id": "nfbzqtagHJPR",
        "colab_type": "text"
      },
      "source": [
        "##### Exportar a CSV set de datos"
      ]
    },
    {
      "cell_type": "code",
      "metadata": {
        "id": "MGXxfC5yHcVQ",
        "colab_type": "code",
        "colab": {}
      },
      "source": [
        "# Exporte de datos en csv para train\n",
        "\n",
        "# Nombre del csv de salida de train \n",
        "output_name = \"set_train.csv\"\n",
        "\n",
        "train.to_csv(output_name, sep=',', index=False, header=None)\n",
        "!cp $output_name /Tesis"
      ],
      "execution_count": 0,
      "outputs": []
    },
    {
      "cell_type": "code",
      "metadata": {
        "id": "RW2eJlYtNePA",
        "colab_type": "code",
        "colab": {}
      },
      "source": [
        "# Exporte de datos en csv para test\n",
        "\n",
        "# Nombre del csv de salida de test\n",
        "output_name = \"set_test.csv\"\n",
        "\n",
        "test.to_csv(output_name, sep=',', index=False, header=None)\n",
        "!cp $output_name /Tesis"
      ],
      "execution_count": 0,
      "outputs": []
    }
  ]
}