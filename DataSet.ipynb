{
  "nbformat": 4,
  "nbformat_minor": 0,
  "metadata": {
    "colab": {
      "name": "DataSet",
      "provenance": [],
      "collapsed_sections": [],
      "include_colab_link": true
    },
    "kernelspec": {
      "name": "python3",
      "display_name": "Python 3"
    }
  },
  "cells": [
    {
      "cell_type": "markdown",
      "metadata": {
        "id": "view-in-github",
        "colab_type": "text"
      },
      "source": [
        "<a href=\"https://colab.research.google.com/github/MRAMIRE/Tesis_Modelo_Deep_Learning_USA/blob/master/DataSet.ipynb\" target=\"_parent\"><img src=\"https://colab.research.google.com/assets/colab-badge.svg\" alt=\"Open In Colab\"/></a>"
      ]
    },
    {
      "cell_type": "code",
      "metadata": {
        "id": "xBf-ic7SsVnq",
        "colab_type": "code",
        "colab": {}
      },
      "source": [
        "from google.colab import drive\n",
        "import os\n",
        "import cv2\n",
        "import numpy as np\n",
        "import matplotlib\n",
        "import pylab as plt\n",
        "from torch.utils.data import Dataset, DataLoader\n",
        "import torch\n",
        "from torchvision import transforms, utils\n",
        "import pandas as pd\n",
        "from skimage import io, transform\n",
        "%matplotlib inline"
      ],
      "execution_count": 0,
      "outputs": []
    },
    {
      "cell_type": "code",
      "metadata": {
        "id": "ZqM7KfD2sYfr",
        "colab_type": "code",
        "outputId": "5fc09a86-4dad-40d5-9b9f-b69e0c327507",
        "colab": {
          "base_uri": "https://localhost:8080/",
          "height": 141
        }
      },
      "source": [
        "#Permisos\n",
        "drive.mount('/gdrive')\n",
        "#Cambio de Directorio\n",
        "%cd /gdrive/My\\ Drive/Tesis\n",
        "#%cd /gdrive/Share\\Whit\\Me\n",
        "%ls"
      ],
      "execution_count": 17,
      "outputs": [
        {
          "output_type": "stream",
          "text": [
            "Drive already mounted at /gdrive; to attempt to forcibly remount, call drive.mount(\"/gdrive\", force_remount=True).\n",
            "/gdrive/My Drive/Tesis\n",
            " DataSet                    'Leer imágenes-Tesis.ipynb'   set_train.csv\n",
            "'Exploración de los Datos'   Pre-Porcesamiento-Data       \u001b[0m\u001b[01;34mtest_images\u001b[0m/\n",
            " Leer-Csv-Prueba.ipynb       Pre-PorcesamientoV2-Data     train.csv\n",
            "'Leer CSV train.ipynb'       sample_submission.csv        \u001b[01;34mtrain_images\u001b[0m/\n"
          ],
          "name": "stdout"
        }
      ]
    },
    {
      "cell_type": "code",
      "metadata": {
        "id": "RO356q6SBhCH",
        "colab_type": "code",
        "colab": {
          "base_uri": "https://localhost:8080/",
          "height": 217
        },
        "outputId": "af976c1d-80e1-4a30-e502-0a6fe8cac61b"
      },
      "source": [
        "# Creación de la variable df_train\n",
        "df_train = pd.read_csv('set_train.csv')\n",
        "\n",
        "# Muesta los primeros registros de df_train\n",
        "print(df_train.shape)\n",
        "df_train.head()"
      ],
      "execution_count": 18,
      "outputs": [
        {
          "output_type": "stream",
          "text": [
            "(4159, 5)\n"
          ],
          "name": "stdout"
        },
        {
          "output_type": "execute_result",
          "data": {
            "text/html": [
              "<div>\n",
              "<style scoped>\n",
              "    .dataframe tbody tr th:only-of-type {\n",
              "        vertical-align: middle;\n",
              "    }\n",
              "\n",
              "    .dataframe tbody tr th {\n",
              "        vertical-align: top;\n",
              "    }\n",
              "\n",
              "    .dataframe thead th {\n",
              "        text-align: right;\n",
              "    }\n",
              "</style>\n",
              "<table border=\"1\" class=\"dataframe\">\n",
              "  <thead>\n",
              "    <tr style=\"text-align: right;\">\n",
              "      <th></th>\n",
              "      <th>Image</th>\n",
              "      <th>Label_Fish</th>\n",
              "      <th>Label_Flower</th>\n",
              "      <th>Label_Gravel</th>\n",
              "      <th>Label_Sugar</th>\n",
              "    </tr>\n",
              "  </thead>\n",
              "  <tbody>\n",
              "    <tr>\n",
              "      <th>0</th>\n",
              "      <td>77b71cd.jpg</td>\n",
              "      <td>15585 303 16985 303 18385 303 19785 303 21185 ...</td>\n",
              "      <td>-1</td>\n",
              "      <td>17327 247 18727 247 20127 108 20236 138 21527 ...</td>\n",
              "      <td>27418 448 28818 448 30218 448 31618 448 33018 ...</td>\n",
              "    </tr>\n",
              "    <tr>\n",
              "      <th>1</th>\n",
              "      <td>db6052a.jpg</td>\n",
              "      <td>-1</td>\n",
              "      <td>-1</td>\n",
              "      <td>1418743 539 1420143 539 1421543 539 1422943 53...</td>\n",
              "      <td>1976321 293 1977721 293 1979121 293 1980521 29...</td>\n",
              "    </tr>\n",
              "    <tr>\n",
              "      <th>2</th>\n",
              "      <td>4ee47a5.jpg</td>\n",
              "      <td>-1</td>\n",
              "      <td>8410 1150 9810 1150 11210 1150 12610 1150 1401...</td>\n",
              "      <td>-1</td>\n",
              "      <td>-1</td>\n",
              "    </tr>\n",
              "    <tr>\n",
              "      <th>3</th>\n",
              "      <td>ffc31af.jpg</td>\n",
              "      <td>-1</td>\n",
              "      <td>-1</td>\n",
              "      <td>421 689 1821 689 3221 689 4621 689 6021 689 74...</td>\n",
              "      <td>80956 218 82356 218 83756 218 85156 218 86556 ...</td>\n",
              "    </tr>\n",
              "    <tr>\n",
              "      <th>4</th>\n",
              "      <td>e5ec2d9.jpg</td>\n",
              "      <td>81223 853 82623 853 84023 853 85423 853 86823 ...</td>\n",
              "      <td>-1</td>\n",
              "      <td>25960 621 27360 621 28760 621 30160 621 31560 ...</td>\n",
              "      <td>1662838 360 1664238 360 1665638 360 1667038 36...</td>\n",
              "    </tr>\n",
              "  </tbody>\n",
              "</table>\n",
              "</div>"
            ],
            "text/plain": [
              "         Image  ...                                        Label_Sugar\n",
              "0  77b71cd.jpg  ...  27418 448 28818 448 30218 448 31618 448 33018 ...\n",
              "1  db6052a.jpg  ...  1976321 293 1977721 293 1979121 293 1980521 29...\n",
              "2  4ee47a5.jpg  ...                                                 -1\n",
              "3  ffc31af.jpg  ...  80956 218 82356 218 83756 218 85156 218 86556 ...\n",
              "4  e5ec2d9.jpg  ...  1662838 360 1664238 360 1665638 360 1667038 36...\n",
              "\n",
              "[5 rows x 5 columns]"
            ]
          },
          "metadata": {
            "tags": []
          },
          "execution_count": 18
        }
      ]
    },
    {
      "cell_type": "code",
      "metadata": {
        "id": "q6kA_3bwRDLA",
        "colab_type": "code",
        "colab": {}
      },
      "source": [
        "def rle_to_mask(rle_string, height=1400, width=2100):\n",
        "  rows, cols = height, width\n",
        "  if rle_string == '-1':\n",
        "        return np.zeros((height, width))\n",
        "  else:\n",
        "        rle_numbers = [int(num_string) for num_string in rle_string.split(' ')]\n",
        "        rle_pairs = np.array(rle_numbers).reshape(-1,2)\n",
        "        img = np.zeros(rows*cols, dtype=np.uint8)\n",
        "        for index, length in rle_pairs:\n",
        "            index -= 1\n",
        "            img[index:index+length] = 255\n",
        "        img = img.reshape(cols,rows)\n",
        "        img = img.T\n",
        "        return img"
      ],
      "execution_count": 0,
      "outputs": []
    },
    {
      "cell_type": "code",
      "metadata": {
        "id": "kwewajAmsiCG",
        "colab_type": "code",
        "colab": {}
      },
      "source": [
        "class CloudDataSet(Dataset):\n",
        "  \n",
        "  def __init__(self, csv_file, root_dir, transform=None):\n",
        "        self.set_train = pd.read_csv(csv_file)\n",
        "        self.root_dir =  root_dir\n",
        "        self.transform = transform\n",
        "\n",
        "  def __len__(self):\n",
        "    return len(self.set_train)\n",
        "\n",
        "  def __getitem__(self, idx):\n",
        "    if torch.is_tensor(idx):\n",
        "        idx = idx.tolist()\n",
        "    \n",
        "    image = io.imread(self.root_dir + self.set_train.iloc[idx, 0])\n",
        "    mfish = self.set_train.iloc[idx, 1]\n",
        "    mfish = rle_to_mask(mfish)\n",
        "    mflower = self.set_train.iloc[idx, 2]\n",
        "    mflower = rle_to_mask(mflower)\n",
        "    mgravel = self.set_train.iloc[idx, 3]\n",
        "    mgravel = rle_to_mask(mgravel)\n",
        "    msugar = self.set_train.iloc[idx, 4]\n",
        "    msugar = rle_to_mask(msugar)\n",
        "    sample = {'image':image,'m_fish':mfish,'m_flower':mflower,'m_gravel':mgravel,'m_sugar':msugar}\n",
        "    \n",
        "    return sample"
      ],
      "execution_count": 0,
      "outputs": []
    },
    {
      "cell_type": "code",
      "metadata": {
        "id": "yYWRrCsyOH5p",
        "colab_type": "code",
        "colab": {
          "base_uri": "https://localhost:8080/",
          "height": 284
        },
        "outputId": "bcc7059c-7aca-4b00-c0f0-250ce029a820"
      },
      "source": [
        "dataset = CloudDataSet(csv_file ='set_train.csv', root_dir='./train_images/')\n",
        "sample=dataset[0]\n",
        "plt.imshow(sample['m_gravel'])"
      ],
      "execution_count": 132,
      "outputs": [
        {
          "output_type": "execute_result",
          "data": {
            "text/plain": [
              "<matplotlib.image.AxesImage at 0x7f214f3f2f28>"
            ]
          },
          "metadata": {
            "tags": []
          },
          "execution_count": 132
        },
        {
          "output_type": "display_data",
          "data": {
            "image/png": "[encoded data removed]",
            "text/plain": [
              "<Figure size 432x288 with 1 Axes>"
            ]
          },
          "metadata": {
            "tags": []
          }
        }
      ]
    }
  ]
}