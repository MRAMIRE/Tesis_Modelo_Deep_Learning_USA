{
  "nbformat": 4,
  "nbformat_minor": 0,
  "metadata": {
    "colab": {
      "name": "Exploración de los Datos",
      "provenance": [],
      "collapsed_sections": [
        "KQiWEKopJ2cb",
        "V4JB6W5RLYzZ",
        "TldBf1RdL9em"
      ],
      "include_colab_link": true
    },
    "kernelspec": {
      "name": "python3",
      "display_name": "Python 3"
    }
  },
  "cells": [
    {
      "cell_type": "markdown",
      "metadata": {
        "id": "view-in-github",
        "colab_type": "text"
      },
      "source": [
        "<a href=\"https://colab.research.google.com/github/MRAMIRE/Tesis_Modelo_Deep_Learning_USA/blob/master/Exploraci%C3%B3n_de_los_Datos.ipynb\" target=\"_parent\"><img src=\"https://colab.research.google.com/assets/colab-badge.svg\" alt=\"Open In Colab\"/></a>"
      ]
    },
    {
      "cell_type": "markdown",
      "metadata": {
        "id": "28LNC8OfKAfX",
        "colab_type": "text"
      },
      "source": [
        "# **EXPLORACIÓN DE DATOS (TRAIN):**\n",
        "\n",
        "###FELIPE ANTONIO MELO CIFUENTES\n",
        "\n",
        "###MARIA CAMILA RAMIREZ FERRO\n",
        "\n",
        "\n"
      ]
    },
    {
      "cell_type": "markdown",
      "metadata": {
        "id": "KQiWEKopJ2cb",
        "colab_type": "text"
      },
      "source": [
        "#####Importar librerias:\n"
      ]
    },
    {
      "cell_type": "code",
      "metadata": {
        "id": "wUgafrULJYez",
        "colab_type": "code",
        "colab": {}
      },
      "source": [
        "from google.colab import drive\n",
        "import os\n",
        "import cv2\n",
        "import numpy as np\n",
        "import pandas as pd\n",
        "import matplotlib\n",
        "import pylab as plt\n",
        "import seaborn as sns\n",
        "%matplotlib inline"
      ],
      "execution_count": 0,
      "outputs": []
    },
    {
      "cell_type": "markdown",
      "metadata": {
        "id": "V4JB6W5RLYzZ",
        "colab_type": "text"
      },
      "source": [
        "##### Permisos y cambio de directorio:"
      ]
    },
    {
      "cell_type": "code",
      "metadata": {
        "id": "9GUyG3xRJsfd",
        "colab_type": "code",
        "outputId": "fd33b979-722d-49aa-e081-eda0b9919fef",
        "colab": {
          "base_uri": "https://localhost:8080/",
          "height": 220
        }
      },
      "source": [
        "#Permisos\n",
        "drive.mount('/gdrive')\n",
        "\n",
        "#Cambio de Directorio\n",
        "%cd /gdrive/My\\ Drive/Tesis\n",
        "\n",
        "# Contenido del Directorio actual\n",
        "%ls"
      ],
      "execution_count": 35,
      "outputs": [
        {
          "output_type": "stream",
          "text": [
            "Drive already mounted at /gdrive; to attempt to forcibly remount, call drive.mount(\"/gdrive\", force_remount=True).\n",
            "/gdrive/My Drive/Tesis\n",
            " Leer-Csv-Prueba.ipynb        Prueba                  train.csv\n",
            "'Leer CSV train.ipynb'        Prueba-v2-csv           \u001b[0m\u001b[01;34mtrain_images\u001b[0m/\n",
            "'Leer imágenes-Tesis.ipynb'   sample_submission.csv\n",
            " Pre-procesamiento            \u001b[01;34mtest_images\u001b[0m/\n"
          ],
          "name": "stdout"
        }
      ]
    },
    {
      "cell_type": "markdown",
      "metadata": {
        "id": "TldBf1RdL9em",
        "colab_type": "text"
      },
      "source": [
        "##### Lectura del archivo csv train:"
      ]
    },
    {
      "cell_type": "code",
      "metadata": {
        "id": "Mpl4kjwxMTPM",
        "colab_type": "code",
        "outputId": "297a0840-f776-4fa4-e376-0be523b946e5",
        "colab": {
          "base_uri": "https://localhost:8080/",
          "height": 94
        }
      },
      "source": [
        "# Creación de la variable df_train\n",
        "df_train = pd.read_csv('train.csv')\n",
        "\n",
        "#Muesta los primeros registros de df_train\n",
        "df_train.shape\n",
        "#df_train.head()"
      ],
      "execution_count": 36,
      "outputs": [
        {
          "output_type": "execute_result",
          "data": {
            "text/plain": [
              "(22184, 2)"
            ]
          },
          "metadata": {
            "tags": []
          },
          "execution_count": 36
        }
      ]
    },
    {
      "cell_type": "markdown",
      "metadata": {
        "id": "kXWz2MOmPmy9",
        "colab_type": "text"
      },
      "source": [
        "##### Exploración de los datos"
      ]
    },
    {
      "cell_type": "code",
      "metadata": {
        "id": "rBTk54StL9Pj",
        "colab_type": "code",
        "outputId": "b9861766-8bd1-4da8-e14a-fa0908857eb5",
        "colab": {
          "base_uri": "https://localhost:8080/",
          "height": 481
        }
      },
      "source": [
        "# Porcentaje de nulos\n",
        "labels = 'Nulos','EncodedPixels'\n",
        "sizes = [len(df_train) - df_train.EncodedPixels.count(),df_train.EncodedPixels.count()]\n",
        "explode = (0, 0.1)\n",
        "\n",
        "fig, ax = plt.subplots(figsize=(6, 6))\n",
        "colores= ['#D8BFD8','#3CB371']\n",
        "ax.pie(sizes, explode=explode, labels=labels, autopct='%1.1f%%', colors=colores)\n",
        "ax.axis('equal')\n",
        "ax.set_title('PROPORCIÓN DE DATOS NULOS')\n",
        "print(\"Cantidad de registros dentro de train.csv: \",len(df_train))\n",
        "print(\"Registros validos en la columna EncodedPixels train.csv: \",df_train.EncodedPixels.count())\n",
        "print(\"Registros nulos en la columna EncodedPixels train.csv: \",len(df_train)-df_train.EncodedPixels.count())\n",
        "print(\"\")\n",
        "plt.show()"
      ],
      "execution_count": 37,
      "outputs": [
        {
          "output_type": "stream",
          "text": [
            "Cantidad de registros dentro de train.csv:  22184\n",
            "Registros validos en la columna EncodedPixels train.csv:  11836\n",
            "Registros nulos en la columna EncodedPixels train.csv:  10348\n",
            "\n"
          ],
          "name": "stdout"
        },
        {
          "output_type": "display_data",
          "data": {
            "image/png": "[encoded data removed]",
            "text/plain": [
              "<Figure size 432x432 with 1 Axes>"
            ]
          },
          "metadata": {
            "tags": []
          }
        }
      ]
    },
    {
      "cell_type": "code",
      "metadata": {
        "id": "5Z1M6a_TPzkD",
        "colab_type": "code",
        "outputId": "c37a83f5-bb05-4914-c956-aa94844e9171",
        "colab": {
          "base_uri": "https://localhost:8080/",
          "height": 241
        }
      },
      "source": [
        "# Separar columna \"Image_Label\"\n",
        "df_split = df_train[\"Image_Label\"].str.split(\"_\", n = 1, expand = True)\n",
        "\n",
        "# Agregar nuevas columnas (Image,Label) a df_train\n",
        "df_train['Image'] = df_split[0]\n",
        "df_train['Label'] = df_split[1]\n",
        "\n",
        "df_train.head()"
      ],
      "execution_count": 38,
      "outputs": [
        {
          "output_type": "execute_result",
          "data": {
            "text/html": [
              "<div>\n",
              "<style scoped>\n",
              "    .dataframe tbody tr th:only-of-type {\n",
              "        vertical-align: middle;\n",
              "    }\n",
              "\n",
              "    .dataframe tbody tr th {\n",
              "        vertical-align: top;\n",
              "    }\n",
              "\n",
              "    .dataframe thead th {\n",
              "        text-align: right;\n",
              "    }\n",
              "</style>\n",
              "<table border=\"1\" class=\"dataframe\">\n",
              "  <thead>\n",
              "    <tr style=\"text-align: right;\">\n",
              "      <th></th>\n",
              "      <th>Image_Label</th>\n",
              "      <th>EncodedPixels</th>\n",
              "      <th>Image</th>\n",
              "      <th>Label</th>\n",
              "    </tr>\n",
              "  </thead>\n",
              "  <tbody>\n",
              "    <tr>\n",
              "      <th>0</th>\n",
              "      <td>0011165.jpg_Fish</td>\n",
              "      <td>264918 937 266318 937 267718 937 269118 937 27...</td>\n",
              "      <td>0011165.jpg</td>\n",
              "      <td>Fish</td>\n",
              "    </tr>\n",
              "    <tr>\n",
              "      <th>1</th>\n",
              "      <td>0011165.jpg_Flower</td>\n",
              "      <td>1355565 1002 1356965 1002 1358365 1002 1359765...</td>\n",
              "      <td>0011165.jpg</td>\n",
              "      <td>Flower</td>\n",
              "    </tr>\n",
              "    <tr>\n",
              "      <th>2</th>\n",
              "      <td>0011165.jpg_Gravel</td>\n",
              "      <td>NaN</td>\n",
              "      <td>0011165.jpg</td>\n",
              "      <td>Gravel</td>\n",
              "    </tr>\n",
              "    <tr>\n",
              "      <th>3</th>\n",
              "      <td>0011165.jpg_Sugar</td>\n",
              "      <td>NaN</td>\n",
              "      <td>0011165.jpg</td>\n",
              "      <td>Sugar</td>\n",
              "    </tr>\n",
              "    <tr>\n",
              "      <th>4</th>\n",
              "      <td>002be4f.jpg_Fish</td>\n",
              "      <td>233813 878 235213 878 236613 878 238010 881 23...</td>\n",
              "      <td>002be4f.jpg</td>\n",
              "      <td>Fish</td>\n",
              "    </tr>\n",
              "  </tbody>\n",
              "</table>\n",
              "</div>"
            ],
            "text/plain": [
              "          Image_Label  ...   Label\n",
              "0    0011165.jpg_Fish  ...    Fish\n",
              "1  0011165.jpg_Flower  ...  Flower\n",
              "2  0011165.jpg_Gravel  ...  Gravel\n",
              "3   0011165.jpg_Sugar  ...   Sugar\n",
              "4    002be4f.jpg_Fish  ...    Fish\n",
              "\n",
              "[5 rows x 4 columns]"
            ]
          },
          "metadata": {
            "tags": []
          },
          "execution_count": 38
        }
      ]
    },
    {
      "cell_type": "code",
      "metadata": {
        "id": "7YwtANvRQs6v",
        "colab_type": "code",
        "outputId": "392197e9-ce25-4ddd-dcfe-d7095c48ea87",
        "colab": {
          "base_uri": "https://localhost:8080/",
          "height": 465
        }
      },
      "source": [
        "# Conteo por label contra la columna \"Image_Label\"\n",
        "fish = df_train[df_train['Label'] == 'Fish'].Image_Label.count()\n",
        "flower = df_train[df_train['Label'] == 'Flower'].Image_Label.count()\n",
        "gravel = df_train[df_train['Label'] == 'Gravel'].Image_Label.count()\n",
        "sugar = df_train[df_train['Label'] == 'Sugar'].Image_Label.count()\n",
        "\n",
        "labels = 'Fish', 'Flower', 'Gravel', 'Sugar'\n",
        "sizes = [fish, flower, gravel, sugar]\n",
        "\n",
        "fig, ax = plt.subplots(figsize=(6, 6))\n",
        "colores= ['#FFA07A','#D8BFD8','#66CDAA','#FFDEAD']\n",
        "ax.pie(sizes, labels=labels, autopct='%1.1f%%', colors=colores)\n",
        "ax.axis('equal')\n",
        "ax.set_title('PROPORCIÓN DE ETIQUETAS EN CSV TRAIN')\n",
        "\n",
        "plt.show()\n",
        "print(\"Nota:\")\n",
        "print(\"Cada imagen cuenta con las cuatro etiquetas de clasificación de nubes,\")\n",
        "print(\"independientemente de que la imagen no contenga todos los tipos de nube.\")"
      ],
      "execution_count": 39,
      "outputs": [
        {
          "output_type": "display_data",
          "data": {
            "image/png": "[encoded data removed]",
            "text/plain": [
              "<Figure size 432x432 with 1 Axes>"
            ]
          },
          "metadata": {
            "tags": []
          }
        },
        {
          "output_type": "stream",
          "text": [
            "Nota:\n",
            "Cada imagen cuenta con las cuatro etiquetas de clasificación de nubes,\n",
            "independientemente de que la imagen no contenga todos los tipos de nube.\n"
          ],
          "name": "stdout"
        }
      ]
    },
    {
      "cell_type": "code",
      "metadata": {
        "id": "kv5QbOagSThQ",
        "colab_type": "code",
        "outputId": "d337a15a-6aad-48cc-fb5d-99cca799a640",
        "colab": {
          "base_uri": "https://localhost:8080/",
          "height": 465
        }
      },
      "source": [
        "# Conteo por label contra la columna \"EncodedPixels\"\n",
        "fish = df_train[df_train['Label'] == 'Fish'].EncodedPixels.count()\n",
        "flower = df_train[df_train['Label'] == 'Flower'].EncodedPixels.count()\n",
        "gravel = df_train[df_train['Label'] == 'Gravel'].EncodedPixels.count()\n",
        "sugar = df_train[df_train['Label'] == 'Sugar'].EncodedPixels.count()\n",
        "\n",
        "labels = 'Sugar', 'Gravel', 'Fish', 'Flower'\n",
        "sizes = [sugar, gravel, fish, flower]\n",
        "\n",
        "fig, ax = plt.subplots(figsize=(6, 6))\n",
        "colores= ['#FFA07A','#D8BFD8','#66CDAA','#FFDEAD']\n",
        "ax.pie(sizes, labels=labels, autopct='%1.1f%%', colors=colores)\n",
        "ax.axis('equal')\n",
        "ax.set_title('PROPORCIÓN DE ETIQUETAS EN CSV TRAIN CON ELIMINACIÓN DE REGISTROS NULOS')\n",
        "\n",
        "plt.show()\n",
        "print(\"Nota:\")\n",
        "print(\"Al eliminar los registro nulos, se evidencia una proporción distinta\")\n",
        "print(\"en las etiquetas.\")"
      ],
      "execution_count": 40,
      "outputs": [
        {
          "output_type": "display_data",
          "data": {
            "image/png": "[encoded data removed]",
            "text/plain": [
              "<Figure size 432x432 with 1 Axes>"
            ]
          },
          "metadata": {
            "tags": []
          }
        },
        {
          "output_type": "stream",
          "text": [
            "Nota:\n",
            "Al eliminar los registro nulos, se evidencia una proporción distinta\n",
            "en las etiquetas.\n"
          ],
          "name": "stdout"
        }
      ]
    },
    {
      "cell_type": "code",
      "metadata": {
        "id": "ibZfdLcQTsZA",
        "colab_type": "code",
        "outputId": "9dae5f53-e657-4924-d597-8a7dd28d6fdb",
        "colab": {
          "base_uri": "https://localhost:8080/",
          "height": 240
        }
      },
      "source": [
        "gr = df_train.loc[df_train['EncodedPixels'].isnull() == False, 'Image_Label'].apply(lambda x: x.split('_')[0]).value_counts().value_counts()\n",
        "print(gr)\n",
        "print(\"\")\n",
        "print(\"Nota:\")\n",
        "print(\"Se evidencia que la tendencia de los datos es que una imagen contenga dos etiquetas.\")\n",
        "print(\"Cabe resaltar que únicamente 266 imagenes cuentan con las cuatro etiquetas.\")\n",
        "print(\"\")\n",
        "print(\"Lo anterior para un total de:\",len(df_train['Image'].unique()), \"imagenes.\")"
      ],
      "execution_count": 41,
      "outputs": [
        {
          "output_type": "stream",
          "text": [
            "2    2372\n",
            "3    1560\n",
            "1    1348\n",
            "4     266\n",
            "Name: Image_Label, dtype: int64\n",
            "\n",
            "Nota:\n",
            "Se evidencia que la tendencia de los datos es que una imagen contenga dos etiquetas.\n",
            "Cabe resaltar que únicamente 266 imagenes cuentan con las cuatro etiquetas.\n",
            "\n",
            "Lo anterior para un total de: 5546 imagenes.\n"
          ],
          "name": "stdout"
        }
      ]
    },
    {
      "cell_type": "code",
      "metadata": {
        "id": "hq1n6cs5ZpP5",
        "colab_type": "code",
        "outputId": "ed1b29bf-4c8d-4659-9f3d-835d050c6f12",
        "colab": {
          "base_uri": "https://localhost:8080/",
          "height": 254
        }
      },
      "source": [
        "# Creación de columnas por cada label\n",
        "df_trainfxd = pd.get_dummies(df_train, columns = ['Label'])\n",
        "\n",
        "# Llenado de los datos nulos\n",
        "df_trainfxd = df_trainfxd.fillna('-1')\n",
        "\n",
        "# Definición de función para llenado de registros dummies\n",
        "def fill_dummies(row, label):\n",
        "    if label == 'fish':\n",
        "        return row['Label_Fish'] * (row['EncodedPixels'] != '-1')\n",
        "    if label == 'flower':\n",
        "        return row['Label_Flower'] * (row['EncodedPixels'] != '-1')\n",
        "    if label == 'gravel':\n",
        "        return row['Label_Gravel'] * (row['EncodedPixels'] != '-1')\n",
        "    if label == 'sugar':\n",
        "        return row['Label_Sugar'] * (row['EncodedPixels'] != '-1')\n",
        "    \n",
        "# Ejecución de función \"fill_dummies\" para el llenado de registros \n",
        "df_trainfxd['Label_Fish'] = df_trainfxd.apply(lambda row: fill_dummies(row, 'fish'), axis=1)\n",
        "df_trainfxd['Label_Flower'] = df_trainfxd.apply(lambda row: fill_dummies(row, 'flower'), axis=1)\n",
        "df_trainfxd['Label_Gravel'] = df_trainfxd.apply(lambda row: fill_dummies(row, 'gravel'), axis=1)\n",
        "df_trainfxd['Label_Sugar'] = df_trainfxd.apply(lambda row: fill_dummies(row, 'sugar'), axis=1)\n",
        "orginal_shape = df_trainfxd.shape\n",
        "\n",
        "print(\"Tomado de: https://www.kaggle.com/aleksandradeis/understanding-clouds-eda\")\n",
        "print(\"\")\n",
        "df_trainfxd.head()"
      ],
      "execution_count": 44,
      "outputs": [
        {
          "output_type": "stream",
          "text": [
            "Tomado de: https://www.kaggle.com/aleksandradeis/understanding-clouds-eda\n",
            "\n"
          ],
          "name": "stdout"
        },
        {
          "output_type": "execute_result",
          "data": {
            "text/html": [
              "<div>\n",
              "<style scoped>\n",
              "    .dataframe tbody tr th:only-of-type {\n",
              "        vertical-align: middle;\n",
              "    }\n",
              "\n",
              "    .dataframe tbody tr th {\n",
              "        vertical-align: top;\n",
              "    }\n",
              "\n",
              "    .dataframe thead th {\n",
              "        text-align: right;\n",
              "    }\n",
              "</style>\n",
              "<table border=\"1\" class=\"dataframe\">\n",
              "  <thead>\n",
              "    <tr style=\"text-align: right;\">\n",
              "      <th></th>\n",
              "      <th>Image_Label</th>\n",
              "      <th>EncodedPixels</th>\n",
              "      <th>Image</th>\n",
              "      <th>Label_Fish</th>\n",
              "      <th>Label_Flower</th>\n",
              "      <th>Label_Gravel</th>\n",
              "      <th>Label_Sugar</th>\n",
              "    </tr>\n",
              "  </thead>\n",
              "  <tbody>\n",
              "    <tr>\n",
              "      <th>0</th>\n",
              "      <td>0011165.jpg_Fish</td>\n",
              "      <td>264918 937 266318 937 267718 937 269118 937 27...</td>\n",
              "      <td>0011165.jpg</td>\n",
              "      <td>1</td>\n",
              "      <td>0</td>\n",
              "      <td>0</td>\n",
              "      <td>0</td>\n",
              "    </tr>\n",
              "    <tr>\n",
              "      <th>1</th>\n",
              "      <td>0011165.jpg_Flower</td>\n",
              "      <td>1355565 1002 1356965 1002 1358365 1002 1359765...</td>\n",
              "      <td>0011165.jpg</td>\n",
              "      <td>0</td>\n",
              "      <td>1</td>\n",
              "      <td>0</td>\n",
              "      <td>0</td>\n",
              "    </tr>\n",
              "    <tr>\n",
              "      <th>2</th>\n",
              "      <td>0011165.jpg_Gravel</td>\n",
              "      <td>-1</td>\n",
              "      <td>0011165.jpg</td>\n",
              "      <td>0</td>\n",
              "      <td>0</td>\n",
              "      <td>0</td>\n",
              "      <td>0</td>\n",
              "    </tr>\n",
              "    <tr>\n",
              "      <th>3</th>\n",
              "      <td>0011165.jpg_Sugar</td>\n",
              "      <td>-1</td>\n",
              "      <td>0011165.jpg</td>\n",
              "      <td>0</td>\n",
              "      <td>0</td>\n",
              "      <td>0</td>\n",
              "      <td>0</td>\n",
              "    </tr>\n",
              "    <tr>\n",
              "      <th>4</th>\n",
              "      <td>002be4f.jpg_Fish</td>\n",
              "      <td>233813 878 235213 878 236613 878 238010 881 23...</td>\n",
              "      <td>002be4f.jpg</td>\n",
              "      <td>1</td>\n",
              "      <td>0</td>\n",
              "      <td>0</td>\n",
              "      <td>0</td>\n",
              "    </tr>\n",
              "  </tbody>\n",
              "</table>\n",
              "</div>"
            ],
            "text/plain": [
              "          Image_Label  ... Label_Sugar\n",
              "0    0011165.jpg_Fish  ...           0\n",
              "1  0011165.jpg_Flower  ...           0\n",
              "2  0011165.jpg_Gravel  ...           0\n",
              "3   0011165.jpg_Sugar  ...           0\n",
              "4    002be4f.jpg_Fish  ...           0\n",
              "\n",
              "[5 rows x 7 columns]"
            ]
          },
          "metadata": {
            "tags": []
          },
          "execution_count": 44
        }
      ]
    },
    {
      "cell_type": "code",
      "metadata": {
        "id": "bAS6Mfmqv2Yo",
        "colab_type": "code",
        "colab": {
          "base_uri": "https://localhost:8080/",
          "height": 288
        },
        "outputId": "31b60b4a-0364-4b23-882f-70d78ff58c4c"
      },
      "source": [
        "# Creación de nueva matriz de columna \"Image\" contra los labels dentro de ella\n",
        "df_trainfxd = df_trainfxd.groupby('Image')['Label_Fish', 'Label_Flower', 'Label_Gravel', 'Label_Sugar'].max()\n",
        "print(df_trainfxd.shape)\n",
        "df_trainfxd.head()"
      ],
      "execution_count": 68,
      "outputs": [
        {
          "output_type": "stream",
          "text": [
            "(5546, 4)\n"
          ],
          "name": "stdout"
        },
        {
          "output_type": "execute_result",
          "data": {
            "text/html": [
              "<div>\n",
              "<style scoped>\n",
              "    .dataframe tbody tr th:only-of-type {\n",
              "        vertical-align: middle;\n",
              "    }\n",
              "\n",
              "    .dataframe tbody tr th {\n",
              "        vertical-align: top;\n",
              "    }\n",
              "\n",
              "    .dataframe thead th {\n",
              "        text-align: right;\n",
              "    }\n",
              "</style>\n",
              "<table border=\"1\" class=\"dataframe\">\n",
              "  <thead>\n",
              "    <tr style=\"text-align: right;\">\n",
              "      <th></th>\n",
              "      <th>Label_Fish</th>\n",
              "      <th>Label_Flower</th>\n",
              "      <th>Label_Gravel</th>\n",
              "      <th>Label_Sugar</th>\n",
              "    </tr>\n",
              "    <tr>\n",
              "      <th>Image</th>\n",
              "      <th></th>\n",
              "      <th></th>\n",
              "      <th></th>\n",
              "      <th></th>\n",
              "    </tr>\n",
              "  </thead>\n",
              "  <tbody>\n",
              "    <tr>\n",
              "      <th>0011165.jpg</th>\n",
              "      <td>1</td>\n",
              "      <td>1</td>\n",
              "      <td>0</td>\n",
              "      <td>0</td>\n",
              "    </tr>\n",
              "    <tr>\n",
              "      <th>002be4f.jpg</th>\n",
              "      <td>1</td>\n",
              "      <td>1</td>\n",
              "      <td>0</td>\n",
              "      <td>1</td>\n",
              "    </tr>\n",
              "    <tr>\n",
              "      <th>0031ae9.jpg</th>\n",
              "      <td>1</td>\n",
              "      <td>1</td>\n",
              "      <td>0</td>\n",
              "      <td>1</td>\n",
              "    </tr>\n",
              "    <tr>\n",
              "      <th>0035239.jpg</th>\n",
              "      <td>0</td>\n",
              "      <td>1</td>\n",
              "      <td>1</td>\n",
              "      <td>0</td>\n",
              "    </tr>\n",
              "    <tr>\n",
              "      <th>003994e.jpg</th>\n",
              "      <td>1</td>\n",
              "      <td>0</td>\n",
              "      <td>1</td>\n",
              "      <td>1</td>\n",
              "    </tr>\n",
              "  </tbody>\n",
              "</table>\n",
              "</div>"
            ],
            "text/plain": [
              "             Label_Fish  Label_Flower  Label_Gravel  Label_Sugar\n",
              "Image                                                           \n",
              "0011165.jpg           1             1             0            0\n",
              "002be4f.jpg           1             1             0            1\n",
              "0031ae9.jpg           1             1             0            1\n",
              "0035239.jpg           0             1             1            0\n",
              "003994e.jpg           1             0             1            1"
            ]
          },
          "metadata": {
            "tags": []
          },
          "execution_count": 68
        }
      ]
    },
    {
      "cell_type": "code",
      "metadata": {
        "id": "_27X9eOkwe1F",
        "colab_type": "code",
        "colab": {
          "base_uri": "https://localhost:8080/",
          "height": 488
        },
        "outputId": "f9f6be09-3ffe-4297-c389-762a89725014"
      },
      "source": [
        "#Mapa de calor de corelación entre labels\n",
        "corrs = np.corrcoef(df_trainfxd.values.T)\n",
        "sns.set(font_scale=1)\n",
        "sns.set(rc={'figure.figsize':(7,7)})\n",
        "hm=sns.heatmap(corrs, cbar = True, annot=True, square = True, fmt = '.2f',\n",
        "              yticklabels = ['Fish', 'Flower', 'Gravel', 'Sugar'], \n",
        "               xticklabels = ['Fish', 'Flower', 'Gravel', 'Sugar']).set_title('CORRELACIÓN ENTRE LABELS')\n",
        "\n",
        "print(\"Tomado de: https://www.kaggle.com/aleksandradeis/understanding-clouds-eda\")\n",
        "print(\"\")\n",
        "fig = hm.get_figure()"
      ],
      "execution_count": 71,
      "outputs": [
        {
          "output_type": "stream",
          "text": [
            "Tomado de: https://www.kaggle.com/aleksandradeis/understanding-clouds-eda\n",
            "\n"
          ],
          "name": "stdout"
        },
        {
          "output_type": "display_data",
          "data": {
            "image/png": "[encoded data removed]",
            "text/plain": [
              "<Figure size 504x504 with 2 Axes>"
            ]
          },
          "metadata": {
            "tags": []
          }
        }
      ]
    }
  ]
}