{
  "nbformat": 4,
  "nbformat_minor": 0,
  "metadata": {
    "colab": {
      "name": "4.2 Entrenamiento-ADAM-Suma",
      "provenance": [],
      "collapsed_sections": [
        "Q9v9Xz0sho59",
        "O_wkuE2O2GqN",
        "iwfX3ISG2DdG",
        "jNV7nI6G7aH3",
        "PwK5Pj6PYISE",
        "IjzEgcvUvcWf"
      ],
      "machine_shape": "hm",
      "include_colab_link": true
    },
    "kernelspec": {
      "name": "python3",
      "display_name": "Python 3"
    },
    "accelerator": "GPU",
    "widgets": {
      "application/vnd.jupyter.widget-state+json": {
        "509cd99d0c8a4f8c9e69a713f4bc3148": {
          "model_module": "@jupyter-widgets/controls",
          "model_name": "HBoxModel",
          "state": {
            "_view_name": "HBoxView",
            "_dom_classes": [],
            "_model_name": "HBoxModel",
            "_view_module": "@jupyter-widgets/controls",
            "_model_module_version": "1.5.0",
            "_view_count": null,
            "_view_module_version": "1.5.0",
            "box_style": "",
            "layout": "IPY_MODEL_15ff579204264bfd982caada8808e9d6",
            "_model_module": "@jupyter-widgets/controls",
            "children": [
              "IPY_MODEL_36758c7a75d5462d90d64cc53ec0fa9f",
              "IPY_MODEL_c36ad46ee291447784171de6cd6725b4"
            ]
          }
        },
        "15ff579204264bfd982caada8808e9d6": {
          "model_module": "@jupyter-widgets/base",
          "model_name": "LayoutModel",
          "state": {
            "_view_name": "LayoutView",
            "grid_template_rows": null,
            "right": null,
            "justify_content": null,
            "_view_module": "@jupyter-widgets/base",
            "overflow": null,
            "_model_module_version": "1.2.0",
            "_view_count": null,
            "flex_flow": null,
            "width": null,
            "min_width": null,
            "border": null,
            "align_items": null,
            "bottom": null,
            "_model_module": "@jupyter-widgets/base",
            "top": null,
            "grid_column": null,
            "overflow_y": null,
            "overflow_x": null,
            "grid_auto_flow": null,
            "grid_area": null,
            "grid_template_columns": null,
            "flex": null,
            "_model_name": "LayoutModel",
            "justify_items": null,
            "grid_row": null,
            "max_height": null,
            "align_content": null,
            "visibility": null,
            "align_self": null,
            "height": null,
            "min_height": null,
            "padding": null,
            "grid_auto_rows": null,
            "grid_gap": null,
            "max_width": null,
            "order": null,
            "_view_module_version": "1.2.0",
            "grid_template_areas": null,
            "object_position": null,
            "object_fit": null,
            "grid_auto_columns": null,
            "margin": null,
            "display": null,
            "left": null
          }
        },
        "36758c7a75d5462d90d64cc53ec0fa9f": {
          "model_module": "@jupyter-widgets/controls",
          "model_name": "IntProgressModel",
          "state": {
            "_view_name": "ProgressView",
            "style": "IPY_MODEL_6d5ab49e6a3f4ac0aff8454490ecc2bf",
            "_dom_classes": [],
            "description": "Epoch 1/10",
            "_model_name": "IntProgressModel",
            "bar_style": "success",
            "max": 4159,
            "_view_module": "@jupyter-widgets/controls",
            "_model_module_version": "1.5.0",
            "value": 4159,
            "_view_count": null,
            "_view_module_version": "1.5.0",
            "orientation": "horizontal",
            "min": 0,
            "description_tooltip": null,
            "_model_module": "@jupyter-widgets/controls",
            "layout": "IPY_MODEL_608f2742dfdb4768a60a7d3d9a7be69f"
          }
        },
        "c36ad46ee291447784171de6cd6725b4": {
          "model_module": "@jupyter-widgets/controls",
          "model_name": "HTMLModel",
          "state": {
            "_view_name": "HTMLView",
            "style": "IPY_MODEL_c73e95140f33499f97868c809e5b7640",
            "_dom_classes": [],
            "description": "",
            "_model_name": "HTMLModel",
            "placeholder": "​",
            "_view_module": "@jupyter-widgets/controls",
            "_model_module_version": "1.5.0",
            "value": "100% 4159/4159 [36:34&lt;00:00,  1.45img/s, loss (batch)=1.08]",
            "_view_count": null,
            "_view_module_version": "1.5.0",
            "description_tooltip": null,
            "_model_module": "@jupyter-widgets/controls",
            "layout": "IPY_MODEL_cd4c435e5f534adb81f8fb5c22e7c8a3"
          }
        },
        "6d5ab49e6a3f4ac0aff8454490ecc2bf": {
          "model_module": "@jupyter-widgets/controls",
          "model_name": "ProgressStyleModel",
          "state": {
            "_view_name": "StyleView",
            "_model_name": "ProgressStyleModel",
            "description_width": "initial",
            "_view_module": "@jupyter-widgets/base",
            "_model_module_version": "1.5.0",
            "_view_count": null,
            "_view_module_version": "1.2.0",
            "bar_color": null,
            "_model_module": "@jupyter-widgets/controls"
          }
        },
        "608f2742dfdb4768a60a7d3d9a7be69f": {
          "model_module": "@jupyter-widgets/base",
          "model_name": "LayoutModel",
          "state": {
            "_view_name": "LayoutView",
            "grid_template_rows": null,
            "right": null,
            "justify_content": null,
            "_view_module": "@jupyter-widgets/base",
            "overflow": null,
            "_model_module_version": "1.2.0",
            "_view_count": null,
            "flex_flow": null,
            "width": null,
            "min_width": null,
            "border": null,
            "align_items": null,
            "bottom": null,
            "_model_module": "@jupyter-widgets/base",
            "top": null,
            "grid_column": null,
            "overflow_y": null,
            "overflow_x": null,
            "grid_auto_flow": null,
            "grid_area": null,
            "grid_template_columns": null,
            "flex": null,
            "_model_name": "LayoutModel",
            "justify_items": null,
            "grid_row": null,
            "max_height": null,
            "align_content": null,
            "visibility": null,
            "align_self": null,
            "height": null,
            "min_height": null,
            "padding": null,
            "grid_auto_rows": null,
            "grid_gap": null,
            "max_width": null,
            "order": null,
            "_view_module_version": "1.2.0",
            "grid_template_areas": null,
            "object_position": null,
            "object_fit": null,
            "grid_auto_columns": null,
            "margin": null,
            "display": null,
            "left": null
          }
        },
        "c73e95140f33499f97868c809e5b7640": {
          "model_module": "@jupyter-widgets/controls",
          "model_name": "DescriptionStyleModel",
          "state": {
            "_view_name": "StyleView",
            "_model_name": "DescriptionStyleModel",
            "description_width": "",
            "_view_module": "@jupyter-widgets/base",
            "_model_module_version": "1.5.0",
            "_view_count": null,
            "_view_module_version": "1.2.0",
            "_model_module": "@jupyter-widgets/controls"
          }
        },
        "cd4c435e5f534adb81f8fb5c22e7c8a3": {
          "model_module": "@jupyter-widgets/base",
          "model_name": "LayoutModel",
          "state": {
            "_view_name": "LayoutView",
            "grid_template_rows": null,
            "right": null,
            "justify_content": null,
            "_view_module": "@jupyter-widgets/base",
            "overflow": null,
            "_model_module_version": "1.2.0",
            "_view_count": null,
            "flex_flow": null,
            "width": null,
            "min_width": null,
            "border": null,
            "align_items": null,
            "bottom": null,
            "_model_module": "@jupyter-widgets/base",
            "top": null,
            "grid_column": null,
            "overflow_y": null,
            "overflow_x": null,
            "grid_auto_flow": null,
            "grid_area": null,
            "grid_template_columns": null,
            "flex": null,
            "_model_name": "LayoutModel",
            "justify_items": null,
            "grid_row": null,
            "max_height": null,
            "align_content": null,
            "visibility": null,
            "align_self": null,
            "height": null,
            "min_height": null,
            "padding": null,
            "grid_auto_rows": null,
            "grid_gap": null,
            "max_width": null,
            "order": null,
            "_view_module_version": "1.2.0",
            "grid_template_areas": null,
            "object_position": null,
            "object_fit": null,
            "grid_auto_columns": null,
            "margin": null,
            "display": null,
            "left": null
          }
        },
        "8cee7a0efa49491788656e3104692f19": {
          "model_module": "@jupyter-widgets/controls",
          "model_name": "HBoxModel",
          "state": {
            "_view_name": "HBoxView",
            "_dom_classes": [],
            "_model_name": "HBoxModel",
            "_view_module": "@jupyter-widgets/controls",
            "_model_module_version": "1.5.0",
            "_view_count": null,
            "_view_module_version": "1.5.0",
            "box_style": "",
            "layout": "IPY_MODEL_277eac504bb84140950f566137355b8d",
            "_model_module": "@jupyter-widgets/controls",
            "children": [
              "IPY_MODEL_a9e02c745d554e1588f708f387c469f9",
              "IPY_MODEL_2e2befb10eb941968f581214cbdf03b1"
            ]
          }
        },
        "277eac504bb84140950f566137355b8d": {
          "model_module": "@jupyter-widgets/base",
          "model_name": "LayoutModel",
          "state": {
            "_view_name": "LayoutView",
            "grid_template_rows": null,
            "right": null,
            "justify_content": null,
            "_view_module": "@jupyter-widgets/base",
            "overflow": null,
            "_model_module_version": "1.2.0",
            "_view_count": null,
            "flex_flow": null,
            "width": null,
            "min_width": null,
            "border": null,
            "align_items": null,
            "bottom": null,
            "_model_module": "@jupyter-widgets/base",
            "top": null,
            "grid_column": null,
            "overflow_y": null,
            "overflow_x": null,
            "grid_auto_flow": null,
            "grid_area": null,
            "grid_template_columns": null,
            "flex": null,
            "_model_name": "LayoutModel",
            "justify_items": null,
            "grid_row": null,
            "max_height": null,
            "align_content": null,
            "visibility": null,
            "align_self": null,
            "height": null,
            "min_height": null,
            "padding": null,
            "grid_auto_rows": null,
            "grid_gap": null,
            "max_width": null,
            "order": null,
            "_view_module_version": "1.2.0",
            "grid_template_areas": null,
            "object_position": null,
            "object_fit": null,
            "grid_auto_columns": null,
            "margin": null,
            "display": null,
            "left": null
          }
        },
        "a9e02c745d554e1588f708f387c469f9": {
          "model_module": "@jupyter-widgets/controls",
          "model_name": "IntProgressModel",
          "state": {
            "_view_name": "ProgressView",
            "style": "IPY_MODEL_aeb78f4ff48844768d7f801363b00e3e",
            "_dom_classes": [],
            "description": "Validation round",
            "_model_name": "IntProgressModel",
            "bar_style": "",
            "max": 1387,
            "_view_module": "@jupyter-widgets/controls",
            "_model_module_version": "1.5.0",
            "value": 1387,
            "_view_count": null,
            "_view_module_version": "1.5.0",
            "orientation": "horizontal",
            "min": 0,
            "description_tooltip": null,
            "_model_module": "@jupyter-widgets/controls",
            "layout": "IPY_MODEL_853ff4fa98bc47b793e414b69f4e6047"
          }
        },
        "2e2befb10eb941968f581214cbdf03b1": {
          "model_module": "@jupyter-widgets/controls",
          "model_name": "HTMLModel",
          "state": {
            "_view_name": "HTMLView",
            "style": "IPY_MODEL_890b60ebfb6a4748a722c42a3c1f4b55",
            "_dom_classes": [],
            "description": "",
            "_model_name": "HTMLModel",
            "placeholder": "​",
            "_view_module": "@jupyter-widgets/controls",
            "_model_module_version": "1.5.0",
            "value": "100% 1387/1387 [08:30&lt;00:00,  2.46img/s]",
            "_view_count": null,
            "_view_module_version": "1.5.0",
            "description_tooltip": null,
            "_model_module": "@jupyter-widgets/controls",
            "layout": "IPY_MODEL_32437d03e5e74250879678ddea6fd244"
          }
        }
      }
    }
  },
  "cells": [
    {
      "cell_type": "markdown",
      "metadata": {
        "id": "view-in-github",
        "colab_type": "text"
      },
      "source": [
        "<a href=\"https://colab.research.google.com/github/MRAMIRE/Tesis_Modelo_Deep_Learning_USA/blob/master/4_2_Entrenamiento_ADAM_Suma.ipynb\" target=\"_parent\"><img src=\"https://colab.research.google.com/assets/colab-badge.svg\" alt=\"Open In Colab\"/></a>"
      ]
    },
    {
      "cell_type": "markdown",
      "metadata": {
        "id": "eHynZzdR11OT",
        "colab_type": "text"
      },
      "source": [
        "# **PROCESAMIENTO DE DATA:**\n",
        "\n",
        "###FELIPE ANTONIO MELO CIFUENTES\n",
        "\n",
        "###MARIA CAMILA RAMIREZ FERRO\n",
        "\n",
        "\n"
      ]
    },
    {
      "cell_type": "markdown",
      "metadata": {
        "id": "Q9v9Xz0sho59",
        "colab_type": "text"
      },
      "source": [
        "##### Clonación de repositorio github"
      ]
    },
    {
      "cell_type": "code",
      "metadata": {
        "id": "O6TAUCDehuHJ",
        "colab_type": "code",
        "outputId": "8ad0a4fd-087b-4790-f771-a4f926d18cee",
        "colab": {
          "base_uri": "https://localhost:8080/"
        }
      },
      "source": [
        "import os\n",
        "if os.path.exists('Tesis_Modelo_Deep_Learning_USA/'):\n",
        "  !git -C Tesis_Modelo_Deep_Learning_USA/ fetch --all\n",
        "  !git -C Tesis_Modelo_Deep_Learning_USA/ reset --hard origin/master\n",
        "  !git -C Tesis_Modelo_Deep_Learning_USA/ pull origin master;\n",
        "else:\n",
        "  !git clone https://github.com/MRAMIRE/Tesis_Modelo_Deep_Learning_USA.git\n",
        "%cd Tesis_Modelo_Deep_Learning_USA/\n",
        "from utils import *\n",
        "from Unet import *"
      ],
      "execution_count": 0,
      "outputs": [
        {
          "output_type": "stream",
          "text": [
            "Cloning into 'Tesis_Modelo_Deep_Learning_USA'...\n",
            "remote: Enumerating objects: 150, done.\u001b[K\n",
            "remote: Counting objects: 100% (150/150), done.\u001b[K\n",
            "remote: Compressing objects: 100% (112/112), done.\u001b[K\n",
            "remote: Total 339 (delta 82), reused 90 (delta 38), pack-reused 189\u001b[K\n",
            "Receiving objects: 100% (339/339), 2.24 MiB | 22.26 MiB/s, done.\n",
            "Resolving deltas: 100% (168/168), done.\n",
            "/content/Tesis_Modelo_Deep_Learning_USA\n"
          ],
          "name": "stdout"
        }
      ]
    },
    {
      "cell_type": "markdown",
      "metadata": {
        "id": "O_wkuE2O2GqN",
        "colab_type": "text"
      },
      "source": [
        "##### Permisos y cambio de directorio:"
      ]
    },
    {
      "cell_type": "code",
      "metadata": {
        "id": "ZqM7KfD2sYfr",
        "colab_type": "code",
        "outputId": "4eacd7df-2830-44c8-cbd5-27e9f41231b2",
        "colab": {
          "base_uri": "https://localhost:8080/"
        }
      },
      "source": [
        "from google.colab import drive\n",
        "#Permisos\n",
        "drive.mount('/gdrive')\n",
        "#Cambio de Directorio\n",
        "%cd /gdrive/My\\ Drive/Tesis\n",
        "#%cd /gdrive/Share\\Whit\\Me\n",
        "%ls "
      ],
      "execution_count": 0,
      "outputs": [
        {
          "output_type": "stream",
          "text": [
            "Go to this URL in a browser: https://accounts.google.com/o/oauth2/auth?client_id=947318989803-6bn6qk8qdgf4n4g3pfee6491hc0brc4i.apps.googleusercontent.com&redirect_uri=urn%3aietf%3awg%3aoauth%3a2.0%3aoob&response_type=code&scope=email%20https%3a%2f%2fwww.googleapis.com%2fauth%2fdocs.test%20https%3a%2f%2fwww.googleapis.com%2fauth%2fdrive%20https%3a%2f%2fwww.googleapis.com%2fauth%2fdrive.photos.readonly%20https%3a%2f%2fwww.googleapis.com%2fauth%2fpeopleapi.readonly\n",
            "\n",
            "Enter your authorization code:\n",
            "··········\n",
            "Mounted at /gdrive\n",
            "/gdrive/My Drive/Tesis\n",
            "'1. Exploración de los Datos'\n",
            "'2. Visualización de la Data.ipynb'\n",
            "'3. Pre-PorcesamientoV2-Data.Pre-PorcesamientoV2-Data'\n",
            "'5. Resultados_cross'\n",
            "'6. TensorBoard '\n",
            "'7. Submission'\n",
            " \u001b[0m\u001b[01;34mcheck\u001b[0m/\n",
            "'Data Set.ipynb'\n",
            " Entrenamiento-ADAM-Cross\n",
            " Entrenamiento-ADAM-Suma\n",
            "'Entrenamiento-RMS-Cross '\n",
            "'Entrenamiento-RMS-Suma '\n",
            "\u001b[01;34m'Pruebas 9 12'\u001b[0m/\n",
            " Resultados\n",
            " Resultados_suma\n",
            " \u001b[01;34mruns\u001b[0m/\n",
            " sample_submission.csv\n",
            " set_test.csv\n",
            " set_train.csv\n",
            " \u001b[01;34mTesis_Modelo_Deep_Learning_USA\u001b[0m/\n",
            " \u001b[01;34mtest_images\u001b[0m/\n",
            " train.csv\n",
            " \u001b[01;34mtrain_images\u001b[0m/\n"
          ],
          "name": "stdout"
        }
      ]
    },
    {
      "cell_type": "markdown",
      "metadata": {
        "id": "iwfX3ISG2DdG",
        "colab_type": "text"
      },
      "source": [
        "#####Importar librerias:"
      ]
    },
    {
      "cell_type": "code",
      "metadata": {
        "id": "u7wAz7bI32WZ",
        "colab_type": "code",
        "colab": {}
      },
      "source": [
        "import numpy as np\n",
        "from torch.utils.data import DataLoader\n",
        "import torch\n",
        "import torch.nn as nn\n",
        "import torch.nn.functional as F\n",
        "from tqdm import tqdm_notebook as tqdm\n",
        "import pylab as plt\n",
        "from torch.autograd import Function\n",
        "from torch import optim\n",
        "from torch.utils.tensorboard import SummaryWriter\n",
        "import logging\n",
        "from torchvision import transforms\n",
        "from torch.optim.lr_scheduler import ReduceLROnPlateau"
      ],
      "execution_count": 0,
      "outputs": []
    },
    {
      "cell_type": "markdown",
      "metadata": {
        "id": "_AIQcfew4JQN",
        "colab_type": "text"
      },
      "source": [
        "\n",
        "\n",
        "```\n",
        "import matplotlib\n",
        "from torchvision import utils\n",
        "%matplotlib inline\n",
        "import argparse\n",
        "import sys\n",
        "```\n",
        "\n"
      ]
    },
    {
      "cell_type": "markdown",
      "metadata": {
        "id": "jNV7nI6G7aH3",
        "colab_type": "text"
      },
      "source": [
        "##### Suma"
      ]
    },
    {
      "cell_type": "code",
      "metadata": {
        "id": "GiA4LVo27VXi",
        "colab_type": "code",
        "colab": {}
      },
      "source": [
        "def suma(prediction,target):\n",
        "  dice = dice_coeff(prediction,target)\n",
        "  cross = cross_entropy(prediction,target)\n",
        "  return cross + (1-dice)"
      ],
      "execution_count": 0,
      "outputs": []
    },
    {
      "cell_type": "markdown",
      "metadata": {
        "id": "PwK5Pj6PYISE",
        "colab_type": "text"
      },
      "source": [
        "##### Eval"
      ]
    },
    {
      "cell_type": "code",
      "metadata": {
        "id": "l4vz40-JYFzm",
        "colab_type": "code",
        "colab": {}
      },
      "source": [
        "def eval_net(net, loader, device, n_val):\n",
        "    \"\"\"Evaluation without the densecrf with the dice coefficient\"\"\"\n",
        "    net.eval()\n",
        "    tot = 0\n",
        "    with tqdm(total=n_val, desc='Validation round', unit='img', leave=False) as pbarV:\n",
        "        for batch in loader:\n",
        "            imgs = batch['image']\n",
        "            true_masks = batch['mask']\n",
        "\n",
        "            imgs = imgs.to(device=device, dtype=torch.float32)\n",
        "            true_masks = true_masks.to(device=device, dtype=torch.float32)\n",
        "\n",
        "            mask_pred = net(imgs)\n",
        "\n",
        "            for true_mask, pred in zip(true_masks, mask_pred ):\n",
        "                tot +=  dice_coeff(mask_pred, true_masks)\n",
        "            pbarV.update(imgs.shape[0])\n",
        "    return tot.item() / n_val"
      ],
      "execution_count": 0,
      "outputs": []
    },
    {
      "cell_type": "markdown",
      "metadata": {
        "id": "IjzEgcvUvcWf",
        "colab_type": "text"
      },
      "source": [
        "\n",
        "\n",
        "\n",
        "\n",
        "\n",
        "\n",
        "\n",
        "\n",
        "\n",
        "\n",
        "\n",
        "\n",
        "\n",
        "\n",
        "\n",
        "\n",
        "\n",
        "\n",
        "\n",
        "\n",
        "\n",
        "\n",
        "\n",
        "\n",
        "\n",
        "\n",
        "\n",
        "\n",
        "\n",
        "\n",
        "\n",
        "\n",
        "\n",
        "\n",
        "\n",
        "\n",
        "\n",
        "\n",
        "\n",
        "\n",
        "\n",
        "\n",
        "\n",
        "\n",
        "\n",
        "\n",
        "\n",
        "\n",
        "\n",
        "\n",
        "\n",
        "\n",
        "\n",
        "\n",
        "\n",
        "\n",
        "\n",
        "##### Def Train"
      ]
    },
    {
      "cell_type": "code",
      "metadata": {
        "id": "BMA8coFuv54n",
        "colab_type": "code",
        "colab": {}
      },
      "source": [
        "def train_net(net,device,model_check,desc_check,epochs=5,batch_size=4,lr=0.1,save_cp=True,img_scale=0.5,n_workers=0):\n",
        "  dir_checkpoint= model_check\n",
        "  transform_img = transforms.Compose([transforms.Resize(350) , transforms.ToTensor()])\n",
        "  train_dataset = CloudDataSet(csv_file ='set_train.csv', root_dir='./train_images/',transform = transform_img)\n",
        "  n_train = len(train_dataset)\n",
        "  val_dataset = CloudDataSet(csv_file ='set_test.csv', root_dir='./train_images/',transform = transform_img)\n",
        "  n_val = len(val_dataset)\n",
        "  n_data = n_val + n_train\n",
        "  train_loader = DataLoader(train_dataset, batch_size = batch_size, shuffle=True, num_workers = n_workers)\n",
        "  test_loader = DataLoader(val_dataset, batch_size =batch_size, shuffle=False, num_workers = n_workers)\n",
        "  \n",
        "  writer = SummaryWriter(comment=desc_check)\n",
        "  global_step = 0\n",
        "  logging.info(f'''Starting training:\n",
        "        Epochs:          {epochs}\n",
        "        Batch size:      {batch_size}\n",
        "        Learning rate:   {lr}\n",
        "        Training size:   {n_train}\n",
        "        Validation size: {n_val}\n",
        "        Checkpoints:     {save_cp}\n",
        "        Device:          {device}\n",
        "        Images scaling:  {img_scale}\n",
        "    ''')\n",
        "  net.to(device)\n",
        "  optimizer = optim.Adam(net.parameters(), lr=lr, weight_decay=1e-8)\n",
        "  criterion = suma\n",
        "  scheduler = ReduceLROnPlateau(optimizer, patience=3)\n",
        "  no_val = 0\n",
        "  for epoch in range(epochs):\n",
        "    net.train()\n",
        "    with tqdm(total=n_train, desc=f'Epoch {epoch + 1}/{epochs}', unit='img') as pbar:\n",
        "      for batch in train_loader:\n",
        "        imgs = batch['image']\n",
        "        imgs = imgs.to(device=device,dtype=torch.float32)\n",
        "\n",
        "        true_masks = batch['mask']\n",
        "        true_masks = true_masks.to(device=device,dtype=torch.float32)\n",
        "        masks_pred = net(imgs)\n",
        "\n",
        "        loss = criterion(masks_pred, true_masks)\n",
        "        dice_loss = dice_coeff(masks_pred, true_masks)\n",
        "        writer.add_scalar('Cross & Dice Loss/train', loss.item(), global_step)\n",
        "        writer.add_scalar('Dice Loss/train',dice_loss.item(),global_step )\n",
        "\n",
        "        pbar.set_postfix(**{'loss (batch)': loss.item()})\n",
        "\n",
        "        optimizer.zero_grad()\n",
        "        loss.backward()\n",
        "        optimizer.step()\n",
        "\n",
        "        pbar.update(imgs.shape[0])\n",
        "        global_step += 1\n",
        "        \n",
        "        if save_cp:\n",
        "          try:\n",
        "            os.mkdir(dir_checkpoint)\n",
        "            logging.info('Created checkpoint directory')\n",
        "          except OSError:\n",
        "            pass\n",
        "          torch.save(net.state_dict(),dir_checkpoint + f'CP_epoch{epoch + 1}.pth')\n",
        "          logging.info(f'Checkpoint {epoch + 1} saved !')\n",
        "    with torch.no_grad():\n",
        "      val_score = eval_net(net, test_loader, device, n_val)\n",
        "      logging.info('Validation cross entropy: {}'.format(val_score))\n",
        "      writer.add_scalar('Dice Loss/test', val_score, global_step)\n",
        "      no_val += 1\n",
        "      print('Dice loss validacion #',no_val,': ',val_score)\n",
        "      scheduler.step(val_score)\n",
        "      writer.add_scalar('Learning Rate',optimizer.param_groups[0]['lr'],global_step )\n",
        "      print(optimizer.param_groups[0]['lr'])\n",
        "\n",
        "  writer.close()"
      ],
      "execution_count": 0,
      "outputs": []
    },
    {
      "cell_type": "markdown",
      "metadata": {
        "id": "1YcLZqbHnnGm",
        "colab_type": "text"
      },
      "source": [
        "##### Train"
      ]
    },
    {
      "cell_type": "code",
      "metadata": {
        "id": "XhTIkQgTVi8Q",
        "colab_type": "code",
        "outputId": "6c88a701-b36d-4635-906c-e08c5802ee61",
        "colab": {
          "base_uri": "https://localhost:8080/",
          "height": 34
        }
      },
      "source": [
        "root = 'check/ADAM-SUM/c2/CP_epoch8.pth'\n",
        "net = UNet(3,4,1)\n",
        "net.load_state_dict(torch.load(root))"
      ],
      "execution_count": 0,
      "outputs": [
        {
          "output_type": "execute_result",
          "data": {
            "text/plain": [
              "<All keys matched successfully>"
            ]
          },
          "metadata": {
            "tags": []
          },
          "execution_count": 7
        }
      ]
    },
    {
      "cell_type": "code",
      "metadata": {
        "id": "AHAR1p5OwCGy",
        "colab_type": "code",
        "outputId": "7f5f19c5-8586-452f-8cf9-352ccbbdd769",
        "colab": {
          "base_uri": "https://localhost:8080/",
          "height": 80,
          "referenced_widgets": [
            "509cd99d0c8a4f8c9e69a713f4bc3148",
            "15ff579204264bfd982caada8808e9d6",
            "36758c7a75d5462d90d64cc53ec0fa9f",
            "c36ad46ee291447784171de6cd6725b4",
            "6d5ab49e6a3f4ac0aff8454490ecc2bf",
            "608f2742dfdb4768a60a7d3d9a7be69f",
            "c73e95140f33499f97868c809e5b7640",
            "cd4c435e5f534adb81f8fb5c22e7c8a3",
            "8cee7a0efa49491788656e3104692f19",
            "277eac504bb84140950f566137355b8d",
            "a9e02c745d554e1588f708f387c469f9",
            "2e2befb10eb941968f581214cbdf03b1"
          ]
        }
      },
      "source": [
        "model_check = 'check/ADAM-SUM/c3/'\n",
        "desc_check= 'Op-ADAM_Cr-Sum_12-1'\n",
        "train_net(net,'cuda',epochs=10,lr=0.1,model_check=model_check,desc_check=desc_check)"
      ],
      "execution_count": 0,
      "outputs": [
        {
          "output_type": "display_data",
          "data": {
            "text/html": [
              "<p style=\"color: red;\">\n",
              "The default version of TensorFlow in Colab will soon switch to TensorFlow 2.x.<br>\n",
              "We recommend you <a href=\"https://www.tensorflow.org/guide/migrate\" target=\"_blank\">upgrade</a> now \n",
              "or ensure your notebook will continue to use TensorFlow 1.x via the <code>%tensorflow_version 1.x</code> magic:\n",
              "<a href=\"https://colab.research.google.com/notebooks/tensorflow_version.ipynb\" target=\"_blank\">more info</a>.</p>\n"
            ],
            "text/plain": [
              "<IPython.core.display.HTML object>"
            ]
          },
          "metadata": {
            "tags": []
          }
        },
        {
          "output_type": "display_data",
          "data": {
            "application/vnd.jupyter.widget-view+json": {
              "model_id": "509cd99d0c8a4f8c9e69a713f4bc3148",
              "version_minor": 0,
              "version_major": 2
            },
            "text/plain": [
              "HBox(children=(IntProgress(value=0, description='Epoch 1/10', max=4159, style=ProgressStyle(description_width=…"
            ]
          },
          "metadata": {
            "tags": []
          }
        },
        {
          "output_type": "stream",
          "text": [
            "\n"
          ],
          "name": "stdout"
        },
        {
          "output_type": "display_data",
          "data": {
            "application/vnd.jupyter.widget-view+json": {
              "model_id": "8cee7a0efa49491788656e3104692f19",
              "version_minor": 0,
              "version_major": 2
            },
            "text/plain": [
              "HBox(children=(IntProgress(value=0, description='Validation round', max=1387, style=ProgressStyle(description_…"
            ]
          },
          "metadata": {
            "tags": []
          }
        },
        {
          "output_type": "stream",
          "text": [
            "\rDice loss validacion # 1 :  0.47094999394489007\n",
            "0.1\n"
          ],
          "name": "stdout"
        },
        {
          "output_type": "display_data",
          "data": {
            "application/vnd.jupyter.widget-view+json": {
              "model_id": "fafdf77477ee419498f0292d393b0e3c",
              "version_minor": 0,
              "version_major": 2
            },
            "text/plain": [
              "HBox(children=(IntProgress(value=0, description='Epoch 2/10', max=4159, style=ProgressStyle(description_width=…"
            ]
          },
          "metadata": {
            "tags": []
          }
        },
        {
          "output_type": "stream",
          "text": [
            "\n"
          ],
          "name": "stdout"
        },
        {
          "output_type": "display_data",
          "data": {
            "application/vnd.jupyter.widget-view+json": {
              "model_id": "7ac083e194cc425d88815f260844a99f",
              "version_minor": 0,
              "version_major": 2
            },
            "text/plain": [
              "HBox(children=(IntProgress(value=0, description='Validation round', max=1387, style=ProgressStyle(description_…"
            ]
          },
          "metadata": {
            "tags": []
          }
        },
        {
          "output_type": "stream",
          "text": [
            "\rDice loss validacion # 2 :  0.4746338858738509\n",
            "0.1\n"
          ],
          "name": "stdout"
        },
        {
          "output_type": "display_data",
          "data": {
            "application/vnd.jupyter.widget-view+json": {
              "model_id": "45190bfeece64e8693490b5a6469d764",
              "version_minor": 0,
              "version_major": 2
            },
            "text/plain": [
              "HBox(children=(IntProgress(value=0, description='Epoch 3/10', max=4159, style=ProgressStyle(description_width=…"
            ]
          },
          "metadata": {
            "tags": []
          }
        },
        {
          "output_type": "stream",
          "text": [
            "\n"
          ],
          "name": "stdout"
        },
        {
          "output_type": "display_data",
          "data": {
            "application/vnd.jupyter.widget-view+json": {
              "model_id": "a34a1816dff848a3997a1bd89d0468ec",
              "version_minor": 0,
              "version_major": 2
            },
            "text/plain": [
              "HBox(children=(IntProgress(value=0, description='Validation round', max=1387, style=ProgressStyle(description_…"
            ]
          },
          "metadata": {
            "tags": []
          }
        },
        {
          "output_type": "stream",
          "text": [
            "\rDice loss validacion # 3 :  0.44901914259643116\n",
            "0.1\n"
          ],
          "name": "stdout"
        },
        {
          "output_type": "display_data",
          "data": {
            "application/vnd.jupyter.widget-view+json": {
              "model_id": "5db6f5191d4b41c9bd8cd9a229b877b5",
              "version_minor": 0,
              "version_major": 2
            },
            "text/plain": [
              "HBox(children=(IntProgress(value=0, description='Epoch 4/10', max=4159, style=ProgressStyle(description_width=…"
            ]
          },
          "metadata": {
            "tags": []
          }
        },
        {
          "output_type": "stream",
          "text": [
            "\n"
          ],
          "name": "stdout"
        },
        {
          "output_type": "display_data",
          "data": {
            "application/vnd.jupyter.widget-view+json": {
              "model_id": "0c96e7f113ca439e80ad7615286d2760",
              "version_minor": 0,
              "version_major": 2
            },
            "text/plain": [
              "HBox(children=(IntProgress(value=0, description='Validation round', max=1387, style=ProgressStyle(description_…"
            ]
          },
          "metadata": {
            "tags": []
          }
        },
        {
          "output_type": "stream",
          "text": [
            "\rDice loss validacion # 4 :  0.44194874560652486\n",
            "0.1\n"
          ],
          "name": "stdout"
        },
        {
          "output_type": "display_data",
          "data": {
            "application/vnd.jupyter.widget-view+json": {
              "model_id": "39950f3b5a8843a2aab878618cee2ace",
              "version_minor": 0,
              "version_major": 2
            },
            "text/plain": [
              "HBox(children=(IntProgress(value=0, description='Epoch 5/10', max=4159, style=ProgressStyle(description_width=…"
            ]
          },
          "metadata": {
            "tags": []
          }
        },
        {
          "output_type": "stream",
          "text": [
            "\n"
          ],
          "name": "stdout"
        },
        {
          "output_type": "display_data",
          "data": {
            "application/vnd.jupyter.widget-view+json": {
              "model_id": "95ec770b0b604a0ca9d771b4a1df3782",
              "version_minor": 0,
              "version_major": 2
            },
            "text/plain": [
              "HBox(children=(IntProgress(value=0, description='Validation round', max=1387, style=ProgressStyle(description_…"
            ]
          },
          "metadata": {
            "tags": []
          }
        },
        {
          "output_type": "stream",
          "text": [
            "\rDice loss validacion # 5 :  0.4854640396877253\n",
            "0.1\n"
          ],
          "name": "stdout"
        },
        {
          "output_type": "display_data",
          "data": {
            "application/vnd.jupyter.widget-view+json": {
              "model_id": "0d8187066e244936a0d909f50020ee7f",
              "version_minor": 0,
              "version_major": 2
            },
            "text/plain": [
              "HBox(children=(IntProgress(value=0, description='Epoch 6/10', max=4159, style=ProgressStyle(description_width=…"
            ]
          },
          "metadata": {
            "tags": []
          }
        },
        {
          "output_type": "stream",
          "text": [
            "\n"
          ],
          "name": "stdout"
        },
        {
          "output_type": "display_data",
          "data": {
            "application/vnd.jupyter.widget-view+json": {
              "model_id": "d0db64dedb294c0ca51ab2c89bc88fec",
              "version_minor": 0,
              "version_major": 2
            },
            "text/plain": [
              "HBox(children=(IntProgress(value=0, description='Validation round', max=1387, style=ProgressStyle(description_…"
            ]
          },
          "metadata": {
            "tags": []
          }
        },
        {
          "output_type": "stream",
          "text": [
            "\rDice loss validacion # 6 :  0.46124615218885184\n",
            "0.1\n"
          ],
          "name": "stdout"
        },
        {
          "output_type": "display_data",
          "data": {
            "application/vnd.jupyter.widget-view+json": {
              "model_id": "2b495af61bd84ee1b576a6a9e327d23a",
              "version_minor": 0,
              "version_major": 2
            },
            "text/plain": [
              "HBox(children=(IntProgress(value=0, description='Epoch 7/10', max=4159, style=ProgressStyle(description_width=…"
            ]
          },
          "metadata": {
            "tags": []
          }
        },
        {
          "output_type": "stream",
          "text": [
            "\n"
          ],
          "name": "stdout"
        },
        {
          "output_type": "display_data",
          "data": {
            "application/vnd.jupyter.widget-view+json": {
              "model_id": "d12f6bf724074d51be4af947bf04aeb9",
              "version_minor": 0,
              "version_major": 2
            },
            "text/plain": [
              "HBox(children=(IntProgress(value=0, description='Validation round', max=1387, style=ProgressStyle(description_…"
            ]
          },
          "metadata": {
            "tags": []
          }
        },
        {
          "output_type": "stream",
          "text": [
            "\rDice loss validacion # 7 :  0.44989260100768297\n",
            "0.1\n"
          ],
          "name": "stdout"
        },
        {
          "output_type": "display_data",
          "data": {
            "application/vnd.jupyter.widget-view+json": {
              "model_id": "7e7cfc8d60bc44da8d592e49fee91319",
              "version_minor": 0,
              "version_major": 2
            },
            "text/plain": [
              "HBox(children=(IntProgress(value=0, description='Epoch 8/10', max=4159, style=ProgressStyle(description_width=…"
            ]
          },
          "metadata": {
            "tags": []
          }
        },
        {
          "output_type": "stream",
          "text": [
            "\n"
          ],
          "name": "stdout"
        },
        {
          "output_type": "display_data",
          "data": {
            "application/vnd.jupyter.widget-view+json": {
              "model_id": "b80653e77f0945b8810fff57ca0c4c81",
              "version_minor": 0,
              "version_major": 2
            },
            "text/plain": [
              "HBox(children=(IntProgress(value=0, description='Validation round', max=1387, style=ProgressStyle(description_…"
            ]
          },
          "metadata": {
            "tags": []
          }
        },
        {
          "output_type": "stream",
          "text": [
            "\rDice loss validacion # 8 :  0.4206473000546368\n",
            "0.1\n"
          ],
          "name": "stdout"
        },
        {
          "output_type": "display_data",
          "data": {
            "application/vnd.jupyter.widget-view+json": {
              "model_id": "9d79bd69a58d4e478ba4b6708e1fb439",
              "version_minor": 0,
              "version_major": 2
            },
            "text/plain": [
              "HBox(children=(IntProgress(value=0, description='Epoch 9/10', max=4159, style=ProgressStyle(description_width=…"
            ]
          },
          "metadata": {
            "tags": []
          }
        },
        {
          "output_type": "stream",
          "text": [
            "\n"
          ],
          "name": "stdout"
        },
        {
          "output_type": "display_data",
          "data": {
            "application/vnd.jupyter.widget-view+json": {
              "model_id": "165ffd69dba24db2bf1f47dfe9bb0bf4",
              "version_minor": 0,
              "version_major": 2
            },
            "text/plain": [
              "HBox(children=(IntProgress(value=0, description='Validation round', max=1387, style=ProgressStyle(description_…"
            ]
          },
          "metadata": {
            "tags": []
          }
        },
        {
          "output_type": "stream",
          "text": [
            "\rDice loss validacion # 9 :  0.4580456569371846\n",
            "0.1\n"
          ],
          "name": "stdout"
        },
        {
          "output_type": "display_data",
          "data": {
            "application/vnd.jupyter.widget-view+json": {
              "model_id": "43a2e90984694c1cb5bc465b2ee26c2d",
              "version_minor": 0,
              "version_major": 2
            },
            "text/plain": [
              "HBox(children=(IntProgress(value=0, description='Epoch 10/10', max=4159, style=ProgressStyle(description_width…"
            ]
          },
          "metadata": {
            "tags": []
          }
        },
        {
          "output_type": "stream",
          "text": [
            "\n"
          ],
          "name": "stdout"
        },
        {
          "output_type": "display_data",
          "data": {
            "application/vnd.jupyter.widget-view+json": {
              "model_id": "259fb1812f87427ba71a6211671da206",
              "version_minor": 0,
              "version_major": 2
            },
            "text/plain": [
              "HBox(children=(IntProgress(value=0, description='Validation round', max=1387, style=ProgressStyle(description_…"
            ]
          },
          "metadata": {
            "tags": []
          }
        },
        {
          "output_type": "stream",
          "text": [
            "\rDice loss validacion # 10 :  0.48323605846138246\n",
            "0.1\n"
          ],
          "name": "stdout"
        }
      ]
    }
  ]
}