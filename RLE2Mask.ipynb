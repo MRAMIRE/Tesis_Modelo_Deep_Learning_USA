{
  "nbformat": 4,
  "nbformat_minor": 0,
  "metadata": {
    "colab": {
      "name": "RLE2Mask",
      "provenance": [],
      "collapsed_sections": [],
      "include_colab_link": true
    },
    "kernelspec": {
      "name": "python3",
      "display_name": "Python 3"
    }
  },
  "cells": [
    {
      "cell_type": "markdown",
      "metadata": {
        "id": "view-in-github",
        "colab_type": "text"
      },
      "source": [
        "<a href=\"https://colab.research.google.com/github/MRAMIRE/Tesis_Modelo_Deep_Learning_USA/blob/master/RLE2Mask.ipynb\" target=\"_parent\"><img src=\"https://colab.research.google.com/assets/colab-badge.svg\" alt=\"Open In Colab\"/></a>"
      ]
    },
    {
      "cell_type": "markdown",
      "metadata": {
        "id": "jCXXEEPuKZQm",
        "colab_type": "text"
      },
      "source": [
        "##### RLE to Mask"
      ]
    },
    {
      "cell_type": "code",
      "metadata": {
        "id": "jif-1UKPKXtb",
        "colab_type": "code",
        "colab": {}
      },
      "source": [
        "def rle_to_mask(rle_string, height=1400, width=2100):\n",
        "  rows, cols = height, width\n",
        "  if rle_string == '-1':\n",
        "        return np.zeros((height, width),dtype=np.uint8)\n",
        "  else:\n",
        "        rle_numbers = [int(num_string) for num_string in rle_string.split(' ')]\n",
        "        rle_pairs = np.array(rle_numbers).reshape(-1,2)\n",
        "        img = np.zeros(rows*cols, dtype=np.uint8)\n",
        "        for index, length in rle_pairs:\n",
        "            index -= 1\n",
        "            img[index:index+length] = 1\n",
        "        img = img.reshape(rows,cols, order='F')\n",
        "        return img"
      ],
      "execution_count": 0,
      "outputs": []
    }
  ]
}