{
  "nbformat": 4,
  "nbformat_minor": 0,
  "metadata": {
    "colab": {
      "name": "Leer-Csv-Prueba",
      "provenance": [],
      "machine_shape": "hm",
      "include_colab_link": true
    },
    "kernelspec": {
      "name": "python3",
      "display_name": "Python 3"
    }
  },
  "cells": [
    {
      "cell_type": "markdown",
      "metadata": {
        "id": "view-in-github",
        "colab_type": "text"
      },
      "source": [
        "<a href=\"https://colab.research.google.com/github/MRAMIRE/Tesis_Modelo_Deep_Learning_USA/blob/master/Leer_Csv_Prueba.ipynb\" target=\"_parent\"><img src=\"https://colab.research.google.com/assets/colab-badge.svg\" alt=\"Open In Colab\"/></a>"
      ]
    },
    {
      "cell_type": "code",
      "metadata": {
        "id": "QZaJD78ZrSEW",
        "colab_type": "code",
        "colab": {}
      },
      "source": [
        "from google.colab import drive\n",
        "import os\n",
        "import cv2\n",
        "import numpy as np\n",
        "import pandas as pd\n",
        "import matplotlib\n",
        "import pylab as plt\n",
        "%matplotlib inline"
      ],
      "execution_count": 0,
      "outputs": []
    },
    {
      "cell_type": "code",
      "metadata": {
        "id": "TptEwgX-rWK6",
        "colab_type": "code",
        "outputId": "e0741b5a-3fd9-4884-fb0e-0a9454cd929e",
        "colab": {
          "base_uri": "https://localhost:8080/",
          "height": 101
        }
      },
      "source": [
        "#Permisos\n",
        "drive.mount('/gdrive')\n",
        "\n",
        "#Cambio de Directorio\n",
        "%cd /gdrive/My\\ Drive/Tesis\n",
        "%ls"
      ],
      "execution_count": 18,
      "outputs": [
        {
          "output_type": "stream",
          "text": [
            "Drive already mounted at /gdrive; to attempt to forcibly remount, call drive.mount(\"/gdrive\", force_remount=True).\n",
            "/gdrive/My Drive/Tesis\n",
            " Leer-Csv-Prueba.ipynb        Prueba                  train.csv\n",
            "'Leer CSV train.ipynb'        sample_submission.csv   \u001b[0m\u001b[01;34mtrain_images\u001b[0m/\n",
            "'Leer imágenes-Tesis.ipynb'   \u001b[01;34mtest_images\u001b[0m/\n"
          ],
          "name": "stdout"
        }
      ]
    },
    {
      "cell_type": "code",
      "metadata": {
        "id": "cETQ7ugUrrub",
        "colab_type": "code",
        "outputId": "404c2648-f64c-4e71-af82-3ea460034654",
        "colab": {
          "base_uri": "https://localhost:8080/",
          "height": 195
        }
      },
      "source": [
        "#Lectura archivo csv train\n",
        "df_train = pd.read_csv('train.csv')\n",
        "df_train.head()"
      ],
      "execution_count": 19,
      "outputs": [
        {
          "output_type": "execute_result",
          "data": {
            "text/html": [
              "<div>\n",
              "<style scoped>\n",
              "    .dataframe tbody tr th:only-of-type {\n",
              "        vertical-align: middle;\n",
              "    }\n",
              "\n",
              "    .dataframe tbody tr th {\n",
              "        vertical-align: top;\n",
              "    }\n",
              "\n",
              "    .dataframe thead th {\n",
              "        text-align: right;\n",
              "    }\n",
              "</style>\n",
              "<table border=\"1\" class=\"dataframe\">\n",
              "  <thead>\n",
              "    <tr style=\"text-align: right;\">\n",
              "      <th></th>\n",
              "      <th>Image_Label</th>\n",
              "      <th>EncodedPixels</th>\n",
              "    </tr>\n",
              "  </thead>\n",
              "  <tbody>\n",
              "    <tr>\n",
              "      <th>0</th>\n",
              "      <td>0011165.jpg_Fish</td>\n",
              "      <td>264918 937 266318 937 267718 937 269118 937 27...</td>\n",
              "    </tr>\n",
              "    <tr>\n",
              "      <th>1</th>\n",
              "      <td>0011165.jpg_Flower</td>\n",
              "      <td>1355565 1002 1356965 1002 1358365 1002 1359765...</td>\n",
              "    </tr>\n",
              "    <tr>\n",
              "      <th>2</th>\n",
              "      <td>0011165.jpg_Gravel</td>\n",
              "      <td>NaN</td>\n",
              "    </tr>\n",
              "    <tr>\n",
              "      <th>3</th>\n",
              "      <td>0011165.jpg_Sugar</td>\n",
              "      <td>NaN</td>\n",
              "    </tr>\n",
              "    <tr>\n",
              "      <th>4</th>\n",
              "      <td>002be4f.jpg_Fish</td>\n",
              "      <td>233813 878 235213 878 236613 878 238010 881 23...</td>\n",
              "    </tr>\n",
              "  </tbody>\n",
              "</table>\n",
              "</div>"
            ],
            "text/plain": [
              "          Image_Label                                      EncodedPixels\n",
              "0    0011165.jpg_Fish  264918 937 266318 937 267718 937 269118 937 27...\n",
              "1  0011165.jpg_Flower  1355565 1002 1356965 1002 1358365 1002 1359765...\n",
              "2  0011165.jpg_Gravel                                                NaN\n",
              "3   0011165.jpg_Sugar                                                NaN\n",
              "4    002be4f.jpg_Fish  233813 878 235213 878 236613 878 238010 881 23..."
            ]
          },
          "metadata": {
            "tags": []
          },
          "execution_count": 19
        }
      ]
    },
    {
      "cell_type": "code",
      "metadata": {
        "id": "aFMiFM40r7Fs",
        "colab_type": "code",
        "outputId": "c46b5945-466b-4412-dce0-935acca35b39",
        "colab": {
          "base_uri": "https://localhost:8080/",
          "height": 373
        }
      },
      "source": [
        "# Porcentaje de nulos\n",
        "labels = 'Con Etiqueta', 'Nulos'\n",
        "sizes = [df_train.EncodedPixels.count(), len(df_train) - df_train.EncodedPixels.count()]\n",
        "explode = (0, 0.1)\n",
        "\n",
        "fig, ax = plt.subplots(figsize=(6, 6))\n",
        "colores= ['#D8BFD8','#3CB371']\n",
        "ax.pie(sizes, explode=explode, labels=labels, autopct='%1.1f%%', colors=colores, shadow=True, startangle=90)\n",
        "ax.axis('equal')\n",
        "ax.set_title('Datos con EncodedPixels nulos')\n",
        "plt.show()"
      ],
      "execution_count": 20,
      "outputs": [
        {
          "output_type": "display_data",
          "data": {
            "image/png": "[encoded data removed]",
            "text/plain": [
              "<Figure size 432x432 with 1 Axes>"
            ]
          },
          "metadata": {
            "tags": []
          }
        }
      ]
    },
    {
      "cell_type": "code",
      "metadata": {
        "id": "AAl3BQz1t6B_",
        "colab_type": "code",
        "outputId": "2f3b6a45-08fd-4d47-985c-50f92a094733",
        "colab": {
          "base_uri": "https://localhost:8080/",
          "height": 195
        }
      },
      "source": [
        "# Separar columna\n",
        "df_split = df_train[\"Image_Label\"].str.split(\"_\", n = 1, expand = True)\n",
        "# Agregar nueva columna a df_train\n",
        "df_train['Image'] = df_split[0]\n",
        "df_train['Label'] = df_split[1]\n",
        "\n",
        "df_train.head()"
      ],
      "execution_count": 21,
      "outputs": [
        {
          "output_type": "execute_result",
          "data": {
            "text/html": [
              "<div>\n",
              "<style scoped>\n",
              "    .dataframe tbody tr th:only-of-type {\n",
              "        vertical-align: middle;\n",
              "    }\n",
              "\n",
              "    .dataframe tbody tr th {\n",
              "        vertical-align: top;\n",
              "    }\n",
              "\n",
              "    .dataframe thead th {\n",
              "        text-align: right;\n",
              "    }\n",
              "</style>\n",
              "<table border=\"1\" class=\"dataframe\">\n",
              "  <thead>\n",
              "    <tr style=\"text-align: right;\">\n",
              "      <th></th>\n",
              "      <th>Image_Label</th>\n",
              "      <th>EncodedPixels</th>\n",
              "      <th>Image</th>\n",
              "      <th>Label</th>\n",
              "    </tr>\n",
              "  </thead>\n",
              "  <tbody>\n",
              "    <tr>\n",
              "      <th>0</th>\n",
              "      <td>0011165.jpg_Fish</td>\n",
              "      <td>264918 937 266318 937 267718 937 269118 937 27...</td>\n",
              "      <td>0011165.jpg</td>\n",
              "      <td>Fish</td>\n",
              "    </tr>\n",
              "    <tr>\n",
              "      <th>1</th>\n",
              "      <td>0011165.jpg_Flower</td>\n",
              "      <td>1355565 1002 1356965 1002 1358365 1002 1359765...</td>\n",
              "      <td>0011165.jpg</td>\n",
              "      <td>Flower</td>\n",
              "    </tr>\n",
              "    <tr>\n",
              "      <th>2</th>\n",
              "      <td>0011165.jpg_Gravel</td>\n",
              "      <td>NaN</td>\n",
              "      <td>0011165.jpg</td>\n",
              "      <td>Gravel</td>\n",
              "    </tr>\n",
              "    <tr>\n",
              "      <th>3</th>\n",
              "      <td>0011165.jpg_Sugar</td>\n",
              "      <td>NaN</td>\n",
              "      <td>0011165.jpg</td>\n",
              "      <td>Sugar</td>\n",
              "    </tr>\n",
              "    <tr>\n",
              "      <th>4</th>\n",
              "      <td>002be4f.jpg_Fish</td>\n",
              "      <td>233813 878 235213 878 236613 878 238010 881 23...</td>\n",
              "      <td>002be4f.jpg</td>\n",
              "      <td>Fish</td>\n",
              "    </tr>\n",
              "  </tbody>\n",
              "</table>\n",
              "</div>"
            ],
            "text/plain": [
              "          Image_Label  ...   Label\n",
              "0    0011165.jpg_Fish  ...    Fish\n",
              "1  0011165.jpg_Flower  ...  Flower\n",
              "2  0011165.jpg_Gravel  ...  Gravel\n",
              "3   0011165.jpg_Sugar  ...   Sugar\n",
              "4    002be4f.jpg_Fish  ...    Fish\n",
              "\n",
              "[5 rows x 4 columns]"
            ]
          },
          "metadata": {
            "tags": []
          },
          "execution_count": 21
        }
      ]
    },
    {
      "cell_type": "code",
      "metadata": {
        "id": "W9X24F-5vS-6",
        "colab_type": "code",
        "outputId": "3ef6724b-21ef-4e08-a0ab-5816e639c014",
        "colab": {
          "base_uri": "https://localhost:8080/",
          "height": 195
        }
      },
      "source": [
        "# create dummy columns for each cloud type\n",
        "corr_df = pd.get_dummies(df_train, columns = ['Label'])\n",
        "# fill null values with '-1'\n",
        "corr_df = corr_df.fillna('-1')\n",
        "\n",
        "# define a helper function to fill dummy columns\n",
        "def get_dummy_value(row, cloud_type):\n",
        "    ''' Get value for dummy column '''\n",
        "    if cloud_type == 'fish':\n",
        "        return row['Label_Fish'] * (row['EncodedPixels'] != '-1')\n",
        "    if cloud_type == 'flower':\n",
        "        return row['Label_Flower'] * (row['EncodedPixels'] != '-1')\n",
        "    if cloud_type == 'gravel':\n",
        "        return row['Label_Gravel'] * (row['EncodedPixels'] != '-1')\n",
        "    if cloud_type == 'sugar':\n",
        "        return row['Label_Sugar'] * (row['EncodedPixels'] != '-1')\n",
        "    \n",
        "# fill dummy columns\n",
        "corr_df['Label_Fish'] = corr_df.apply(lambda row: get_dummy_value(row, 'fish'), axis=1)\n",
        "corr_df['Label_Flower'] = corr_df.apply(lambda row: get_dummy_value(row, 'flower'), axis=1)\n",
        "corr_df['Label_Gravel'] = corr_df.apply(lambda row: get_dummy_value(row, 'gravel'), axis=1)\n",
        "corr_df['Label_Sugar'] = corr_df.apply(lambda row: get_dummy_value(row, 'sugar'), axis=1)\n",
        "\n",
        "# check the result\n",
        "corr_df.head()"
      ],
      "execution_count": 22,
      "outputs": [
        {
          "output_type": "execute_result",
          "data": {
            "text/html": [
              "<div>\n",
              "<style scoped>\n",
              "    .dataframe tbody tr th:only-of-type {\n",
              "        vertical-align: middle;\n",
              "    }\n",
              "\n",
              "    .dataframe tbody tr th {\n",
              "        vertical-align: top;\n",
              "    }\n",
              "\n",
              "    .dataframe thead th {\n",
              "        text-align: right;\n",
              "    }\n",
              "</style>\n",
              "<table border=\"1\" class=\"dataframe\">\n",
              "  <thead>\n",
              "    <tr style=\"text-align: right;\">\n",
              "      <th></th>\n",
              "      <th>Image_Label</th>\n",
              "      <th>EncodedPixels</th>\n",
              "      <th>Image</th>\n",
              "      <th>Label_Fish</th>\n",
              "      <th>Label_Flower</th>\n",
              "      <th>Label_Gravel</th>\n",
              "      <th>Label_Sugar</th>\n",
              "    </tr>\n",
              "  </thead>\n",
              "  <tbody>\n",
              "    <tr>\n",
              "      <th>0</th>\n",
              "      <td>0011165.jpg_Fish</td>\n",
              "      <td>264918 937 266318 937 267718 937 269118 937 27...</td>\n",
              "      <td>0011165.jpg</td>\n",
              "      <td>1</td>\n",
              "      <td>0</td>\n",
              "      <td>0</td>\n",
              "      <td>0</td>\n",
              "    </tr>\n",
              "    <tr>\n",
              "      <th>1</th>\n",
              "      <td>0011165.jpg_Flower</td>\n",
              "      <td>1355565 1002 1356965 1002 1358365 1002 1359765...</td>\n",
              "      <td>0011165.jpg</td>\n",
              "      <td>0</td>\n",
              "      <td>1</td>\n",
              "      <td>0</td>\n",
              "      <td>0</td>\n",
              "    </tr>\n",
              "    <tr>\n",
              "      <th>2</th>\n",
              "      <td>0011165.jpg_Gravel</td>\n",
              "      <td>-1</td>\n",
              "      <td>0011165.jpg</td>\n",
              "      <td>0</td>\n",
              "      <td>0</td>\n",
              "      <td>0</td>\n",
              "      <td>0</td>\n",
              "    </tr>\n",
              "    <tr>\n",
              "      <th>3</th>\n",
              "      <td>0011165.jpg_Sugar</td>\n",
              "      <td>-1</td>\n",
              "      <td>0011165.jpg</td>\n",
              "      <td>0</td>\n",
              "      <td>0</td>\n",
              "      <td>0</td>\n",
              "      <td>0</td>\n",
              "    </tr>\n",
              "    <tr>\n",
              "      <th>4</th>\n",
              "      <td>002be4f.jpg_Fish</td>\n",
              "      <td>233813 878 235213 878 236613 878 238010 881 23...</td>\n",
              "      <td>002be4f.jpg</td>\n",
              "      <td>1</td>\n",
              "      <td>0</td>\n",
              "      <td>0</td>\n",
              "      <td>0</td>\n",
              "    </tr>\n",
              "  </tbody>\n",
              "</table>\n",
              "</div>"
            ],
            "text/plain": [
              "          Image_Label  ... Label_Sugar\n",
              "0    0011165.jpg_Fish  ...           0\n",
              "1  0011165.jpg_Flower  ...           0\n",
              "2  0011165.jpg_Gravel  ...           0\n",
              "3   0011165.jpg_Sugar  ...           0\n",
              "4    002be4f.jpg_Fish  ...           0\n",
              "\n",
              "[5 rows x 7 columns]"
            ]
          },
          "metadata": {
            "tags": []
          },
          "execution_count": 22
        }
      ]
    },
    {
      "cell_type": "code",
      "metadata": {
        "id": "L0eroDcqxVta",
        "colab_type": "code",
        "colab": {}
      },
      "source": [
        "def rle_to_mask(rle_string, height, width):\n",
        "\n",
        "    rows, cols = height, width\n",
        "    if rle_string == '-1':\n",
        "      img = np.zeros(rows*cols, dtype=np.uint8)\n",
        "      img = img.reshape(1,rows*cols)\n",
        "      img = img.T\n",
        "      return img\n",
        "    else:\n",
        "      rle_numbers = [int(num_string) for num_string in rle_string.split(' ')]\n",
        "      rle_pairs = np.array(rle_numbers).reshape(-1,2)\n",
        "      img = np.zeros(rows*cols, dtype=np.uint8)\n",
        "      for index, length in rle_pairs:\n",
        "            index -= 1\n",
        "            img[index:index+length] = 255\n",
        "      img = img.reshape(1,cols*rows)\n",
        "      img = img.T\n",
        "      return img"
      ],
      "execution_count": 0,
      "outputs": []
    },
    {
      "cell_type": "code",
      "metadata": {
        "id": "sKVOowpWxMsx",
        "colab_type": "code",
        "outputId": "43d46c2b-5508-40ec-b9c3-86f08abf58ac",
        "colab": {
          "base_uri": "https://localhost:8080/",
          "height": 34
        }
      },
      "source": [
        "## loop para crear todo mask\n",
        "mask = []\n",
        "for i in corr_df['EncodedPixels'][0:5]:\n",
        "  # Load image\n",
        "  mk = rle_to_mask(i,1400,2100)\n",
        "  mask.append(mk)\n",
        "\n",
        "mask = np.asarray(mask)\n",
        "mask.shape"
      ],
      "execution_count": 26,
      "outputs": [
        {
          "output_type": "execute_result",
          "data": {
            "text/plain": [
              "(5, 2940000, 1)"
            ]
          },
          "metadata": {
            "tags": []
          },
          "execution_count": 26
        }
      ]
    }
  ]
}