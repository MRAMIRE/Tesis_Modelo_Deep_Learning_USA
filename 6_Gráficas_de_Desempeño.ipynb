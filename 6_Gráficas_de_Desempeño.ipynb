{
  "nbformat": 4,
  "nbformat_minor": 0,
  "metadata": {
    "colab": {
      "name": "6. Gráficas de Desempeño ",
      "provenance": [],
      "collapsed_sections": [
        "O_wkuE2O2GqN"
      ],
      "machine_shape": "hm",
      "include_colab_link": true
    },
    "kernelspec": {
      "name": "python3",
      "display_name": "Python 3"
    },
    "accelerator": "GPU"
  },
  "cells": [
    {
      "cell_type": "markdown",
      "metadata": {
        "id": "view-in-github",
        "colab_type": "text"
      },
      "source": [
        "<a href=\"https://colab.research.google.com/github/MRAMIRE/Tesis_Modelo_Deep_Learning_USA/blob/master/6_Gr%C3%A1ficas_de_Desempe%C3%B1o.ipynb\" target=\"_parent\"><img src=\"https://colab.research.google.com/assets/colab-badge.svg\" alt=\"Open In Colab\"/></a>"
      ]
    },
    {
      "cell_type": "markdown",
      "metadata": {
        "id": "eHynZzdR11OT",
        "colab_type": "text"
      },
      "source": [
        "# **DESEMPEÑO DEL MODELO:**\n",
        "\n",
        "###FELIPE ANTONIO MELO CIFUENTES\n",
        "\n",
        "###MARIA CAMILA RAMIREZ FERRO\n",
        "\n",
        "\n"
      ]
    },
    {
      "cell_type": "markdown",
      "metadata": {
        "id": "O_wkuE2O2GqN",
        "colab_type": "text"
      },
      "source": [
        "##### Permisos y cambio de directorio:"
      ]
    },
    {
      "cell_type": "code",
      "metadata": {
        "id": "ZqM7KfD2sYfr",
        "colab_type": "code",
        "outputId": "3863e742-71f5-40f3-fab0-d981680b2c71",
        "colab": {
          "base_uri": "https://localhost:8080/",
          "height": 255
        }
      },
      "source": [
        "from google.colab import drive\n",
        "#Permisos\n",
        "drive.mount('/gdrive')\n",
        "#Cambio de Directorio\n",
        "%cd /gdrive/My\\ Drive/Tesis\n",
        "#%cd /gdrive/Share\\Whit\\Me\n",
        "%ls "
      ],
      "execution_count": 4,
      "outputs": [
        {
          "output_type": "stream",
          "text": [
            "Drive already mounted at /gdrive; to attempt to forcibly remount, call drive.mount(\"/gdrive\", force_remount=True).\n",
            "/gdrive/My Drive/Tesis\n",
            "'0. Data Set.ipynb'                                      \u001b[0m\u001b[01;34mImagenes_documento\u001b[0m/\n",
            "'1. Exploración de los Datos'                           \u001b[01;34m'Pruebas 9 12'\u001b[0m/\n",
            "'2. Visualización de la Data.ipynb'                      Resultados_cross\n",
            "'3. Pre-PorcesamientoV2-Data.Pre-PorcesamientoV2-Data'   Resultados_suma\n",
            "'4.1 Entrenamiento-ADAM-Cross'                           \u001b[01;34mruns\u001b[0m/\n",
            "'4.2 Entrenamiento-ADAM-Suma'                            sample_submission.csv\n",
            "'4.3 Entrenamiento-RMS-Cross '                           set_test.csv\n",
            "'4.4 Entrenamiento-RMS-Suma '                            set_train.csv\n",
            "'5. Resultados'                                          \u001b[01;34mtest_images\u001b[0m/\n",
            "'6. TensorBoard '                                        train.csv\n",
            "'7. Submission'                                          \u001b[01;34mtrain_images\u001b[0m/\n",
            " \u001b[01;34mcheck\u001b[0m/\n"
          ],
          "name": "stdout"
        }
      ]
    },
    {
      "cell_type": "markdown",
      "metadata": {
        "id": "iwfX3ISG2DdG",
        "colab_type": "text"
      },
      "source": [
        "#####Load the TensorBoard notebook extension:"
      ]
    },
    {
      "cell_type": "code",
      "metadata": {
        "id": "fnAnosLms_wy",
        "colab_type": "code",
        "colab": {
          "base_uri": "https://localhost:8080/",
          "height": 51
        },
        "outputId": "831cae83-18ce-49e8-8dc3-ab43ab8cc152"
      },
      "source": [
        "%load_ext tensorboard"
      ],
      "execution_count": 5,
      "outputs": [
        {
          "output_type": "stream",
          "text": [
            "The tensorboard extension is already loaded. To reload it, use:\n",
            "  %reload_ext tensorboard\n"
          ],
          "name": "stdout"
        }
      ]
    },
    {
      "cell_type": "markdown",
      "metadata": {
        "id": "1YcLZqbHnnGm",
        "colab_type": "text"
      },
      "source": [
        "##### Tensor Board\n"
      ]
    },
    {
      "cell_type": "code",
      "metadata": {
        "id": "_u96Sk-vmS_R",
        "colab_type": "code",
        "colab": {}
      },
      "source": [
        "%tensorboard --logdir runs"
      ],
      "execution_count": 0,
      "outputs": []
    }
  ]
}