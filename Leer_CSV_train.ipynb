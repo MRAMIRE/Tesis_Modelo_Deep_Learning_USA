{
  "nbformat": 4,
  "nbformat_minor": 0,
  "metadata": {
    "colab": {
      "name": "Leer CSV train",
      "provenance": [],
      "include_colab_link": true
    },
    "kernelspec": {
      "name": "python3",
      "display_name": "Python 3"
    }
  },
  "cells": [
    {
      "cell_type": "markdown",
      "metadata": {
        "id": "view-in-github",
        "colab_type": "text"
      },
      "source": [
        "<a href=\"https://colab.research.google.com/github/MRAMIRE/Tesis_Modelo_Deep_Learning_USA/blob/master/Leer_CSV_train.ipynb\" target=\"_parent\"><img src=\"https://colab.research.google.com/assets/colab-badge.svg\" alt=\"Open In Colab\"/></a>"
      ]
    },
    {
      "cell_type": "code",
      "metadata": {
        "id": "Htlyuc8JPCJo",
        "colab_type": "code",
        "colab": {}
      },
      "source": [
        "id_raiz = '1Jdm2hUQFiqs0rbEjg_uT7YSPi4FCNcBr'"
      ],
      "execution_count": 0,
      "outputs": []
    },
    {
      "cell_type": "code",
      "metadata": {
        "id": "MqA6RfjEuHF7",
        "colab_type": "code",
        "colab": {}
      },
      "source": [
        "# Import PyDrive y librerias asociadas.\n",
        "from pydrive.auth import GoogleAuth\n",
        "from pydrive.drive import GoogleDrive\n",
        "from google.colab import auth\n",
        "from oauth2client.client import GoogleCredentials\n",
        "import pandas as pd\n",
        "import matplotlib.pyplot as plt\n",
        "\n",
        "# Autenticacion y creacion del cliente PyDrive.\n",
        "auth.authenticate_user()\n",
        "gauth = GoogleAuth()\n",
        "gauth.credentials = GoogleCredentials.get_application_default()\n",
        "drive = GoogleDrive(gauth)"
      ],
      "execution_count": 0,
      "outputs": []
    },
    {
      "cell_type": "code",
      "metadata": {
        "id": "GRBV7qPYOwMe",
        "colab_type": "code",
        "outputId": "3f24833d-1e8a-4107-ae6f-a902e1de0186",
        "colab": {
          "base_uri": "https://localhost:8080/",
          "height": 408
        }
      },
      "source": [
        "#Identificar el id de los elementos dentro de la carpeta\n",
        "listed1 = drive.ListFile({'q': \"'%s' in parents\" % id_raiz}).GetList()\n",
        "\n",
        "for file in listed1:\n",
        "  print ('title: %s, id: %s' % (file['title'], file['id']) )"
      ],
      "execution_count": 0,
      "outputs": [
        {
          "output_type": "stream",
          "text": [
            "title: Leer CSV train, id: 1DDiGWaAGMoVTMe8NaNkFh3R2mtSulEMZ\n",
            "title: Leer imágenes-Tesis, id: 1_coPV3_uKX81TlQusH5NLV_LwNazjNpV\n",
            "title: train_images, id: 1mA6g4TMJ8hBrn2ZlFWWyfUngqTsL8Blq\n",
            "title: train_images, id: 1WasAS9CaBZ6WDVKxECK40z28Mo1GeGni\n",
            "title: test_images, id: 1N2E6M1Lcm3RQzTjzeKDbi2jQIKj-QDSG\n",
            "title: test_images, id: 1qjinBHLzQPTqQADBhm-Hm7KaN98f5ZA6\n",
            "title: test_images, id: 1qb2Z_UBycu6-GsUPj9kq0eTAS-da99GP\n",
            "title: test_images, id: 1d_77UlAyZ3-HvurfTMOTEDLTUvk2_Pu2\n",
            "title: train.csv, id: 1W1Ye59rtwT6yJJUvMzVMXFnMFlx4fKDO\n",
            "title: sample_submission.csv, id: 1tsqisESrbYSxc24J_OoMs_ky82CkmMlk\n"
          ],
          "name": "stdout"
        }
      ]
    },
    {
      "cell_type": "code",
      "metadata": {
        "id": "icAbhvoBKGeW",
        "colab_type": "code",
        "colab": {}
      },
      "source": [
        "#Lectura archivo csv\n",
        "train_downloaded = drive.CreateFile({'id' : '1W1Ye59rtwT6yJJUvMzVMXFnMFlx4fKDO'})\n",
        "train_downloaded.GetContentFile('train.csv')"
      ],
      "execution_count": 0,
      "outputs": []
    },
    {
      "cell_type": "code",
      "metadata": {
        "id": "VOX9RfjSP0m9",
        "colab_type": "code",
        "outputId": "c8309188-7513-48ed-86b5-94c05bce2b34",
        "colab": {
          "base_uri": "https://localhost:8080/",
          "height": 324
        }
      },
      "source": [
        "#Lectura archivo csv train\n",
        "import pandas as pd\n",
        "import numpy as np\n",
        "df_train = pd.read_csv('train.csv')\n",
        "print(df_train)"
      ],
      "execution_count": 0,
      "outputs": [
        {
          "output_type": "stream",
          "text": [
            "              Image_Label                                      EncodedPixels\n",
            "0        0011165.jpg_Fish  264918 937 266318 937 267718 937 269118 937 27...\n",
            "1      0011165.jpg_Flower  1355565 1002 1356965 1002 1358365 1002 1359765...\n",
            "2      0011165.jpg_Gravel                                                NaN\n",
            "3       0011165.jpg_Sugar                                                NaN\n",
            "4        002be4f.jpg_Fish  233813 878 235213 878 236613 878 238010 881 23...\n",
            "...                   ...                                                ...\n",
            "22179   ffd6680.jpg_Sugar                                                NaN\n",
            "22180    ffea4f4.jpg_Fish                                                NaN\n",
            "22181  ffea4f4.jpg_Flower  1194860 675 1196260 675 1197660 675 1199060 67...\n",
            "22182  ffea4f4.jpg_Gravel                                                NaN\n",
            "22183   ffea4f4.jpg_Sugar                                                NaN\n",
            "\n",
            "[22184 rows x 2 columns]\n"
          ],
          "name": "stdout"
        }
      ]
    },
    {
      "cell_type": "code",
      "metadata": {
        "id": "LiYotiws2Pnj",
        "colab_type": "code",
        "outputId": "722218ad-00be-4947-99e9-2b6ce35cb8bd",
        "colab": {
          "base_uri": "https://localhost:8080/",
          "height": 145
        }
      },
      "source": [
        "#Conteo de datos divididos por categoria label\n",
        "df_train['Image_Label'].apply(lambda x: x.split('_')[1]).value_counts()"
      ],
      "execution_count": 0,
      "outputs": [
        {
          "output_type": "execute_result",
          "data": {
            "text/plain": [
              "Fish      5546\n",
              "Gravel    5546\n",
              "Flower    5546\n",
              "Sugar     5546\n",
              "Name: Image_Label, dtype: int64"
            ]
          },
          "metadata": {
            "tags": []
          },
          "execution_count": 196
        }
      ]
    },
    {
      "cell_type": "code",
      "metadata": {
        "id": "TS1hGMcz4FhR",
        "colab_type": "code",
        "outputId": "8f56b822-9e86-449f-93b7-6f417d7b81bb",
        "colab": {
          "base_uri": "https://localhost:8080/",
          "height": 468
        }
      },
      "source": [
        "#Creación de las columnas label y im_id\n",
        "df_train['label'] = df_train['Image_Label'].apply(lambda x: x.split('_')[1])\n",
        "df_train['im_id'] = df_train['Image_Label'].apply(lambda x: x.split('_')[0])\n",
        "df_train"
      ],
      "execution_count": 0,
      "outputs": [
        {
          "output_type": "execute_result",
          "data": {
            "text/html": [
              "<div>\n",
              "<style scoped>\n",
              "    .dataframe tbody tr th:only-of-type {\n",
              "        vertical-align: middle;\n",
              "    }\n",
              "\n",
              "    .dataframe tbody tr th {\n",
              "        vertical-align: top;\n",
              "    }\n",
              "\n",
              "    .dataframe thead th {\n",
              "        text-align: right;\n",
              "    }\n",
              "</style>\n",
              "<table border=\"1\" class=\"dataframe\">\n",
              "  <thead>\n",
              "    <tr style=\"text-align: right;\">\n",
              "      <th></th>\n",
              "      <th>Image_Label</th>\n",
              "      <th>EncodedPixels</th>\n",
              "      <th>label</th>\n",
              "      <th>im_id</th>\n",
              "    </tr>\n",
              "  </thead>\n",
              "  <tbody>\n",
              "    <tr>\n",
              "      <th>0</th>\n",
              "      <td>0011165.jpg_Fish</td>\n",
              "      <td>264918 937 266318 937 267718 937 269118 937 27...</td>\n",
              "      <td>Fish</td>\n",
              "      <td>0011165.jpg</td>\n",
              "    </tr>\n",
              "    <tr>\n",
              "      <th>1</th>\n",
              "      <td>0011165.jpg_Flower</td>\n",
              "      <td>1355565 1002 1356965 1002 1358365 1002 1359765...</td>\n",
              "      <td>Flower</td>\n",
              "      <td>0011165.jpg</td>\n",
              "    </tr>\n",
              "    <tr>\n",
              "      <th>2</th>\n",
              "      <td>0011165.jpg_Gravel</td>\n",
              "      <td>NaN</td>\n",
              "      <td>Gravel</td>\n",
              "      <td>0011165.jpg</td>\n",
              "    </tr>\n",
              "    <tr>\n",
              "      <th>3</th>\n",
              "      <td>0011165.jpg_Sugar</td>\n",
              "      <td>NaN</td>\n",
              "      <td>Sugar</td>\n",
              "      <td>0011165.jpg</td>\n",
              "    </tr>\n",
              "    <tr>\n",
              "      <th>4</th>\n",
              "      <td>002be4f.jpg_Fish</td>\n",
              "      <td>233813 878 235213 878 236613 878 238010 881 23...</td>\n",
              "      <td>Fish</td>\n",
              "      <td>002be4f.jpg</td>\n",
              "    </tr>\n",
              "    <tr>\n",
              "      <th>...</th>\n",
              "      <td>...</td>\n",
              "      <td>...</td>\n",
              "      <td>...</td>\n",
              "      <td>...</td>\n",
              "    </tr>\n",
              "    <tr>\n",
              "      <th>22179</th>\n",
              "      <td>ffd6680.jpg_Sugar</td>\n",
              "      <td>NaN</td>\n",
              "      <td>Sugar</td>\n",
              "      <td>ffd6680.jpg</td>\n",
              "    </tr>\n",
              "    <tr>\n",
              "      <th>22180</th>\n",
              "      <td>ffea4f4.jpg_Fish</td>\n",
              "      <td>NaN</td>\n",
              "      <td>Fish</td>\n",
              "      <td>ffea4f4.jpg</td>\n",
              "    </tr>\n",
              "    <tr>\n",
              "      <th>22181</th>\n",
              "      <td>ffea4f4.jpg_Flower</td>\n",
              "      <td>1194860 675 1196260 675 1197660 675 1199060 67...</td>\n",
              "      <td>Flower</td>\n",
              "      <td>ffea4f4.jpg</td>\n",
              "    </tr>\n",
              "    <tr>\n",
              "      <th>22182</th>\n",
              "      <td>ffea4f4.jpg_Gravel</td>\n",
              "      <td>NaN</td>\n",
              "      <td>Gravel</td>\n",
              "      <td>ffea4f4.jpg</td>\n",
              "    </tr>\n",
              "    <tr>\n",
              "      <th>22183</th>\n",
              "      <td>ffea4f4.jpg_Sugar</td>\n",
              "      <td>NaN</td>\n",
              "      <td>Sugar</td>\n",
              "      <td>ffea4f4.jpg</td>\n",
              "    </tr>\n",
              "  </tbody>\n",
              "</table>\n",
              "<p>22184 rows × 4 columns</p>\n",
              "</div>"
            ],
            "text/plain": [
              "              Image_Label  ...        im_id\n",
              "0        0011165.jpg_Fish  ...  0011165.jpg\n",
              "1      0011165.jpg_Flower  ...  0011165.jpg\n",
              "2      0011165.jpg_Gravel  ...  0011165.jpg\n",
              "3       0011165.jpg_Sugar  ...  0011165.jpg\n",
              "4        002be4f.jpg_Fish  ...  002be4f.jpg\n",
              "...                   ...  ...          ...\n",
              "22179   ffd6680.jpg_Sugar  ...  ffd6680.jpg\n",
              "22180    ffea4f4.jpg_Fish  ...  ffea4f4.jpg\n",
              "22181  ffea4f4.jpg_Flower  ...  ffea4f4.jpg\n",
              "22182  ffea4f4.jpg_Gravel  ...  ffea4f4.jpg\n",
              "22183   ffea4f4.jpg_Sugar  ...  ffea4f4.jpg\n",
              "\n",
              "[22184 rows x 4 columns]"
            ]
          },
          "metadata": {
            "tags": []
          },
          "execution_count": 207
        }
      ]
    },
    {
      "cell_type": "code",
      "metadata": {
        "id": "UcyX2CNgi1vi",
        "colab_type": "code",
        "outputId": "56d3e04e-4431-4f44-f1a8-a0569746b771",
        "colab": {
          "base_uri": "https://localhost:8080/",
          "height": 447
        }
      },
      "source": [
        "df_train"
      ],
      "execution_count": 0,
      "outputs": [
        {
          "output_type": "execute_result",
          "data": {
            "text/html": [
              "<div>\n",
              "<style scoped>\n",
              "    .dataframe tbody tr th:only-of-type {\n",
              "        vertical-align: middle;\n",
              "    }\n",
              "\n",
              "    .dataframe tbody tr th {\n",
              "        vertical-align: top;\n",
              "    }\n",
              "\n",
              "    .dataframe thead th {\n",
              "        text-align: right;\n",
              "    }\n",
              "</style>\n",
              "<table border=\"1\" class=\"dataframe\">\n",
              "  <thead>\n",
              "    <tr style=\"text-align: right;\">\n",
              "      <th></th>\n",
              "      <th>Image_Label</th>\n",
              "      <th>EncodedPixels</th>\n",
              "      <th>label</th>\n",
              "      <th>im_id</th>\n",
              "    </tr>\n",
              "  </thead>\n",
              "  <tbody>\n",
              "    <tr>\n",
              "      <th>0</th>\n",
              "      <td>0011165.jpg_Fish</td>\n",
              "      <td>264918 937 266318 937 267718 937 269118 937 27...</td>\n",
              "      <td>Fish</td>\n",
              "      <td>0011165.jpg</td>\n",
              "    </tr>\n",
              "    <tr>\n",
              "      <th>1</th>\n",
              "      <td>0011165.jpg_Flower</td>\n",
              "      <td>1355565 1002 1356965 1002 1358365 1002 1359765...</td>\n",
              "      <td>Flower</td>\n",
              "      <td>0011165.jpg</td>\n",
              "    </tr>\n",
              "    <tr>\n",
              "      <th>2</th>\n",
              "      <td>0011165.jpg_Gravel</td>\n",
              "      <td>NaN</td>\n",
              "      <td>Gravel</td>\n",
              "      <td>0011165.jpg</td>\n",
              "    </tr>\n",
              "    <tr>\n",
              "      <th>3</th>\n",
              "      <td>0011165.jpg_Sugar</td>\n",
              "      <td>NaN</td>\n",
              "      <td>Sugar</td>\n",
              "      <td>0011165.jpg</td>\n",
              "    </tr>\n",
              "    <tr>\n",
              "      <th>4</th>\n",
              "      <td>002be4f.jpg_Fish</td>\n",
              "      <td>233813 878 235213 878 236613 878 238010 881 23...</td>\n",
              "      <td>Fish</td>\n",
              "      <td>002be4f.jpg</td>\n",
              "    </tr>\n",
              "    <tr>\n",
              "      <th>...</th>\n",
              "      <td>...</td>\n",
              "      <td>...</td>\n",
              "      <td>...</td>\n",
              "      <td>...</td>\n",
              "    </tr>\n",
              "    <tr>\n",
              "      <th>22179</th>\n",
              "      <td>ffd6680.jpg_Sugar</td>\n",
              "      <td>NaN</td>\n",
              "      <td>Sugar</td>\n",
              "      <td>ffd6680.jpg</td>\n",
              "    </tr>\n",
              "    <tr>\n",
              "      <th>22180</th>\n",
              "      <td>ffea4f4.jpg_Fish</td>\n",
              "      <td>NaN</td>\n",
              "      <td>Fish</td>\n",
              "      <td>ffea4f4.jpg</td>\n",
              "    </tr>\n",
              "    <tr>\n",
              "      <th>22181</th>\n",
              "      <td>ffea4f4.jpg_Flower</td>\n",
              "      <td>1194860 675 1196260 675 1197660 675 1199060 67...</td>\n",
              "      <td>Flower</td>\n",
              "      <td>ffea4f4.jpg</td>\n",
              "    </tr>\n",
              "    <tr>\n",
              "      <th>22182</th>\n",
              "      <td>ffea4f4.jpg_Gravel</td>\n",
              "      <td>NaN</td>\n",
              "      <td>Gravel</td>\n",
              "      <td>ffea4f4.jpg</td>\n",
              "    </tr>\n",
              "    <tr>\n",
              "      <th>22183</th>\n",
              "      <td>ffea4f4.jpg_Sugar</td>\n",
              "      <td>NaN</td>\n",
              "      <td>Sugar</td>\n",
              "      <td>ffea4f4.jpg</td>\n",
              "    </tr>\n",
              "  </tbody>\n",
              "</table>\n",
              "<p>22184 rows × 4 columns</p>\n",
              "</div>"
            ],
            "text/plain": [
              "              Image_Label  ...        im_id\n",
              "0        0011165.jpg_Fish  ...  0011165.jpg\n",
              "1      0011165.jpg_Flower  ...  0011165.jpg\n",
              "2      0011165.jpg_Gravel  ...  0011165.jpg\n",
              "3       0011165.jpg_Sugar  ...  0011165.jpg\n",
              "4        002be4f.jpg_Fish  ...  002be4f.jpg\n",
              "...                   ...  ...          ...\n",
              "22179   ffd6680.jpg_Sugar  ...  ffd6680.jpg\n",
              "22180    ffea4f4.jpg_Fish  ...  ffea4f4.jpg\n",
              "22181  ffea4f4.jpg_Flower  ...  ffea4f4.jpg\n",
              "22182  ffea4f4.jpg_Gravel  ...  ffea4f4.jpg\n",
              "22183   ffea4f4.jpg_Sugar  ...  ffea4f4.jpg\n",
              "\n",
              "[22184 rows x 4 columns]"
            ]
          },
          "metadata": {
            "tags": []
          },
          "execution_count": 208
        }
      ]
    },
    {
      "cell_type": "code",
      "metadata": {
        "id": "8I6HlS99CtWd",
        "colab_type": "code",
        "outputId": "f5905be0-74ba-4b52-8000-9c1ba6b14ea5",
        "colab": {
          "base_uri": "https://localhost:8080/",
          "height": 288
        }
      },
      "source": [
        "count = df_train['label'].value_counts()\n",
        "colores = [\"#EE6055\",\"#8C9EFF\",\"#AAF683\",\"#E1BEE7\"]\n",
        "plt.pie(count, autopct=\"%0.1f %%\", colors=colores)\n",
        "plt.show()"
      ],
      "execution_count": 0,
      "outputs": [
        {
          "output_type": "display_data",
          "data": {
            "image/png": "[encoded data removed]",
            "text/plain": [
              "<Figure size 432x288 with 1 Axes>"
            ]
          },
          "metadata": {
            "tags": []
          }
        }
      ]
    },
    {
      "cell_type": "code",
      "metadata": {
        "id": "XV24drZZ9fhw",
        "colab_type": "code",
        "outputId": "dd84e10f-9d23-443c-935b-f896f5d77157",
        "colab": {
          "base_uri": "https://localhost:8080/",
          "height": 145
        }
      },
      "source": [
        "#Conteo registros sin nulos, agrupados por número de label\n",
        "df_train.loc[df_train['EncodedPixels'].isnull() == False, 'Image_Label'].apply(lambda x: x.split('_')[0]).value_counts().value_counts()"
      ],
      "execution_count": 0,
      "outputs": [
        {
          "output_type": "execute_result",
          "data": {
            "text/plain": [
              "2    2372\n",
              "3    1560\n",
              "1    1348\n",
              "4     266\n",
              "Name: Image_Label, dtype: int64"
            ]
          },
          "metadata": {
            "tags": []
          },
          "execution_count": 211
        }
      ]
    },
    {
      "cell_type": "code",
      "metadata": {
        "id": "3KTEHUuYEo0m",
        "colab_type": "code",
        "outputId": "6d8acf78-9b46-4858-9337-bdac6b0fe7bf",
        "colab": {
          "base_uri": "https://localhost:8080/",
          "height": 468
        }
      },
      "source": [
        "#Creación de tabla en donde se eliminan registros nulos\n",
        "a = df_train.dropna(0)\n",
        "a"
      ],
      "execution_count": 0,
      "outputs": [
        {
          "output_type": "execute_result",
          "data": {
            "text/html": [
              "<div>\n",
              "<style scoped>\n",
              "    .dataframe tbody tr th:only-of-type {\n",
              "        vertical-align: middle;\n",
              "    }\n",
              "\n",
              "    .dataframe tbody tr th {\n",
              "        vertical-align: top;\n",
              "    }\n",
              "\n",
              "    .dataframe thead th {\n",
              "        text-align: right;\n",
              "    }\n",
              "</style>\n",
              "<table border=\"1\" class=\"dataframe\">\n",
              "  <thead>\n",
              "    <tr style=\"text-align: right;\">\n",
              "      <th></th>\n",
              "      <th>Image_Label</th>\n",
              "      <th>EncodedPixels</th>\n",
              "      <th>label</th>\n",
              "      <th>im_id</th>\n",
              "    </tr>\n",
              "  </thead>\n",
              "  <tbody>\n",
              "    <tr>\n",
              "      <th>0</th>\n",
              "      <td>0011165.jpg_Fish</td>\n",
              "      <td>264918 937 266318 937 267718 937 269118 937 27...</td>\n",
              "      <td>Fish</td>\n",
              "      <td>0011165.jpg</td>\n",
              "    </tr>\n",
              "    <tr>\n",
              "      <th>1</th>\n",
              "      <td>0011165.jpg_Flower</td>\n",
              "      <td>1355565 1002 1356965 1002 1358365 1002 1359765...</td>\n",
              "      <td>Flower</td>\n",
              "      <td>0011165.jpg</td>\n",
              "    </tr>\n",
              "    <tr>\n",
              "      <th>4</th>\n",
              "      <td>002be4f.jpg_Fish</td>\n",
              "      <td>233813 878 235213 878 236613 878 238010 881 23...</td>\n",
              "      <td>Fish</td>\n",
              "      <td>002be4f.jpg</td>\n",
              "    </tr>\n",
              "    <tr>\n",
              "      <th>5</th>\n",
              "      <td>002be4f.jpg_Flower</td>\n",
              "      <td>1339279 519 1340679 519 1342079 519 1343479 51...</td>\n",
              "      <td>Flower</td>\n",
              "      <td>002be4f.jpg</td>\n",
              "    </tr>\n",
              "    <tr>\n",
              "      <th>7</th>\n",
              "      <td>002be4f.jpg_Sugar</td>\n",
              "      <td>67495 350 68895 350 70295 350 71695 350 73095 ...</td>\n",
              "      <td>Sugar</td>\n",
              "      <td>002be4f.jpg</td>\n",
              "    </tr>\n",
              "    <tr>\n",
              "      <th>...</th>\n",
              "      <td>...</td>\n",
              "      <td>...</td>\n",
              "      <td>...</td>\n",
              "      <td>...</td>\n",
              "    </tr>\n",
              "    <tr>\n",
              "      <th>22171</th>\n",
              "      <td>ffd11b6.jpg_Sugar</td>\n",
              "      <td>1457936 458 1459336 458 1460736 458 1462136 45...</td>\n",
              "      <td>Sugar</td>\n",
              "      <td>ffd11b6.jpg</td>\n",
              "    </tr>\n",
              "    <tr>\n",
              "      <th>22175</th>\n",
              "      <td>ffd3dfb.jpg_Sugar</td>\n",
              "      <td>12891 428 14291 428 15691 428 17091 428 18491 ...</td>\n",
              "      <td>Sugar</td>\n",
              "      <td>ffd3dfb.jpg</td>\n",
              "    </tr>\n",
              "    <tr>\n",
              "      <th>22177</th>\n",
              "      <td>ffd6680.jpg_Flower</td>\n",
              "      <td>1509467 305 1509773 7 1509782 2 1510867 310 15...</td>\n",
              "      <td>Flower</td>\n",
              "      <td>ffd6680.jpg</td>\n",
              "    </tr>\n",
              "    <tr>\n",
              "      <th>22178</th>\n",
              "      <td>ffd6680.jpg_Gravel</td>\n",
              "      <td>39728 823 41128 823 42528 823 43928 823 45328 ...</td>\n",
              "      <td>Gravel</td>\n",
              "      <td>ffd6680.jpg</td>\n",
              "    </tr>\n",
              "    <tr>\n",
              "      <th>22181</th>\n",
              "      <td>ffea4f4.jpg_Flower</td>\n",
              "      <td>1194860 675 1196260 675 1197660 675 1199060 67...</td>\n",
              "      <td>Flower</td>\n",
              "      <td>ffea4f4.jpg</td>\n",
              "    </tr>\n",
              "  </tbody>\n",
              "</table>\n",
              "<p>11836 rows × 4 columns</p>\n",
              "</div>"
            ],
            "text/plain": [
              "              Image_Label  ...        im_id\n",
              "0        0011165.jpg_Fish  ...  0011165.jpg\n",
              "1      0011165.jpg_Flower  ...  0011165.jpg\n",
              "4        002be4f.jpg_Fish  ...  002be4f.jpg\n",
              "5      002be4f.jpg_Flower  ...  002be4f.jpg\n",
              "7       002be4f.jpg_Sugar  ...  002be4f.jpg\n",
              "...                   ...  ...          ...\n",
              "22171   ffd11b6.jpg_Sugar  ...  ffd11b6.jpg\n",
              "22175   ffd3dfb.jpg_Sugar  ...  ffd3dfb.jpg\n",
              "22177  ffd6680.jpg_Flower  ...  ffd6680.jpg\n",
              "22178  ffd6680.jpg_Gravel  ...  ffd6680.jpg\n",
              "22181  ffea4f4.jpg_Flower  ...  ffea4f4.jpg\n",
              "\n",
              "[11836 rows x 4 columns]"
            ]
          },
          "metadata": {
            "tags": []
          },
          "execution_count": 212
        }
      ]
    },
    {
      "cell_type": "code",
      "metadata": {
        "id": "pM6PCOq1SJwq",
        "colab_type": "code",
        "outputId": "64d33ec4-fbca-4107-a995-7ccc3bb9d2c1",
        "colab": {
          "base_uri": "https://localhost:8080/",
          "height": 145
        }
      },
      "source": [
        "a['label'].value_counts()"
      ],
      "execution_count": 0,
      "outputs": [
        {
          "output_type": "execute_result",
          "data": {
            "text/plain": [
              "Sugar     3751\n",
              "Gravel    2939\n",
              "Fish      2781\n",
              "Flower    2365\n",
              "Name: label, dtype: int64"
            ]
          },
          "metadata": {
            "tags": []
          },
          "execution_count": 213
        }
      ]
    },
    {
      "cell_type": "code",
      "metadata": {
        "id": "0ri9aT8bGdjE",
        "colab_type": "code",
        "outputId": "c79a93aa-fe44-4a5b-997e-7db06e8bd128",
        "colab": {
          "base_uri": "https://localhost:8080/",
          "height": 288
        }
      },
      "source": [
        "count2 = a['label'].value_counts()\n",
        "count2\n",
        "colores = [\"#EE6055\",\"#8C9EFF\",\"#AAF683\",\"#E1BEE7\"]\n",
        "plt.pie(count2, autopct=\"%0.1f %%\", colors=colores)\n",
        "plt.show()"
      ],
      "execution_count": 0,
      "outputs": [
        {
          "output_type": "display_data",
          "data": {
            "image/png": "[encoded data removed]",
            "text/plain": [
              "<Figure size 432x288 with 1 Axes>"
            ]
          },
          "metadata": {
            "tags": []
          }
        }
      ]
    },
    {
      "cell_type": "code",
      "metadata": {
        "id": "b4JsGyGwfT9_",
        "colab_type": "code",
        "colab": {}
      },
      "source": [
        ""
      ],
      "execution_count": 0,
      "outputs": []
    }
  ]
}