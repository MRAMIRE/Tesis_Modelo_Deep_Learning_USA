{
  "nbformat": 4,
  "nbformat_minor": 0,
  "metadata": {
    "colab": {
      "name": "5. Resultados",
      "provenance": [],
      "collapsed_sections": [
        "QzP30rdRGD5l",
        "bcLc978oGO2W",
        "FGeqhv_lGegH",
        "UZwv6XLLGqwL",
        "058jge4FSHG6"
      ],
      "machine_shape": "hm",
      "include_colab_link": true
    },
    "kernelspec": {
      "name": "python3",
      "display_name": "Python 3"
    },
    "accelerator": "GPU"
  },
  "cells": [
    {
      "cell_type": "markdown",
      "metadata": {
        "id": "view-in-github",
        "colab_type": "text"
      },
      "source": [
        "<a href=\"https://colab.research.google.com/github/MRAMIRE/Tesis_Modelo_Deep_Learning_USA/blob/master/5_Resultados.ipynb\" target=\"_parent\"><img src=\"https://colab.research.google.com/assets/colab-badge.svg\" alt=\"Open In Colab\"/></a>"
      ]
    },
    {
      "cell_type": "markdown",
      "metadata": {
        "id": "ta7NKZUPF9eT",
        "colab_type": "text"
      },
      "source": [
        "# **VISUALIZACIÓN DE RESULTADOS:**\n",
        "\n",
        "###FELIPE ANTONIO MELO CIFUENTES\n",
        "\n",
        "###MARIA CAMILA RAMIREZ FERRO"
      ]
    },
    {
      "cell_type": "markdown",
      "metadata": {
        "id": "QzP30rdRGD5l",
        "colab_type": "text"
      },
      "source": [
        "##### Clonación de repositorio github"
      ]
    },
    {
      "cell_type": "code",
      "metadata": {
        "id": "1_B3vM2zFCrx",
        "colab_type": "code",
        "outputId": "37ff2725-d51c-477b-b861-3b9a218d91c8",
        "colab": {
          "base_uri": "https://localhost:8080/"
        }
      },
      "source": [
        "import os\n",
        "if os.path.exists('Tesis_Modelo_Deep_Learning_USA/'):\n",
        "  !git -C Tesis_Modelo_Deep_Learning_USA/ fetch --all\n",
        "  !git -C Tesis_Modelo_Deep_Learning_USA/ reset --hard origin/master\n",
        "  !git -C Tesis_Modelo_Deep_Learning_USA/ pull origin master;\n",
        "else:\n",
        "  !git clone https://github.com/MRAMIRE/Tesis_Modelo_Deep_Learning_USA.git\n",
        "%cd Tesis_Modelo_Deep_Learning_USA/\n",
        "from utils import *\n",
        "from Unet import *"
      ],
      "execution_count": 0,
      "outputs": [
        {
          "output_type": "stream",
          "text": [
            "Cloning into 'Tesis_Modelo_Deep_Learning_USA'...\n",
            "remote: Enumerating objects: 150, done.\u001b[K\n",
            "remote: Counting objects: 100% (150/150), done.\u001b[K\n",
            "remote: Compressing objects: 100% (112/112), done.\u001b[K\n",
            "remote: Total 339 (delta 82), reused 90 (delta 38), pack-reused 189\u001b[K\n",
            "Receiving objects: 100% (339/339), 2.24 MiB | 25.20 MiB/s, done.\n",
            "Resolving deltas: 100% (168/168), done.\n",
            "/content/Tesis_Modelo_Deep_Learning_USA\n"
          ],
          "name": "stdout"
        }
      ]
    },
    {
      "cell_type": "markdown",
      "metadata": {
        "id": "bcLc978oGO2W",
        "colab_type": "text"
      },
      "source": [
        "##### Permisos y cambio de directorio:"
      ]
    },
    {
      "cell_type": "code",
      "metadata": {
        "id": "N1eBJfcxGWgd",
        "colab_type": "code",
        "outputId": "7e262bfe-8d0c-466b-d5c9-a77f235791a0",
        "colab": {
          "base_uri": "https://localhost:8080/"
        }
      },
      "source": [
        "from google.colab import drive\n",
        "#Permisos\n",
        "drive.mount('/gdrive')\n",
        "#Cambio de Directorio\n",
        "%cd /gdrive/My\\ Drive/Tesis\n",
        "%ls "
      ],
      "execution_count": 0,
      "outputs": [
        {
          "output_type": "stream",
          "text": [
            "Go to this URL in a browser: https://accounts.google.com/o/oauth2/auth?client_id=947318989803-6bn6qk8qdgf4n4g3pfee6491hc0brc4i.apps.googleusercontent.com&redirect_uri=urn%3aietf%3awg%3aoauth%3a2.0%3aoob&response_type=code&scope=email%20https%3a%2f%2fwww.googleapis.com%2fauth%2fdocs.test%20https%3a%2f%2fwww.googleapis.com%2fauth%2fdrive%20https%3a%2f%2fwww.googleapis.com%2fauth%2fdrive.photos.readonly%20https%3a%2f%2fwww.googleapis.com%2fauth%2fpeopleapi.readonly\n",
            "\n",
            "Enter your authorization code:\n",
            "··········\n",
            "Mounted at /gdrive\n",
            "/gdrive/My Drive/Tesis\n",
            "'1. Exploración de los Datos'\n",
            "'2. Visualización de la Data.ipynb'\n",
            "'3. Pre-PorcesamientoV2-Data.Pre-PorcesamientoV2-Data'\n",
            "'5. Resultados_cross'\n",
            "'6. TensorBoard '\n",
            "'7. Submission'\n",
            " \u001b[0m\u001b[01;34mcheck\u001b[0m/\n",
            "'Data Set.ipynb'\n",
            " Entrenamiento-ADAM-Cross\n",
            " Entrenamiento-ADAM-Suma\n",
            "'Entrenamiento-RMS-Cross '\n",
            "'Entrenamiento-RMS-Suma '\n",
            "\u001b[01;34m'Pruebas 9 12'\u001b[0m/\n",
            " Resultados\n",
            " Resultados_suma\n",
            " \u001b[01;34mruns\u001b[0m/\n",
            " sample_submission.csv\n",
            " set_test.csv\n",
            " set_train.csv\n",
            " \u001b[01;34mtest_images\u001b[0m/\n",
            " train.csv\n",
            " \u001b[01;34mtrain_images\u001b[0m/\n"
          ],
          "name": "stdout"
        }
      ]
    },
    {
      "cell_type": "markdown",
      "metadata": {
        "id": "FGeqhv_lGegH",
        "colab_type": "text"
      },
      "source": [
        "#####Importar librerias:"
      ]
    },
    {
      "cell_type": "code",
      "metadata": {
        "id": "DwQaRfBaGj6k",
        "colab_type": "code",
        "colab": {}
      },
      "source": [
        "import numpy as np\n",
        "from torch.utils.data import DataLoader\n",
        "import torch\n",
        "import torch.nn as nn\n",
        "import torch.nn.functional as F\n",
        "from tqdm import tqdm_notebook as tqdm\n",
        "import pylab as plt\n",
        "from torch.autograd import Function\n",
        "from torch import optim\n",
        "from torch.utils.tensorboard import SummaryWriter\n",
        "import logging\n",
        "from torchvision import transforms\n",
        "from random import randrange"
      ],
      "execution_count": 0,
      "outputs": []
    },
    {
      "cell_type": "markdown",
      "metadata": {
        "id": "UZwv6XLLGqwL",
        "colab_type": "text"
      },
      "source": [
        "##### Cargue del Modelo"
      ]
    },
    {
      "cell_type": "code",
      "metadata": {
        "id": "SYnSkkKgGu70",
        "colab_type": "code",
        "outputId": "ac8868e2-7436-4f6f-cfd0-7ef95149130f",
        "colab": {
          "base_uri": "https://localhost:8080/"
        }
      },
      "source": [
        "root = 'check/ADAM-SUM/c2/CP_epoch8.pth'\n",
        "net = UNet(3,4,1)\n",
        "net.load_state_dict(torch.load(root))"
      ],
      "execution_count": 0,
      "outputs": [
        {
          "output_type": "execute_result",
          "data": {
            "text/plain": [
              "<All keys matched successfully>"
            ]
          },
          "metadata": {
            "tags": []
          },
          "execution_count": 6
        }
      ]
    },
    {
      "cell_type": "markdown",
      "metadata": {
        "id": "aJRmOx7fLiOS",
        "colab_type": "text"
      },
      "source": [
        "##### DataSet"
      ]
    },
    {
      "cell_type": "code",
      "metadata": {
        "id": "QGCI_xwTLmJW",
        "colab_type": "code",
        "colab": {}
      },
      "source": [
        "transform_img = transforms.Compose([transforms.Resize(700) , transforms.ToTensor()])\n",
        "val_dataset = CloudDataSet(csv_file ='set_test.csv', root_dir='./train_images/',transform = transform_img)"
      ],
      "execution_count": 0,
      "outputs": []
    },
    {
      "cell_type": "code",
      "metadata": {
        "id": "OngDnmTZPtl3",
        "colab_type": "code",
        "outputId": "139ac680-e4f6-474d-a8c7-8e2d52d8f474",
        "colab": {
          "base_uri": "https://localhost:8080/",
          "height": 34
        }
      },
      "source": [
        "val_dataset[0]['mask'].shape"
      ],
      "execution_count": 0,
      "outputs": [
        {
          "output_type": "execute_result",
          "data": {
            "text/plain": [
              "torch.Size([4, 700, 1050])"
            ]
          },
          "metadata": {
            "tags": []
          },
          "execution_count": 8
        }
      ]
    },
    {
      "cell_type": "markdown",
      "metadata": {
        "id": "058jge4FSHG6",
        "colab_type": "text"
      },
      "source": [
        "##### Visualización resultados"
      ]
    },
    {
      "cell_type": "code",
      "metadata": {
        "id": "LmJaZsBjw_5e",
        "colab_type": "code",
        "outputId": "95c4ee98-3504-4dfe-c893-fc43c1933ee6",
        "colab": {
          "base_uri": "https://localhost:8080/",
          "height": 197
        }
      },
      "source": [
        "muestra = randrange(1367)\n",
        "print(muestra)\n",
        "real_vs_pred(muestra,val_dataset,net,alpha=0.3)"
      ],
      "execution_count": 0,
      "outputs": [
        {
          "output_type": "error",
          "ename": "NameError",
          "evalue": "ignored",
          "traceback": [
            "\u001b[0;31m---------------------------------------------------------------------------\u001b[0m",
            "\u001b[0;31mNameError\u001b[0m                                 Traceback (most recent call last)",
            "\u001b[0;32m<ipython-input-2-c373afdbffb2>\u001b[0m in \u001b[0;36m<module>\u001b[0;34m()\u001b[0m\n\u001b[0;32m----> 1\u001b[0;31m \u001b[0mmuestra\u001b[0m \u001b[0;34m=\u001b[0m \u001b[0mrandrange\u001b[0m\u001b[0;34m(\u001b[0m\u001b[0;36m1367\u001b[0m\u001b[0;34m)\u001b[0m\u001b[0;34m\u001b[0m\u001b[0;34m\u001b[0m\u001b[0m\n\u001b[0m\u001b[1;32m      2\u001b[0m \u001b[0mprint\u001b[0m\u001b[0;34m(\u001b[0m\u001b[0mmuestra\u001b[0m\u001b[0;34m)\u001b[0m\u001b[0;34m\u001b[0m\u001b[0;34m\u001b[0m\u001b[0m\n\u001b[1;32m      3\u001b[0m \u001b[0mreal_vs_pred\u001b[0m\u001b[0;34m(\u001b[0m\u001b[0mmuestra\u001b[0m\u001b[0;34m,\u001b[0m\u001b[0mval_dataset\u001b[0m\u001b[0;34m,\u001b[0m\u001b[0mnet\u001b[0m\u001b[0;34m,\u001b[0m\u001b[0malpha\u001b[0m\u001b[0;34m=\u001b[0m\u001b[0;36m0.3\u001b[0m\u001b[0;34m)\u001b[0m\u001b[0;34m\u001b[0m\u001b[0;34m\u001b[0m\u001b[0m\n",
            "\u001b[0;31mNameError\u001b[0m: name 'randrange' is not defined"
          ]
        }
      ]
    }
  ]
}