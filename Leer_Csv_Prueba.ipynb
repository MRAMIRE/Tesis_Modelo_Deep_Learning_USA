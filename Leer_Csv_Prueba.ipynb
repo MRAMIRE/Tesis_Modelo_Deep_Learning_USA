{
  "nbformat": 4,
  "nbformat_minor": 0,
  "metadata": {
    "colab": {
      "name": "Leer-Csv-Prueba",
      "provenance": [],
      "private_outputs": true,
      "collapsed_sections": [],
      "machine_shape": "hm",
      "include_colab_link": true
    },
    "kernelspec": {
      "name": "python3",
      "display_name": "Python 3"
    },
    "accelerator": "TPU"
  },
  "cells": [
    {
      "cell_type": "markdown",
      "metadata": {
        "id": "view-in-github",
        "colab_type": "text"
      },
      "source": [
        "<a href=\"https://colab.research.google.com/github/MRAMIRE/Tesis_Modelo_Deep_Learning_USA/blob/master/Leer_Csv_Prueba.ipynb\" target=\"_parent\"><img src=\"https://colab.research.google.com/assets/colab-badge.svg\" alt=\"Open In Colab\"/></a>"
      ]
    },
    {
      "cell_type": "code",
      "metadata": {
        "id": "QZaJD78ZrSEW",
        "colab_type": "code",
        "colab": {}
      },
      "source": [
        "from google.colab import drive\n",
        "import os\n",
        "import cv2\n",
        "import numpy as np\n",
        "import pandas as pd\n",
        "import matplotlib\n",
        "import pylab as plt\n",
        "%matplotlib inline"
      ],
      "execution_count": 0,
      "outputs": []
    },
    {
      "cell_type": "code",
      "metadata": {
        "id": "TptEwgX-rWK6",
        "colab_type": "code",
        "colab": {}
      },
      "source": [
        "#Permisos\n",
        "drive.mount('/gdrive')\n",
        "\n",
        "#Cambio de Directorio\n",
        "%cd /gdrive/My\\ Drive/Tesis\n",
        "%ls"
      ],
      "execution_count": 0,
      "outputs": []
    },
    {
      "cell_type": "code",
      "metadata": {
        "id": "cETQ7ugUrrub",
        "colab_type": "code",
        "colab": {}
      },
      "source": [
        "#Lectura archivo csv train\n",
        "df_train = pd.read_csv('train.csv')\n",
        "df_train.head()"
      ],
      "execution_count": 0,
      "outputs": []
    },
    {
      "cell_type": "code",
      "metadata": {
        "id": "aFMiFM40r7Fs",
        "colab_type": "code",
        "colab": {}
      },
      "source": [
        "# Porcentaje de nulos\n",
        "labels = 'Con Etiqueta', 'Nulos'\n",
        "sizes = [df_train.EncodedPixels.count(), len(df_train) - df_train.EncodedPixels.count()]\n",
        "explode = (0, 0.1)\n",
        "\n",
        "fig, ax = plt.subplots(figsize=(6, 6))\n",
        "colores= ['#D8BFD8','#3CB371']\n",
        "ax.pie(sizes, explode=explode, labels=labels, autopct='%1.1f%%', colors=colores)\n",
        "ax.axis('equal')\n",
        "ax.set_title('Datos con EncodedPixels nulos')\n",
        "plt.show()"
      ],
      "execution_count": 0,
      "outputs": []
    },
    {
      "cell_type": "code",
      "metadata": {
        "id": "AAl3BQz1t6B_",
        "colab_type": "code",
        "colab": {}
      },
      "source": [
        "# Separar columna\n",
        "df_split = df_train[\"Image_Label\"].str.split(\"_\", n = 1, expand = True)\n",
        "# Agregar nueva columna a df_train\n",
        "df_train['Image'] = df_split[0]\n",
        "df_train['Label'] = df_split[1]\n",
        "\n",
        "df_train.head()"
      ],
      "execution_count": 0,
      "outputs": []
    },
    {
      "cell_type": "code",
      "metadata": {
        "id": "5X6DSEDx0bj0",
        "colab_type": "code",
        "colab": {}
      },
      "source": [
        "fish = df_train[df_train['Label'] == 'Fish'].EncodedPixels.count()\n",
        "flower = df_train[df_train['Label'] == 'Flower'].EncodedPixels.count()\n",
        "gravel = df_train[df_train['Label'] == 'Gravel'].EncodedPixels.count()\n",
        "sugar = df_train[df_train['Label'] == 'Sugar'].EncodedPixels.count()\n",
        "\n",
        "labels = 'Fish', 'Flower', 'Gravel', 'Sugar'\n",
        "sizes = [fish, flower, gravel, sugar]\n",
        "\n",
        "fig, ax = plt.subplots(figsize=(6, 6))\n",
        "colores= ['#FFA07A','#D8BFD8','#66CDAA','#FFDEAD']\n",
        "ax.pie(sizes, labels=labels, autopct='%1.1f%%', colors=colores)\n",
        "ax.axis('equal')\n",
        "ax.set_title('Labels')\n",
        "\n",
        "plt.show()"
      ],
      "execution_count": 0,
      "outputs": []
    },
    {
      "cell_type": "code",
      "metadata": {
        "id": "W9X24F-5vS-6",
        "colab_type": "code",
        "colab": {}
      },
      "source": [
        "# create dummy columns for each cloud type\n",
        "corr_df = pd.get_dummies(df_train, columns = ['Label'])\n",
        "# fill null values with '-1'\n",
        "corr_df = corr_df.fillna('-1')\n",
        "\n",
        "# define a helper function to fill dummy columns\n",
        "def get_dummy_value(row, cloud_type):\n",
        "    ''' Get value for dummy column '''\n",
        "    if cloud_type == 'fish':\n",
        "        return row['Label_Fish'] * (row['EncodedPixels'] != '-1')\n",
        "    if cloud_type == 'flower':\n",
        "        return row['Label_Flower'] * (row['EncodedPixels'] != '-1')\n",
        "    if cloud_type == 'gravel':\n",
        "        return row['Label_Gravel'] * (row['EncodedPixels'] != '-1')\n",
        "    if cloud_type == 'sugar':\n",
        "        return row['Label_Sugar'] * (row['EncodedPixels'] != '-1')\n",
        "    \n",
        "# fill dummy columns\n",
        "corr_df['Label_Fish'] = corr_df.apply(lambda row: get_dummy_value(row, 'fish'), axis=1)\n",
        "corr_df['Label_Flower'] = corr_df.apply(lambda row: get_dummy_value(row, 'flower'), axis=1)\n",
        "corr_df['Label_Gravel'] = corr_df.apply(lambda row: get_dummy_value(row, 'gravel'), axis=1)\n",
        "corr_df['Label_Sugar'] = corr_df.apply(lambda row: get_dummy_value(row, 'sugar'), axis=1)\n",
        "\n",
        "# check the result\n",
        "corr_df.head()"
      ],
      "execution_count": 0,
      "outputs": []
    },
    {
      "cell_type": "code",
      "metadata": {
        "id": "s1iz4WZadvKH",
        "colab_type": "code",
        "colab": {}
      },
      "source": [
        "ruta = \"/gdrive/My\\ Drive/Tesis\"\n",
        "corr_df.to_csv(ruta)"
      ],
      "execution_count": 0,
      "outputs": []
    },
    {
      "cell_type": "code",
      "metadata": {
        "id": "L0eroDcqxVta",
        "colab_type": "code",
        "colab": {}
      },
      "source": [
        "def rle_to_mask(rle_string, height, width):\n",
        "\n",
        "    rows, cols = height, width\n",
        "    if rle_string == '-1':\n",
        "      img = np.zeros(rows*cols, dtype=np.uint8)\n",
        "      img = img.reshape(1,rows*cols)\n",
        "      img = img.T\n",
        "      return img\n",
        "    else:\n",
        "      rle_numbers = [int(num_string) for num_string in rle_string.split(' ')]\n",
        "      rle_pairs = np.array(rle_numbers).reshape(-1,2)\n",
        "      img = np.zeros(rows*cols, dtype=np.uint8)\n",
        "      for index, length in rle_pairs:\n",
        "            index -= 1\n",
        "            img[index:index+length] = 255\n",
        "      img = img.reshape(1,cols*rows)\n",
        "      img = img.T\n",
        "      return img"
      ],
      "execution_count": 0,
      "outputs": []
    },
    {
      "cell_type": "code",
      "metadata": {
        "id": "sKVOowpWxMsx",
        "colab_type": "code",
        "colab": {}
      },
      "source": [
        "## 1er loop para crear todo mask\n",
        "mask = []\n",
        "for i in corr_df['EncodedPixels'][0:4437]:\n",
        "  # Load image\n",
        "  mk = rle_to_mask(i,1400,2100)\n",
        "  mask.append(mk)\n",
        "\n",
        "#mask = np.asarray(mask)\n",
        "#mask.shape"
      ],
      "execution_count": 0,
      "outputs": []
    },
    {
      "cell_type": "code",
      "metadata": {
        "colab_type": "code",
        "id": "1VMTAa8zYHIb",
        "colab": {}
      },
      "source": [
        "## 2do loop para crear todo mask\n",
        "for i in corr_df['EncodedPixels'][4438:8875]:\n",
        "  # Load image\n",
        "  mk = rle_to_mask(i,1400,2100)\n",
        "  mask.append(mk)\n",
        "\n",
        "#mask = np.asarray(mask)\n",
        "#mask.shape"
      ],
      "execution_count": 0,
      "outputs": []
    },
    {
      "cell_type": "code",
      "metadata": {
        "id": "66QEUlhDYca6",
        "colab_type": "code",
        "colab": {}
      },
      "source": [
        "## 3er loop para crear todo mask\n",
        "for i in corr_df['EncodedPixels'][8876:13312]:\n",
        "  # Load image\n",
        "  mk = rle_to_mask(i,1400,2100)\n",
        "  mask.append(mk)\n",
        "\n",
        "#mask = np.asarray(mask)\n",
        "#mask.shape"
      ],
      "execution_count": 0,
      "outputs": []
    },
    {
      "cell_type": "code",
      "metadata": {
        "id": "tRPEk2axYGk4",
        "colab_type": "code",
        "colab": {}
      },
      "source": [
        "## 4to loop para crear todo mask\n",
        "for i in corr_df['EncodedPixels'][13313:17749]:\n",
        "  # Load image\n",
        "  mk = rle_to_mask(i,1400,2100)\n",
        "  mask.append(mk)\n",
        "\n",
        "#mask = np.asarray(mask)\n",
        "#mask.shape"
      ],
      "execution_count": 0,
      "outputs": []
    },
    {
      "cell_type": "code",
      "metadata": {
        "id": "RKOZHjaLYxsL",
        "colab_type": "code",
        "colab": {}
      },
      "source": [
        "## 5to loop para crear todo mask\n",
        "for i in corr_df['EncodedPixels'][17750:22183]:\n",
        "  # Load image\n",
        "  mk = rle_to_mask(i,1400,2100)\n",
        "  mask.append(mk)\n",
        "\n",
        "mask = np.asarray(mask)\n",
        "mask.shape"
      ],
      "execution_count": 0,
      "outputs": []
    }
  ]
}